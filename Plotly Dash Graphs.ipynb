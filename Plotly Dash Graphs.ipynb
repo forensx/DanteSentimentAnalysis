{
 "cells": [
  {
   "cell_type": "markdown",
   "metadata": {},
   "source": [
    "# Plotly Dash Graphs"
   ]
  },
  {
   "cell_type": "code",
   "execution_count": 15,
   "metadata": {},
   "outputs": [],
   "source": [
    "import pandas as pd\n",
    "import numpy as np\n",
    "import plotly.graph_objects as go\n"
   ]
  },
  {
   "cell_type": "code",
   "execution_count": 16,
   "metadata": {},
   "outputs": [],
   "source": [
    "df_inferno = pd.read_csv('data/infernoderivative.csv')\n",
    "df_purgatorio = pd.read_csv('data/purgatorioderivative.csv')\n",
    "df_paradiso = pd.read_csv('data/paradisoderivative.csv')"
   ]
  },
  {
   "cell_type": "code",
   "execution_count": 17,
   "metadata": {},
   "outputs": [
    {
     "data": {
      "text/html": [
       "<div>\n",
       "<style scoped>\n",
       "    .dataframe tbody tr th:only-of-type {\n",
       "        vertical-align: middle;\n",
       "    }\n",
       "\n",
       "    .dataframe tbody tr th {\n",
       "        vertical-align: top;\n",
       "    }\n",
       "\n",
       "    .dataframe thead th {\n",
       "        text-align: right;\n",
       "    }\n",
       "</style>\n",
       "<table border=\"1\" class=\"dataframe\">\n",
       "  <thead>\n",
       "    <tr style=\"text-align: right;\">\n",
       "      <th></th>\n",
       "      <th>Sentiment</th>\n",
       "      <th>Canto</th>\n",
       "      <th>FirstDerivative</th>\n",
       "      <th>SecondDerivative</th>\n",
       "    </tr>\n",
       "  </thead>\n",
       "  <tbody>\n",
       "    <tr>\n",
       "      <th>0</th>\n",
       "      <td>0.120660</td>\n",
       "      <td>1.0</td>\n",
       "      <td>-0.042392</td>\n",
       "      <td>-0.032975</td>\n",
       "    </tr>\n",
       "    <tr>\n",
       "      <th>1</th>\n",
       "      <td>0.078267</td>\n",
       "      <td>2.0</td>\n",
       "      <td>-0.075368</td>\n",
       "      <td>0.067460</td>\n",
       "    </tr>\n",
       "    <tr>\n",
       "      <th>2</th>\n",
       "      <td>0.002900</td>\n",
       "      <td>3.0</td>\n",
       "      <td>-0.007907</td>\n",
       "      <td>-0.010704</td>\n",
       "    </tr>\n",
       "    <tr>\n",
       "      <th>3</th>\n",
       "      <td>-0.005007</td>\n",
       "      <td>4.0</td>\n",
       "      <td>-0.018611</td>\n",
       "      <td>0.123785</td>\n",
       "    </tr>\n",
       "    <tr>\n",
       "      <th>4</th>\n",
       "      <td>-0.023619</td>\n",
       "      <td>5.0</td>\n",
       "      <td>0.105174</td>\n",
       "      <td>-0.090124</td>\n",
       "    </tr>\n",
       "  </tbody>\n",
       "</table>\n",
       "</div>"
      ],
      "text/plain": [
       "   Sentiment  Canto  FirstDerivative  SecondDerivative\n",
       "0   0.120660    1.0        -0.042392         -0.032975\n",
       "1   0.078267    2.0        -0.075368          0.067460\n",
       "2   0.002900    3.0        -0.007907         -0.010704\n",
       "3  -0.005007    4.0        -0.018611          0.123785\n",
       "4  -0.023619    5.0         0.105174         -0.090124"
      ]
     },
     "execution_count": 17,
     "metadata": {},
     "output_type": "execute_result"
    }
   ],
   "source": [
    "df_inferno.head()"
   ]
  },
  {
   "cell_type": "code",
   "execution_count": 18,
   "metadata": {},
   "outputs": [
    {
     "data": {
      "text/html": [
       "<div>\n",
       "<style scoped>\n",
       "    .dataframe tbody tr th:only-of-type {\n",
       "        vertical-align: middle;\n",
       "    }\n",
       "\n",
       "    .dataframe tbody tr th {\n",
       "        vertical-align: top;\n",
       "    }\n",
       "\n",
       "    .dataframe thead th {\n",
       "        text-align: right;\n",
       "    }\n",
       "</style>\n",
       "<table border=\"1\" class=\"dataframe\">\n",
       "  <thead>\n",
       "    <tr style=\"text-align: right;\">\n",
       "      <th></th>\n",
       "      <th>Sentiment</th>\n",
       "      <th>Canto</th>\n",
       "      <th>FirstDerivative</th>\n",
       "      <th>SecondDerivative</th>\n",
       "    </tr>\n",
       "  </thead>\n",
       "  <tbody>\n",
       "    <tr>\n",
       "      <th>0</th>\n",
       "      <td>0.043693</td>\n",
       "      <td>1.0</td>\n",
       "      <td>0.012150</td>\n",
       "      <td>-0.001620</td>\n",
       "    </tr>\n",
       "    <tr>\n",
       "      <th>1</th>\n",
       "      <td>0.055843</td>\n",
       "      <td>2.0</td>\n",
       "      <td>0.010530</td>\n",
       "      <td>-0.052302</td>\n",
       "    </tr>\n",
       "    <tr>\n",
       "      <th>2</th>\n",
       "      <td>0.066373</td>\n",
       "      <td>3.0</td>\n",
       "      <td>-0.041772</td>\n",
       "      <td>0.066357</td>\n",
       "    </tr>\n",
       "    <tr>\n",
       "      <th>3</th>\n",
       "      <td>0.024601</td>\n",
       "      <td>4.0</td>\n",
       "      <td>0.024586</td>\n",
       "      <td>-0.012046</td>\n",
       "    </tr>\n",
       "    <tr>\n",
       "      <th>4</th>\n",
       "      <td>0.049187</td>\n",
       "      <td>5.0</td>\n",
       "      <td>0.012540</td>\n",
       "      <td>0.060467</td>\n",
       "    </tr>\n",
       "  </tbody>\n",
       "</table>\n",
       "</div>"
      ],
      "text/plain": [
       "   Sentiment  Canto  FirstDerivative  SecondDerivative\n",
       "0   0.043693    1.0         0.012150         -0.001620\n",
       "1   0.055843    2.0         0.010530         -0.052302\n",
       "2   0.066373    3.0        -0.041772          0.066357\n",
       "3   0.024601    4.0         0.024586         -0.012046\n",
       "4   0.049187    5.0         0.012540          0.060467"
      ]
     },
     "execution_count": 18,
     "metadata": {},
     "output_type": "execute_result"
    }
   ],
   "source": [
    "df_purgatorio.head()"
   ]
  },
  {
   "cell_type": "code",
   "execution_count": 19,
   "metadata": {},
   "outputs": [
    {
     "data": {
      "text/html": [
       "<div>\n",
       "<style scoped>\n",
       "    .dataframe tbody tr th:only-of-type {\n",
       "        vertical-align: middle;\n",
       "    }\n",
       "\n",
       "    .dataframe tbody tr th {\n",
       "        vertical-align: top;\n",
       "    }\n",
       "\n",
       "    .dataframe thead th {\n",
       "        text-align: right;\n",
       "    }\n",
       "</style>\n",
       "<table border=\"1\" class=\"dataframe\">\n",
       "  <thead>\n",
       "    <tr style=\"text-align: right;\">\n",
       "      <th></th>\n",
       "      <th>Sentiment</th>\n",
       "      <th>Canto</th>\n",
       "      <th>FirstDerivative</th>\n",
       "      <th>SecondDerivative</th>\n",
       "    </tr>\n",
       "  </thead>\n",
       "  <tbody>\n",
       "    <tr>\n",
       "      <th>0</th>\n",
       "      <td>0.182123</td>\n",
       "      <td>1.0</td>\n",
       "      <td>-0.061487</td>\n",
       "      <td>0.078353</td>\n",
       "    </tr>\n",
       "    <tr>\n",
       "      <th>1</th>\n",
       "      <td>0.120637</td>\n",
       "      <td>2.0</td>\n",
       "      <td>0.016867</td>\n",
       "      <td>0.031260</td>\n",
       "    </tr>\n",
       "    <tr>\n",
       "      <th>2</th>\n",
       "      <td>0.137503</td>\n",
       "      <td>3.0</td>\n",
       "      <td>0.048127</td>\n",
       "      <td>-0.151489</td>\n",
       "    </tr>\n",
       "    <tr>\n",
       "      <th>3</th>\n",
       "      <td>0.185630</td>\n",
       "      <td>4.0</td>\n",
       "      <td>-0.103363</td>\n",
       "      <td>0.110201</td>\n",
       "    </tr>\n",
       "    <tr>\n",
       "      <th>4</th>\n",
       "      <td>0.082267</td>\n",
       "      <td>5.0</td>\n",
       "      <td>0.006839</td>\n",
       "      <td>0.035931</td>\n",
       "    </tr>\n",
       "  </tbody>\n",
       "</table>\n",
       "</div>"
      ],
      "text/plain": [
       "   Sentiment  Canto  FirstDerivative  SecondDerivative\n",
       "0   0.182123    1.0        -0.061487          0.078353\n",
       "1   0.120637    2.0         0.016867          0.031260\n",
       "2   0.137503    3.0         0.048127         -0.151489\n",
       "3   0.185630    4.0        -0.103363          0.110201\n",
       "4   0.082267    5.0         0.006839          0.035931"
      ]
     },
     "execution_count": 19,
     "metadata": {},
     "output_type": "execute_result"
    }
   ],
   "source": [
    "df_paradiso.head()"
   ]
  },
  {
   "cell_type": "code",
   "execution_count": 20,
   "metadata": {},
   "outputs": [
    {
     "data": {
      "application/vnd.plotly.v1+json": {
       "config": {
        "plotlyServerURL": "https://plot.ly"
       },
       "data": [
        {
         "mode": "lines+markers",
         "name": "Sentiment Polarity",
         "type": "scatter",
         "x": [
          1,
          2,
          3,
          4,
          5,
          6,
          7,
          8,
          9,
          10,
          11,
          12,
          13,
          14,
          15,
          16,
          17,
          18,
          19,
          20,
          21,
          22,
          23,
          24,
          25,
          26,
          27,
          28,
          29,
          30,
          31,
          32,
          33,
          34
         ],
         "y": [
          0.1206595663723731,
          0.07826745237942158,
          0.002899906872826605,
          -0.005007497994471373,
          -0.023618803592490568,
          0.08155505463429141,
          0.09660443997294008,
          0.03312524846533047,
          0.030205952552748293,
          0.03770484018134869,
          0.0443711452623351,
          0.08690917354641714,
          0.06738916582464606,
          -0.00866304113570265,
          -0.019246777686794763,
          0.05853644273161265,
          -0.0016897458806796788,
          0.017995212574997657,
          0.08534561629716042,
          0.07581786336389114,
          0.02051746328109157,
          0.016682648512384313,
          -0.029471352634626975,
          0.010583220879561015,
          0.026100393028048046,
          0.035427716283105704,
          -0.09002305288592642,
          0.002589137935575927,
          0.05515459206056352,
          0.04411083197625172,
          0.10550603989153673,
          -0.03655318072682757,
          0.022891711784783168,
          0.0547343734156274
         ]
        },
        {
         "mode": "lines",
         "name": "First Derivative",
         "type": "scatter",
         "x": [
          1,
          2,
          3,
          4,
          5,
          6,
          7,
          8,
          9,
          10,
          11,
          12,
          13,
          14,
          15,
          16,
          17,
          18,
          19,
          20,
          21,
          22,
          23,
          24,
          25,
          26,
          27,
          28,
          29,
          30,
          31,
          32,
          33,
          34
         ],
         "y": [
          -0.04239211399295152,
          -0.07536754550659497,
          -0.007907404867297978,
          -0.018611305598019198,
          0.10517385822678198,
          0.015049385338648663,
          -0.06347919150760961,
          -0.002919295912582179,
          0.007498887628600397,
          0.006666305080986409,
          0.042538028284082034,
          -0.019520007721771083,
          -0.07605220696034871,
          -0.010583736551092113,
          0.07778322041840742,
          -0.060226188612292335,
          0.01968495845567733,
          0.06735040372216276,
          -0.009527752933269282,
          -0.055300400082799565,
          -0.003834814768707257,
          -0.046154001147011285,
          0.040054573514188,
          0.015517172148487031,
          0.009327323255057656,
          -0.12545076916903214,
          0.09261219082150236,
          0.05256545412498759,
          -0.011043760084311792,
          0.061395207915285015,
          -0.1420592206183643,
          0.05944489251161074,
          0.03184266163084423,
          0.03184266163084423
         ]
        },
        {
         "mode": "lines",
         "name": "Second Derivative",
         "type": "scatter",
         "x": [
          1,
          2,
          3,
          4,
          5,
          6,
          7,
          8,
          9,
          10,
          11,
          12,
          13,
          14,
          15,
          16,
          17,
          18,
          19,
          20,
          21,
          22,
          23,
          24,
          25,
          26,
          27,
          28,
          29,
          30,
          31,
          32,
          33,
          34
         ],
         "y": [
          -0.03297543151364345,
          0.06746014063929699,
          -0.010703900730721215,
          0.12378516382480118,
          -0.09012447288813333,
          -0.07852857684625827,
          0.060559895595027426,
          0.010418183541182577,
          -0.0008325825476139873,
          0.03587172320309563,
          -0.06205803600585313,
          -0.056532199238577635,
          0.0654684704092566,
          0.08836695696949952,
          -0.13800940903069975,
          0.07991114706796967,
          0.04766544526648543,
          -0.07687815665543205,
          -0.04577264714953029,
          0.051465585314092316,
          -0.042319186378304036,
          0.08620857466119929,
          -0.024537401365700963,
          -0.0061898488934293725,
          -0.1347780924240898,
          0.2180629599905345,
          -0.04004673669651476,
          -0.06360921420929938,
          0.0724389679995968,
          -0.2034544285336493,
          0.20150411312997504,
          -0.02760223088076651,
          0,
          0
         ]
        }
       ],
       "layout": {
        "plot_bgcolor": "white",
        "showlegend": true,
        "template": {
         "data": {
          "bar": [
           {
            "error_x": {
             "color": "#2a3f5f"
            },
            "error_y": {
             "color": "#2a3f5f"
            },
            "marker": {
             "line": {
              "color": "#E5ECF6",
              "width": 0.5
             }
            },
            "type": "bar"
           }
          ],
          "barpolar": [
           {
            "marker": {
             "line": {
              "color": "#E5ECF6",
              "width": 0.5
             }
            },
            "type": "barpolar"
           }
          ],
          "carpet": [
           {
            "aaxis": {
             "endlinecolor": "#2a3f5f",
             "gridcolor": "white",
             "linecolor": "white",
             "minorgridcolor": "white",
             "startlinecolor": "#2a3f5f"
            },
            "baxis": {
             "endlinecolor": "#2a3f5f",
             "gridcolor": "white",
             "linecolor": "white",
             "minorgridcolor": "white",
             "startlinecolor": "#2a3f5f"
            },
            "type": "carpet"
           }
          ],
          "choropleth": [
           {
            "colorbar": {
             "outlinewidth": 0,
             "ticks": ""
            },
            "type": "choropleth"
           }
          ],
          "contour": [
           {
            "colorbar": {
             "outlinewidth": 0,
             "ticks": ""
            },
            "colorscale": [
             [
              0,
              "#0d0887"
             ],
             [
              0.1111111111111111,
              "#46039f"
             ],
             [
              0.2222222222222222,
              "#7201a8"
             ],
             [
              0.3333333333333333,
              "#9c179e"
             ],
             [
              0.4444444444444444,
              "#bd3786"
             ],
             [
              0.5555555555555556,
              "#d8576b"
             ],
             [
              0.6666666666666666,
              "#ed7953"
             ],
             [
              0.7777777777777778,
              "#fb9f3a"
             ],
             [
              0.8888888888888888,
              "#fdca26"
             ],
             [
              1,
              "#f0f921"
             ]
            ],
            "type": "contour"
           }
          ],
          "contourcarpet": [
           {
            "colorbar": {
             "outlinewidth": 0,
             "ticks": ""
            },
            "type": "contourcarpet"
           }
          ],
          "heatmap": [
           {
            "colorbar": {
             "outlinewidth": 0,
             "ticks": ""
            },
            "colorscale": [
             [
              0,
              "#0d0887"
             ],
             [
              0.1111111111111111,
              "#46039f"
             ],
             [
              0.2222222222222222,
              "#7201a8"
             ],
             [
              0.3333333333333333,
              "#9c179e"
             ],
             [
              0.4444444444444444,
              "#bd3786"
             ],
             [
              0.5555555555555556,
              "#d8576b"
             ],
             [
              0.6666666666666666,
              "#ed7953"
             ],
             [
              0.7777777777777778,
              "#fb9f3a"
             ],
             [
              0.8888888888888888,
              "#fdca26"
             ],
             [
              1,
              "#f0f921"
             ]
            ],
            "type": "heatmap"
           }
          ],
          "heatmapgl": [
           {
            "colorbar": {
             "outlinewidth": 0,
             "ticks": ""
            },
            "colorscale": [
             [
              0,
              "#0d0887"
             ],
             [
              0.1111111111111111,
              "#46039f"
             ],
             [
              0.2222222222222222,
              "#7201a8"
             ],
             [
              0.3333333333333333,
              "#9c179e"
             ],
             [
              0.4444444444444444,
              "#bd3786"
             ],
             [
              0.5555555555555556,
              "#d8576b"
             ],
             [
              0.6666666666666666,
              "#ed7953"
             ],
             [
              0.7777777777777778,
              "#fb9f3a"
             ],
             [
              0.8888888888888888,
              "#fdca26"
             ],
             [
              1,
              "#f0f921"
             ]
            ],
            "type": "heatmapgl"
           }
          ],
          "histogram": [
           {
            "marker": {
             "colorbar": {
              "outlinewidth": 0,
              "ticks": ""
             }
            },
            "type": "histogram"
           }
          ],
          "histogram2d": [
           {
            "colorbar": {
             "outlinewidth": 0,
             "ticks": ""
            },
            "colorscale": [
             [
              0,
              "#0d0887"
             ],
             [
              0.1111111111111111,
              "#46039f"
             ],
             [
              0.2222222222222222,
              "#7201a8"
             ],
             [
              0.3333333333333333,
              "#9c179e"
             ],
             [
              0.4444444444444444,
              "#bd3786"
             ],
             [
              0.5555555555555556,
              "#d8576b"
             ],
             [
              0.6666666666666666,
              "#ed7953"
             ],
             [
              0.7777777777777778,
              "#fb9f3a"
             ],
             [
              0.8888888888888888,
              "#fdca26"
             ],
             [
              1,
              "#f0f921"
             ]
            ],
            "type": "histogram2d"
           }
          ],
          "histogram2dcontour": [
           {
            "colorbar": {
             "outlinewidth": 0,
             "ticks": ""
            },
            "colorscale": [
             [
              0,
              "#0d0887"
             ],
             [
              0.1111111111111111,
              "#46039f"
             ],
             [
              0.2222222222222222,
              "#7201a8"
             ],
             [
              0.3333333333333333,
              "#9c179e"
             ],
             [
              0.4444444444444444,
              "#bd3786"
             ],
             [
              0.5555555555555556,
              "#d8576b"
             ],
             [
              0.6666666666666666,
              "#ed7953"
             ],
             [
              0.7777777777777778,
              "#fb9f3a"
             ],
             [
              0.8888888888888888,
              "#fdca26"
             ],
             [
              1,
              "#f0f921"
             ]
            ],
            "type": "histogram2dcontour"
           }
          ],
          "mesh3d": [
           {
            "colorbar": {
             "outlinewidth": 0,
             "ticks": ""
            },
            "type": "mesh3d"
           }
          ],
          "parcoords": [
           {
            "line": {
             "colorbar": {
              "outlinewidth": 0,
              "ticks": ""
             }
            },
            "type": "parcoords"
           }
          ],
          "scatter": [
           {
            "marker": {
             "colorbar": {
              "outlinewidth": 0,
              "ticks": ""
             }
            },
            "type": "scatter"
           }
          ],
          "scatter3d": [
           {
            "line": {
             "colorbar": {
              "outlinewidth": 0,
              "ticks": ""
             }
            },
            "marker": {
             "colorbar": {
              "outlinewidth": 0,
              "ticks": ""
             }
            },
            "type": "scatter3d"
           }
          ],
          "scattercarpet": [
           {
            "marker": {
             "colorbar": {
              "outlinewidth": 0,
              "ticks": ""
             }
            },
            "type": "scattercarpet"
           }
          ],
          "scattergeo": [
           {
            "marker": {
             "colorbar": {
              "outlinewidth": 0,
              "ticks": ""
             }
            },
            "type": "scattergeo"
           }
          ],
          "scattergl": [
           {
            "marker": {
             "colorbar": {
              "outlinewidth": 0,
              "ticks": ""
             }
            },
            "type": "scattergl"
           }
          ],
          "scattermapbox": [
           {
            "marker": {
             "colorbar": {
              "outlinewidth": 0,
              "ticks": ""
             }
            },
            "type": "scattermapbox"
           }
          ],
          "scatterpolar": [
           {
            "marker": {
             "colorbar": {
              "outlinewidth": 0,
              "ticks": ""
             }
            },
            "type": "scatterpolar"
           }
          ],
          "scatterpolargl": [
           {
            "marker": {
             "colorbar": {
              "outlinewidth": 0,
              "ticks": ""
             }
            },
            "type": "scatterpolargl"
           }
          ],
          "scatterternary": [
           {
            "marker": {
             "colorbar": {
              "outlinewidth": 0,
              "ticks": ""
             }
            },
            "type": "scatterternary"
           }
          ],
          "surface": [
           {
            "colorbar": {
             "outlinewidth": 0,
             "ticks": ""
            },
            "colorscale": [
             [
              0,
              "#0d0887"
             ],
             [
              0.1111111111111111,
              "#46039f"
             ],
             [
              0.2222222222222222,
              "#7201a8"
             ],
             [
              0.3333333333333333,
              "#9c179e"
             ],
             [
              0.4444444444444444,
              "#bd3786"
             ],
             [
              0.5555555555555556,
              "#d8576b"
             ],
             [
              0.6666666666666666,
              "#ed7953"
             ],
             [
              0.7777777777777778,
              "#fb9f3a"
             ],
             [
              0.8888888888888888,
              "#fdca26"
             ],
             [
              1,
              "#f0f921"
             ]
            ],
            "type": "surface"
           }
          ],
          "table": [
           {
            "cells": {
             "fill": {
              "color": "#EBF0F8"
             },
             "line": {
              "color": "white"
             }
            },
            "header": {
             "fill": {
              "color": "#C8D4E3"
             },
             "line": {
              "color": "white"
             }
            },
            "type": "table"
           }
          ]
         },
         "layout": {
          "annotationdefaults": {
           "arrowcolor": "#2a3f5f",
           "arrowhead": 0,
           "arrowwidth": 1
          },
          "colorscale": {
           "diverging": [
            [
             0,
             "#8e0152"
            ],
            [
             0.1,
             "#c51b7d"
            ],
            [
             0.2,
             "#de77ae"
            ],
            [
             0.3,
             "#f1b6da"
            ],
            [
             0.4,
             "#fde0ef"
            ],
            [
             0.5,
             "#f7f7f7"
            ],
            [
             0.6,
             "#e6f5d0"
            ],
            [
             0.7,
             "#b8e186"
            ],
            [
             0.8,
             "#7fbc41"
            ],
            [
             0.9,
             "#4d9221"
            ],
            [
             1,
             "#276419"
            ]
           ],
           "sequential": [
            [
             0,
             "#0d0887"
            ],
            [
             0.1111111111111111,
             "#46039f"
            ],
            [
             0.2222222222222222,
             "#7201a8"
            ],
            [
             0.3333333333333333,
             "#9c179e"
            ],
            [
             0.4444444444444444,
             "#bd3786"
            ],
            [
             0.5555555555555556,
             "#d8576b"
            ],
            [
             0.6666666666666666,
             "#ed7953"
            ],
            [
             0.7777777777777778,
             "#fb9f3a"
            ],
            [
             0.8888888888888888,
             "#fdca26"
            ],
            [
             1,
             "#f0f921"
            ]
           ],
           "sequentialminus": [
            [
             0,
             "#0d0887"
            ],
            [
             0.1111111111111111,
             "#46039f"
            ],
            [
             0.2222222222222222,
             "#7201a8"
            ],
            [
             0.3333333333333333,
             "#9c179e"
            ],
            [
             0.4444444444444444,
             "#bd3786"
            ],
            [
             0.5555555555555556,
             "#d8576b"
            ],
            [
             0.6666666666666666,
             "#ed7953"
            ],
            [
             0.7777777777777778,
             "#fb9f3a"
            ],
            [
             0.8888888888888888,
             "#fdca26"
            ],
            [
             1,
             "#f0f921"
            ]
           ]
          },
          "colorway": [
           "#636efa",
           "#EF553B",
           "#00cc96",
           "#ab63fa",
           "#FFA15A",
           "#19d3f3",
           "#FF6692",
           "#B6E880",
           "#FF97FF",
           "#FECB52"
          ],
          "font": {
           "color": "#2a3f5f"
          },
          "geo": {
           "bgcolor": "white",
           "lakecolor": "white",
           "landcolor": "#E5ECF6",
           "showlakes": true,
           "showland": true,
           "subunitcolor": "white"
          },
          "hoverlabel": {
           "align": "left"
          },
          "hovermode": "closest",
          "mapbox": {
           "style": "light"
          },
          "paper_bgcolor": "white",
          "plot_bgcolor": "#E5ECF6",
          "polar": {
           "angularaxis": {
            "gridcolor": "white",
            "linecolor": "white",
            "ticks": ""
           },
           "bgcolor": "#E5ECF6",
           "radialaxis": {
            "gridcolor": "white",
            "linecolor": "white",
            "ticks": ""
           }
          },
          "scene": {
           "xaxis": {
            "backgroundcolor": "#E5ECF6",
            "gridcolor": "white",
            "gridwidth": 2,
            "linecolor": "white",
            "showbackground": true,
            "ticks": "",
            "zerolinecolor": "white"
           },
           "yaxis": {
            "backgroundcolor": "#E5ECF6",
            "gridcolor": "white",
            "gridwidth": 2,
            "linecolor": "white",
            "showbackground": true,
            "ticks": "",
            "zerolinecolor": "white"
           },
           "zaxis": {
            "backgroundcolor": "#E5ECF6",
            "gridcolor": "white",
            "gridwidth": 2,
            "linecolor": "white",
            "showbackground": true,
            "ticks": "",
            "zerolinecolor": "white"
           }
          },
          "shapedefaults": {
           "line": {
            "color": "#2a3f5f"
           }
          },
          "ternary": {
           "aaxis": {
            "gridcolor": "white",
            "linecolor": "white",
            "ticks": ""
           },
           "baxis": {
            "gridcolor": "white",
            "linecolor": "white",
            "ticks": ""
           },
           "bgcolor": "#E5ECF6",
           "caxis": {
            "gridcolor": "white",
            "linecolor": "white",
            "ticks": ""
           }
          },
          "title": {
           "x": 0.05
          },
          "xaxis": {
           "automargin": true,
           "gridcolor": "white",
           "linecolor": "white",
           "ticks": "",
           "zerolinecolor": "white",
           "zerolinewidth": 2
          },
          "yaxis": {
           "automargin": true,
           "gridcolor": "white",
           "linecolor": "white",
           "ticks": "",
           "zerolinecolor": "white",
           "zerolinewidth": 2
          }
         }
        },
        "title": {
         "text": "Inferno: Sentiment per Canto",
         "x": 0.5
        },
        "xaxis": {
         "linecolor": "rgb(204, 204, 204)",
         "linewidth": 2,
         "showgrid": false,
         "showline": true,
         "showticklabels": true,
         "tickfont": {
          "color": "rgb(82, 82, 82)",
          "family": "Arial",
          "size": 12
         },
         "ticks": "outside",
         "title": {
          "text": "Canto"
         }
        },
        "yaxis": {
         "showgrid": false
        }
       }
      },
      "text/html": [
       "<div>\n",
       "        \n",
       "        \n",
       "            <div id=\"7b8361f7-f8fa-42f2-9ad2-9025df0191ba\" class=\"plotly-graph-div\" style=\"height:525px; width:100%;\"></div>\n",
       "            <script type=\"text/javascript\">\n",
       "                require([\"plotly\"], function(Plotly) {\n",
       "                    window.PLOTLYENV=window.PLOTLYENV || {};\n",
       "                    \n",
       "                if (document.getElementById(\"7b8361f7-f8fa-42f2-9ad2-9025df0191ba\")) {\n",
       "                    Plotly.newPlot(\n",
       "                        '7b8361f7-f8fa-42f2-9ad2-9025df0191ba',\n",
       "                        [{\"mode\": \"lines+markers\", \"name\": \"Sentiment Polarity\", \"type\": \"scatter\", \"x\": [1.0, 2.0, 3.0, 4.0, 5.0, 6.0, 7.0, 8.0, 9.0, 10.0, 11.0, 12.0, 13.0, 14.0, 15.0, 16.0, 17.0, 18.0, 19.0, 20.0, 21.0, 22.0, 23.0, 24.0, 25.0, 26.0, 27.0, 28.0, 29.0, 30.0, 31.0, 32.0, 33.0, 34.0], \"y\": [0.1206595663723731, 0.07826745237942158, 0.002899906872826605, -0.005007497994471373, -0.023618803592490568, 0.08155505463429141, 0.09660443997294008, 0.03312524846533047, 0.030205952552748293, 0.03770484018134869, 0.0443711452623351, 0.08690917354641714, 0.06738916582464606, -0.00866304113570265, -0.019246777686794763, 0.05853644273161265, -0.0016897458806796788, 0.017995212574997657, 0.08534561629716042, 0.07581786336389114, 0.02051746328109157, 0.016682648512384313, -0.029471352634626975, 0.010583220879561015, 0.026100393028048046, 0.035427716283105704, -0.09002305288592642, 0.002589137935575927, 0.05515459206056352, 0.04411083197625172, 0.10550603989153673, -0.03655318072682757, 0.022891711784783168, 0.0547343734156274]}, {\"mode\": \"lines\", \"name\": \"First Derivative\", \"type\": \"scatter\", \"x\": [1.0, 2.0, 3.0, 4.0, 5.0, 6.0, 7.0, 8.0, 9.0, 10.0, 11.0, 12.0, 13.0, 14.0, 15.0, 16.0, 17.0, 18.0, 19.0, 20.0, 21.0, 22.0, 23.0, 24.0, 25.0, 26.0, 27.0, 28.0, 29.0, 30.0, 31.0, 32.0, 33.0, 34.0], \"y\": [-0.04239211399295152, -0.07536754550659497, -0.007907404867297978, -0.018611305598019198, 0.10517385822678198, 0.015049385338648663, -0.06347919150760961, -0.002919295912582179, 0.007498887628600397, 0.006666305080986409, 0.042538028284082034, -0.019520007721771083, -0.07605220696034871, -0.010583736551092113, 0.07778322041840742, -0.060226188612292335, 0.01968495845567733, 0.06735040372216276, -0.009527752933269282, -0.055300400082799565, -0.003834814768707257, -0.046154001147011285, 0.040054573514188, 0.015517172148487031, 0.009327323255057656, -0.12545076916903214, 0.09261219082150236, 0.05256545412498759, -0.011043760084311792, 0.061395207915285015, -0.1420592206183643, 0.05944489251161074, 0.03184266163084423, 0.03184266163084423]}, {\"mode\": \"lines\", \"name\": \"Second Derivative\", \"type\": \"scatter\", \"x\": [1.0, 2.0, 3.0, 4.0, 5.0, 6.0, 7.0, 8.0, 9.0, 10.0, 11.0, 12.0, 13.0, 14.0, 15.0, 16.0, 17.0, 18.0, 19.0, 20.0, 21.0, 22.0, 23.0, 24.0, 25.0, 26.0, 27.0, 28.0, 29.0, 30.0, 31.0, 32.0, 33.0, 34.0], \"y\": [-0.03297543151364345, 0.06746014063929699, -0.010703900730721215, 0.12378516382480118, -0.09012447288813333, -0.07852857684625827, 0.060559895595027426, 0.010418183541182577, -0.0008325825476139873, 0.03587172320309563, -0.06205803600585313, -0.056532199238577635, 0.0654684704092566, 0.08836695696949952, -0.13800940903069975, 0.07991114706796967, 0.04766544526648543, -0.07687815665543205, -0.04577264714953029, 0.051465585314092316, -0.042319186378304036, 0.08620857466119929, -0.024537401365700963, -0.0061898488934293725, -0.1347780924240898, 0.2180629599905345, -0.04004673669651476, -0.06360921420929938, 0.0724389679995968, -0.2034544285336493, 0.20150411312997504, -0.02760223088076651, 0.0, 0.0]}],\n",
       "                        {\"plot_bgcolor\": \"white\", \"showlegend\": true, \"template\": {\"data\": {\"bar\": [{\"error_x\": {\"color\": \"#2a3f5f\"}, \"error_y\": {\"color\": \"#2a3f5f\"}, \"marker\": {\"line\": {\"color\": \"#E5ECF6\", \"width\": 0.5}}, \"type\": \"bar\"}], \"barpolar\": [{\"marker\": {\"line\": {\"color\": \"#E5ECF6\", \"width\": 0.5}}, \"type\": \"barpolar\"}], \"carpet\": [{\"aaxis\": {\"endlinecolor\": \"#2a3f5f\", \"gridcolor\": \"white\", \"linecolor\": \"white\", \"minorgridcolor\": \"white\", \"startlinecolor\": \"#2a3f5f\"}, \"baxis\": {\"endlinecolor\": \"#2a3f5f\", \"gridcolor\": \"white\", \"linecolor\": \"white\", \"minorgridcolor\": \"white\", \"startlinecolor\": \"#2a3f5f\"}, \"type\": \"carpet\"}], \"choropleth\": [{\"colorbar\": {\"outlinewidth\": 0, \"ticks\": \"\"}, \"type\": \"choropleth\"}], \"contour\": [{\"colorbar\": {\"outlinewidth\": 0, \"ticks\": \"\"}, \"colorscale\": [[0.0, \"#0d0887\"], [0.1111111111111111, \"#46039f\"], [0.2222222222222222, \"#7201a8\"], [0.3333333333333333, \"#9c179e\"], [0.4444444444444444, \"#bd3786\"], [0.5555555555555556, \"#d8576b\"], [0.6666666666666666, \"#ed7953\"], [0.7777777777777778, \"#fb9f3a\"], [0.8888888888888888, \"#fdca26\"], [1.0, \"#f0f921\"]], \"type\": \"contour\"}], \"contourcarpet\": [{\"colorbar\": {\"outlinewidth\": 0, \"ticks\": \"\"}, \"type\": \"contourcarpet\"}], \"heatmap\": [{\"colorbar\": {\"outlinewidth\": 0, \"ticks\": \"\"}, \"colorscale\": [[0.0, \"#0d0887\"], [0.1111111111111111, \"#46039f\"], [0.2222222222222222, \"#7201a8\"], [0.3333333333333333, \"#9c179e\"], [0.4444444444444444, \"#bd3786\"], [0.5555555555555556, \"#d8576b\"], [0.6666666666666666, \"#ed7953\"], [0.7777777777777778, \"#fb9f3a\"], [0.8888888888888888, \"#fdca26\"], [1.0, \"#f0f921\"]], \"type\": \"heatmap\"}], \"heatmapgl\": [{\"colorbar\": {\"outlinewidth\": 0, \"ticks\": \"\"}, \"colorscale\": [[0.0, \"#0d0887\"], [0.1111111111111111, \"#46039f\"], [0.2222222222222222, \"#7201a8\"], [0.3333333333333333, \"#9c179e\"], [0.4444444444444444, \"#bd3786\"], [0.5555555555555556, \"#d8576b\"], [0.6666666666666666, \"#ed7953\"], [0.7777777777777778, \"#fb9f3a\"], [0.8888888888888888, \"#fdca26\"], [1.0, \"#f0f921\"]], \"type\": \"heatmapgl\"}], \"histogram\": [{\"marker\": {\"colorbar\": {\"outlinewidth\": 0, \"ticks\": \"\"}}, \"type\": \"histogram\"}], \"histogram2d\": [{\"colorbar\": {\"outlinewidth\": 0, \"ticks\": \"\"}, \"colorscale\": [[0.0, \"#0d0887\"], [0.1111111111111111, \"#46039f\"], [0.2222222222222222, \"#7201a8\"], [0.3333333333333333, \"#9c179e\"], [0.4444444444444444, \"#bd3786\"], [0.5555555555555556, \"#d8576b\"], [0.6666666666666666, \"#ed7953\"], [0.7777777777777778, \"#fb9f3a\"], [0.8888888888888888, \"#fdca26\"], [1.0, \"#f0f921\"]], \"type\": \"histogram2d\"}], \"histogram2dcontour\": [{\"colorbar\": {\"outlinewidth\": 0, \"ticks\": \"\"}, \"colorscale\": [[0.0, \"#0d0887\"], [0.1111111111111111, \"#46039f\"], [0.2222222222222222, \"#7201a8\"], [0.3333333333333333, \"#9c179e\"], [0.4444444444444444, \"#bd3786\"], [0.5555555555555556, \"#d8576b\"], [0.6666666666666666, \"#ed7953\"], [0.7777777777777778, \"#fb9f3a\"], [0.8888888888888888, \"#fdca26\"], [1.0, \"#f0f921\"]], \"type\": \"histogram2dcontour\"}], \"mesh3d\": [{\"colorbar\": {\"outlinewidth\": 0, \"ticks\": \"\"}, \"type\": \"mesh3d\"}], \"parcoords\": [{\"line\": {\"colorbar\": {\"outlinewidth\": 0, \"ticks\": \"\"}}, \"type\": \"parcoords\"}], \"scatter\": [{\"marker\": {\"colorbar\": {\"outlinewidth\": 0, \"ticks\": \"\"}}, \"type\": \"scatter\"}], \"scatter3d\": [{\"line\": {\"colorbar\": {\"outlinewidth\": 0, \"ticks\": \"\"}}, \"marker\": {\"colorbar\": {\"outlinewidth\": 0, \"ticks\": \"\"}}, \"type\": \"scatter3d\"}], \"scattercarpet\": [{\"marker\": {\"colorbar\": {\"outlinewidth\": 0, \"ticks\": \"\"}}, \"type\": \"scattercarpet\"}], \"scattergeo\": [{\"marker\": {\"colorbar\": {\"outlinewidth\": 0, \"ticks\": \"\"}}, \"type\": \"scattergeo\"}], \"scattergl\": [{\"marker\": {\"colorbar\": {\"outlinewidth\": 0, \"ticks\": \"\"}}, \"type\": \"scattergl\"}], \"scattermapbox\": [{\"marker\": {\"colorbar\": {\"outlinewidth\": 0, \"ticks\": \"\"}}, \"type\": \"scattermapbox\"}], \"scatterpolar\": [{\"marker\": {\"colorbar\": {\"outlinewidth\": 0, \"ticks\": \"\"}}, \"type\": \"scatterpolar\"}], \"scatterpolargl\": [{\"marker\": {\"colorbar\": {\"outlinewidth\": 0, \"ticks\": \"\"}}, \"type\": \"scatterpolargl\"}], \"scatterternary\": [{\"marker\": {\"colorbar\": {\"outlinewidth\": 0, \"ticks\": \"\"}}, \"type\": \"scatterternary\"}], \"surface\": [{\"colorbar\": {\"outlinewidth\": 0, \"ticks\": \"\"}, \"colorscale\": [[0.0, \"#0d0887\"], [0.1111111111111111, \"#46039f\"], [0.2222222222222222, \"#7201a8\"], [0.3333333333333333, \"#9c179e\"], [0.4444444444444444, \"#bd3786\"], [0.5555555555555556, \"#d8576b\"], [0.6666666666666666, \"#ed7953\"], [0.7777777777777778, \"#fb9f3a\"], [0.8888888888888888, \"#fdca26\"], [1.0, \"#f0f921\"]], \"type\": \"surface\"}], \"table\": [{\"cells\": {\"fill\": {\"color\": \"#EBF0F8\"}, \"line\": {\"color\": \"white\"}}, \"header\": {\"fill\": {\"color\": \"#C8D4E3\"}, \"line\": {\"color\": \"white\"}}, \"type\": \"table\"}]}, \"layout\": {\"annotationdefaults\": {\"arrowcolor\": \"#2a3f5f\", \"arrowhead\": 0, \"arrowwidth\": 1}, \"colorscale\": {\"diverging\": [[0, \"#8e0152\"], [0.1, \"#c51b7d\"], [0.2, \"#de77ae\"], [0.3, \"#f1b6da\"], [0.4, \"#fde0ef\"], [0.5, \"#f7f7f7\"], [0.6, \"#e6f5d0\"], [0.7, \"#b8e186\"], [0.8, \"#7fbc41\"], [0.9, \"#4d9221\"], [1, \"#276419\"]], \"sequential\": [[0.0, \"#0d0887\"], [0.1111111111111111, \"#46039f\"], [0.2222222222222222, \"#7201a8\"], [0.3333333333333333, \"#9c179e\"], [0.4444444444444444, \"#bd3786\"], [0.5555555555555556, \"#d8576b\"], [0.6666666666666666, \"#ed7953\"], [0.7777777777777778, \"#fb9f3a\"], [0.8888888888888888, \"#fdca26\"], [1.0, \"#f0f921\"]], \"sequentialminus\": [[0.0, \"#0d0887\"], [0.1111111111111111, \"#46039f\"], [0.2222222222222222, \"#7201a8\"], [0.3333333333333333, \"#9c179e\"], [0.4444444444444444, \"#bd3786\"], [0.5555555555555556, \"#d8576b\"], [0.6666666666666666, \"#ed7953\"], [0.7777777777777778, \"#fb9f3a\"], [0.8888888888888888, \"#fdca26\"], [1.0, \"#f0f921\"]]}, \"colorway\": [\"#636efa\", \"#EF553B\", \"#00cc96\", \"#ab63fa\", \"#FFA15A\", \"#19d3f3\", \"#FF6692\", \"#B6E880\", \"#FF97FF\", \"#FECB52\"], \"font\": {\"color\": \"#2a3f5f\"}, \"geo\": {\"bgcolor\": \"white\", \"lakecolor\": \"white\", \"landcolor\": \"#E5ECF6\", \"showlakes\": true, \"showland\": true, \"subunitcolor\": \"white\"}, \"hoverlabel\": {\"align\": \"left\"}, \"hovermode\": \"closest\", \"mapbox\": {\"style\": \"light\"}, \"paper_bgcolor\": \"white\", \"plot_bgcolor\": \"#E5ECF6\", \"polar\": {\"angularaxis\": {\"gridcolor\": \"white\", \"linecolor\": \"white\", \"ticks\": \"\"}, \"bgcolor\": \"#E5ECF6\", \"radialaxis\": {\"gridcolor\": \"white\", \"linecolor\": \"white\", \"ticks\": \"\"}}, \"scene\": {\"xaxis\": {\"backgroundcolor\": \"#E5ECF6\", \"gridcolor\": \"white\", \"gridwidth\": 2, \"linecolor\": \"white\", \"showbackground\": true, \"ticks\": \"\", \"zerolinecolor\": \"white\"}, \"yaxis\": {\"backgroundcolor\": \"#E5ECF6\", \"gridcolor\": \"white\", \"gridwidth\": 2, \"linecolor\": \"white\", \"showbackground\": true, \"ticks\": \"\", \"zerolinecolor\": \"white\"}, \"zaxis\": {\"backgroundcolor\": \"#E5ECF6\", \"gridcolor\": \"white\", \"gridwidth\": 2, \"linecolor\": \"white\", \"showbackground\": true, \"ticks\": \"\", \"zerolinecolor\": \"white\"}}, \"shapedefaults\": {\"line\": {\"color\": \"#2a3f5f\"}}, \"ternary\": {\"aaxis\": {\"gridcolor\": \"white\", \"linecolor\": \"white\", \"ticks\": \"\"}, \"baxis\": {\"gridcolor\": \"white\", \"linecolor\": \"white\", \"ticks\": \"\"}, \"bgcolor\": \"#E5ECF6\", \"caxis\": {\"gridcolor\": \"white\", \"linecolor\": \"white\", \"ticks\": \"\"}}, \"title\": {\"x\": 0.05}, \"xaxis\": {\"automargin\": true, \"gridcolor\": \"white\", \"linecolor\": \"white\", \"ticks\": \"\", \"zerolinecolor\": \"white\", \"zerolinewidth\": 2}, \"yaxis\": {\"automargin\": true, \"gridcolor\": \"white\", \"linecolor\": \"white\", \"ticks\": \"\", \"zerolinecolor\": \"white\", \"zerolinewidth\": 2}}}, \"title\": {\"text\": \"Inferno: Sentiment per Canto\", \"x\": 0.5}, \"xaxis\": {\"linecolor\": \"rgb(204, 204, 204)\", \"linewidth\": 2, \"showgrid\": false, \"showline\": true, \"showticklabels\": true, \"tickfont\": {\"color\": \"rgb(82, 82, 82)\", \"family\": \"Arial\", \"size\": 12}, \"ticks\": \"outside\", \"title\": {\"text\": \"Canto\"}}, \"yaxis\": {\"showgrid\": false}},\n",
       "                        {\"responsive\": true}\n",
       "                    ).then(function(){\n",
       "                            \n",
       "var gd = document.getElementById('7b8361f7-f8fa-42f2-9ad2-9025df0191ba');\n",
       "var x = new MutationObserver(function (mutations, observer) {{\n",
       "        var display = window.getComputedStyle(gd).display;\n",
       "        if (!display || display === 'none') {{\n",
       "            console.log([gd, 'removed!']);\n",
       "            Plotly.purge(gd);\n",
       "            observer.disconnect();\n",
       "        }}\n",
       "}});\n",
       "\n",
       "// Listen for the removal of the full notebook cells\n",
       "var notebookContainer = gd.closest('#notebook-container');\n",
       "if (notebookContainer) {{\n",
       "    x.observe(notebookContainer, {childList: true});\n",
       "}}\n",
       "\n",
       "// Listen for the clearing of the current output cell\n",
       "var outputEl = gd.closest('.output');\n",
       "if (outputEl) {{\n",
       "    x.observe(outputEl, {childList: true});\n",
       "}}\n",
       "\n",
       "                        })\n",
       "                };\n",
       "                });\n",
       "            </script>\n",
       "        </div>"
      ]
     },
     "metadata": {},
     "output_type": "display_data"
    }
   ],
   "source": [
    "# Create traces\n",
    "fig = go.Figure()\n",
    "fig.add_trace(\n",
    "    go.Scatter(x=df_inferno['Canto'], y=df_inferno['Sentiment'],\n",
    "                    mode='lines+markers',\n",
    "                    name='Sentiment Polarity')\n",
    ")\n",
    "fig.add_trace(\n",
    "    go.Scatter(x=df_inferno['Canto'], y=df_inferno['FirstDerivative'],\n",
    "                    mode='lines',\n",
    "                    name='First Derivative')\n",
    ")\n",
    "fig.add_trace(\n",
    "    go.Scatter(x=df_inferno['Canto'], y=df_inferno['SecondDerivative'],\n",
    "                    mode='lines', name='Second Derivative')\n",
    ")\n",
    "\n",
    "fig.update_layout(\n",
    "    xaxis=dict(\n",
    "        title = \"Canto\",\n",
    "        showline=True,\n",
    "        showgrid=False,\n",
    "        showticklabels=True,\n",
    "        linecolor='rgb(204, 204, 204)',\n",
    "        linewidth=2,\n",
    "        ticks='outside',\n",
    "        tickfont=dict(\n",
    "            family='Arial',\n",
    "            size=12,\n",
    "            color='rgb(82, 82, 82)',\n",
    "        ),\n",
    "    ),\n",
    "    yaxis=dict(\n",
    "        showgrid=False,\n",
    "    ),\n",
    "    showlegend=True,\n",
    "    plot_bgcolor='white',\n",
    "    title = dict(\n",
    "        text = \"Inferno: Sentiment per Canto\",\n",
    "        x = 0.5\n",
    "    )\n",
    ")\n",
    "\n",
    "fig.show()"
   ]
  },
  {
   "cell_type": "markdown",
   "metadata": {},
   "source": [
    "# Composite Graph"
   ]
  },
  {
   "cell_type": "code",
   "execution_count": 21,
   "metadata": {},
   "outputs": [
    {
     "data": {
      "application/vnd.plotly.v1+json": {
       "config": {
        "plotlyServerURL": "https://plot.ly"
       },
       "data": [
        {
         "hoverinfo": "text",
         "hovertext": [
          "Inferno: <br>Canto #1",
          "Inferno: <br>Canto #2",
          "Inferno: <br>Canto #3",
          "Inferno: <br>Canto #4",
          "Inferno: <br>Canto #5",
          "Inferno: <br>Canto #6",
          "Inferno: <br>Canto #7",
          "Inferno: <br>Canto #8",
          "Inferno: <br>Canto #9",
          "Inferno: <br>Canto #10",
          "Inferno: <br>Canto #11",
          "Inferno: <br>Canto #12",
          "Inferno: <br>Canto #13",
          "Inferno: <br>Canto #14",
          "Inferno: <br>Canto #15",
          "Inferno: <br>Canto #16",
          "Inferno: <br>Canto #17",
          "Inferno: <br>Canto #18",
          "Inferno: <br>Canto #19",
          "Inferno: <br>Canto #20",
          "Inferno: <br>Canto #21",
          "Inferno: <br>Canto #22",
          "Inferno: <br>Canto #23",
          "Inferno: <br>Canto #24",
          "Inferno: <br>Canto #25",
          "Inferno: <br>Canto #26",
          "Inferno: <br>Canto #27",
          "Inferno: <br>Canto #28",
          "Inferno: <br>Canto #29",
          "Inferno: <br>Canto #30",
          "Inferno: <br>Canto #31",
          "Inferno: <br>Canto #32",
          "Inferno: <br>Canto #33",
          "Inferno: <br>Canto #34"
         ],
         "line": {
          "color": "rgb(256, 0, 0)",
          "width": 4
         },
         "mode": "lines+markers",
         "name": "Sentiment Polarity - Inferno",
         "type": "scatter",
         "x": [
          1,
          2,
          3,
          4,
          5,
          6,
          7,
          8,
          9,
          10,
          11,
          12,
          13,
          14,
          15,
          16,
          17,
          18,
          19,
          20,
          21,
          22,
          23,
          24,
          25,
          26,
          27,
          28,
          29,
          30,
          31,
          32,
          33,
          34
         ],
         "y": [
          0.1206595663723731,
          0.07826745237942158,
          0.002899906872826605,
          -0.005007497994471373,
          -0.023618803592490568,
          0.08155505463429141,
          0.09660443997294008,
          0.03312524846533047,
          0.030205952552748293,
          0.03770484018134869,
          0.0443711452623351,
          0.08690917354641714,
          0.06738916582464606,
          -0.00866304113570265,
          -0.019246777686794763,
          0.05853644273161265,
          -0.0016897458806796788,
          0.017995212574997657,
          0.08534561629716042,
          0.07581786336389114,
          0.02051746328109157,
          0.016682648512384313,
          -0.029471352634626975,
          0.010583220879561015,
          0.026100393028048046,
          0.035427716283105704,
          -0.09002305288592642,
          0.002589137935575927,
          0.05515459206056352,
          0.04411083197625172,
          0.10550603989153673,
          -0.03655318072682757,
          0.022891711784783168,
          0.0547343734156274
         ]
        },
        {
         "hoverinfo": "skip",
         "legendgroup": "inferno_derivatives",
         "line": {
          "color": "rgb(0, 256, 0)",
          "width": 1.4
         },
         "mode": "lines",
         "name": "First Derivative",
         "type": "scatter",
         "x": [
          1,
          2,
          3,
          4,
          5,
          6,
          7,
          8,
          9,
          10,
          11,
          12,
          13,
          14,
          15,
          16,
          17,
          18,
          19,
          20,
          21,
          22,
          23,
          24,
          25,
          26,
          27,
          28,
          29,
          30,
          31,
          32,
          33,
          34
         ],
         "y": [
          -0.04239211399295152,
          -0.07536754550659497,
          -0.007907404867297978,
          -0.018611305598019198,
          0.10517385822678198,
          0.015049385338648663,
          -0.06347919150760961,
          -0.002919295912582179,
          0.007498887628600397,
          0.006666305080986409,
          0.042538028284082034,
          -0.019520007721771083,
          -0.07605220696034871,
          -0.010583736551092113,
          0.07778322041840742,
          -0.060226188612292335,
          0.01968495845567733,
          0.06735040372216276,
          -0.009527752933269282,
          -0.055300400082799565,
          -0.003834814768707257,
          -0.046154001147011285,
          0.040054573514188,
          0.015517172148487031,
          0.009327323255057656,
          -0.12545076916903214,
          0.09261219082150236,
          0.05256545412498759,
          -0.011043760084311792,
          0.061395207915285015,
          -0.1420592206183643,
          0.05944489251161074,
          0.03184266163084423,
          0.03184266163084423
         ]
        },
        {
         "hoverinfo": "skip",
         "legendgroup": "inferno_derivatives",
         "line": {
          "color": "rgb(0, 0, 256)",
          "width": 1.4
         },
         "mode": "lines",
         "name": "Second Derivative",
         "type": "scatter",
         "x": [
          1,
          2,
          3,
          4,
          5,
          6,
          7,
          8,
          9,
          10,
          11,
          12,
          13,
          14,
          15,
          16,
          17,
          18,
          19,
          20,
          21,
          22,
          23,
          24,
          25,
          26,
          27,
          28,
          29,
          30,
          31,
          32,
          33,
          34
         ],
         "y": [
          -0.03297543151364345,
          0.06746014063929699,
          -0.010703900730721215,
          0.12378516382480118,
          -0.09012447288813333,
          -0.07852857684625827,
          0.060559895595027426,
          0.010418183541182577,
          -0.0008325825476139873,
          0.03587172320309563,
          -0.06205803600585313,
          -0.056532199238577635,
          0.0654684704092566,
          0.08836695696949952,
          -0.13800940903069975,
          0.07991114706796967,
          0.04766544526648543,
          -0.07687815665543205,
          -0.04577264714953029,
          0.051465585314092316,
          -0.042319186378304036,
          0.08620857466119929,
          -0.024537401365700963,
          -0.0061898488934293725,
          -0.1347780924240898,
          0.2180629599905345,
          -0.04004673669651476,
          -0.06360921420929938,
          0.0724389679995968,
          -0.2034544285336493,
          0.20150411312997504,
          -0.02760223088076651,
          0,
          0
         ]
        },
        {
         "hoverinfo": "skip",
         "line": {
          "color": "firebrick",
          "dash": "dash",
          "width": 1.2
         },
         "mode": "lines",
         "name": "Purgatorio Splitter",
         "showlegend": false,
         "type": "scatter",
         "x": [
          34,
          34
         ],
         "y": [
          -1,
          1
         ]
        },
        {
         "hoverinfo": "text",
         "hovertext": [
          "Purgatorio: <br>Canto #1",
          "Purgatorio: <br>Canto #2",
          "Purgatorio: <br>Canto #3",
          "Purgatorio: <br>Canto #4",
          "Purgatorio: <br>Canto #5",
          "Purgatorio: <br>Canto #6",
          "Purgatorio: <br>Canto #7",
          "Purgatorio: <br>Canto #8",
          "Purgatorio: <br>Canto #9",
          "Purgatorio: <br>Canto #10",
          "Purgatorio: <br>Canto #11",
          "Purgatorio: <br>Canto #12",
          "Purgatorio: <br>Canto #13",
          "Purgatorio: <br>Canto #14",
          "Purgatorio: <br>Canto #15",
          "Purgatorio: <br>Canto #16",
          "Purgatorio: <br>Canto #17",
          "Purgatorio: <br>Canto #18",
          "Purgatorio: <br>Canto #19",
          "Purgatorio: <br>Canto #20",
          "Purgatorio: <br>Canto #21",
          "Purgatorio: <br>Canto #22",
          "Purgatorio: <br>Canto #23",
          "Purgatorio: <br>Canto #24",
          "Purgatorio: <br>Canto #25",
          "Purgatorio: <br>Canto #26",
          "Purgatorio: <br>Canto #27",
          "Purgatorio: <br>Canto #28",
          "Purgatorio: <br>Canto #29",
          "Purgatorio: <br>Canto #30",
          "Purgatorio: <br>Canto #31",
          "Purgatorio: <br>Canto #32",
          "Purgatorio: <br>Canto #33"
         ],
         "line": {
          "color": "rgb(256, 0, 0)",
          "width": 4
         },
         "mode": "lines+markers",
         "name": "Sentiment Polarity - Purgatorio",
         "showlegend": true,
         "type": "scatter",
         "x": [
          34,
          35,
          36,
          37,
          38,
          39,
          40,
          41,
          42,
          43,
          44,
          45,
          46,
          47,
          48,
          49,
          50,
          51,
          52,
          53,
          54,
          55,
          56,
          57,
          58,
          59,
          60,
          61,
          62,
          63,
          64,
          65,
          66
         ],
         "y": [
          0.04369263579112568,
          0.055842550094455004,
          0.0663728331096856,
          0.02460102762264765,
          0.04918658162610129,
          0.0617261073078862,
          0.13473216038566113,
          0.06641184803605786,
          0.0905381470069241,
          0.11803836342167755,
          0.028647326074217026,
          0.11577637077369625,
          0.11357767791691566,
          0.13901376013254593,
          0.09545229847785536,
          0.032954178332631284,
          0.11644607909605242,
          0.10266220960227887,
          0.12859796060644302,
          0.15757578397703895,
          0.18109184888082733,
          0.08205727306805867,
          0.06921083993656754,
          0.07366707039083964,
          0.05084288679924962,
          0.05584597415307314,
          0.08044048972966374,
          0.06364944720594064,
          -0.011834957140639313,
          0.06442478719585093,
          0.0947044882934542,
          0.050300253099396106,
          0.09045273469240904
         ]
        },
        {
         "hoverinfo": "skip",
         "legendgroup": "purgatorio_derivatives",
         "line": {
          "color": "rgb(0, 256, 0)",
          "width": 1.4
         },
         "mode": "lines",
         "name": "First Derivative",
         "showlegend": true,
         "type": "scatter",
         "x": [
          34,
          35,
          36,
          37,
          38,
          39,
          40,
          41,
          42,
          43,
          44,
          45,
          46,
          47,
          48,
          49,
          50,
          51,
          52,
          53,
          54,
          55,
          56,
          57,
          58,
          59,
          60,
          61,
          62,
          63,
          64,
          65,
          66
         ],
         "y": [
          0.012149914303329323,
          0.010530283015230596,
          -0.04177180548703795,
          0.02458555400345364,
          0.012539525681784907,
          0.07300605307777494,
          -0.06832031234960327,
          0.02412629897086624,
          0.027500216414753448,
          -0.08939103734746053,
          0.08712904469947923,
          -0.002198692856780593,
          0.02543608221563028,
          -0.043561461654690575,
          -0.06249812014522407,
          0.08349190076342114,
          -0.013783869493773554,
          0.025935751004164148,
          0.028977823370595932,
          0.02351606490378838,
          -0.09903457581276866,
          -0.012846433131491128,
          0.004456230454272098,
          -0.022824183591590014,
          0.005003087353823515,
          0.0245945155765906,
          -0.0167910425237231,
          -0.07548440434657995,
          0.07625974433649024,
          0.03027970109760326,
          -0.04440423519405809,
          0.04015248159301293,
          0.04015248159301293
         ]
        },
        {
         "hoverinfo": "skip",
         "legendgroup": "purgatorio_derivatives",
         "line": {
          "color": "rgb(0, 0, 256)",
          "width": 1.4
         },
         "mode": "lines",
         "name": "Second Derivative",
         "showlegend": true,
         "type": "scatter",
         "x": [
          34,
          35,
          36,
          37,
          38,
          39,
          40,
          41,
          42,
          43,
          44,
          45,
          46,
          47,
          48,
          49,
          50,
          51,
          52,
          53,
          54,
          55,
          56,
          57,
          58,
          59,
          60,
          61,
          62,
          63,
          64,
          65,
          66
         ],
         "y": [
          -0.0016196312880987287,
          -0.052302088502268536,
          0.06635735949049157,
          -0.01204602832166873,
          0.060466527395990025,
          -0.1413263654273782,
          0.09244661132046952,
          0.003373917443887209,
          -0.11689125376221395,
          0.17652008204693975,
          -0.08932773755625982,
          0.02763477507241087,
          -0.06899754387032085,
          -0.018936658490533498,
          0.1459900209086452,
          -0.0972757702571947,
          0.0397196204979377,
          0.003042072366431781,
          -0.005461758466807548,
          -0.12255064071655705,
          0.08618814268127753,
          0.017302663585763225,
          -0.02728041404586212,
          0.02782727094541353,
          0.019591428222767084,
          -0.0413855581003137,
          -0.05869336182285685,
          0.15174414868307018,
          -0.04598004323888698,
          -0.07468393629166135,
          0.08455671678707102,
          0,
          0
         ]
        },
        {
         "hoverinfo": "skip",
         "line": {
          "color": "firebrick",
          "dash": "dash",
          "width": 1.2
         },
         "mode": "lines",
         "name": "Paradiso Splitter",
         "showlegend": false,
         "type": "scatter",
         "x": [
          67,
          67
         ],
         "y": [
          -1,
          1
         ]
        },
        {
         "hoverinfo": "text",
         "hovertext": [
          "Paradiso: <br>Canto #1",
          "Paradiso: <br>Canto #2",
          "Paradiso: <br>Canto #3",
          "Paradiso: <br>Canto #4",
          "Paradiso: <br>Canto #5",
          "Paradiso: <br>Canto #6",
          "Paradiso: <br>Canto #7",
          "Paradiso: <br>Canto #8",
          "Paradiso: <br>Canto #9",
          "Paradiso: <br>Canto #10",
          "Paradiso: <br>Canto #11",
          "Paradiso: <br>Canto #12",
          "Paradiso: <br>Canto #13",
          "Paradiso: <br>Canto #14",
          "Paradiso: <br>Canto #15",
          "Paradiso: <br>Canto #16",
          "Paradiso: <br>Canto #17",
          "Paradiso: <br>Canto #18",
          "Paradiso: <br>Canto #19",
          "Paradiso: <br>Canto #20",
          "Paradiso: <br>Canto #21",
          "Paradiso: <br>Canto #22",
          "Paradiso: <br>Canto #23",
          "Paradiso: <br>Canto #24",
          "Paradiso: <br>Canto #25",
          "Paradiso: <br>Canto #26",
          "Paradiso: <br>Canto #27",
          "Paradiso: <br>Canto #28",
          "Paradiso: <br>Canto #29",
          "Paradiso: <br>Canto #30",
          "Paradiso: <br>Canto #31",
          "Paradiso: <br>Canto #32",
          "Paradiso: <br>Canto #33"
         ],
         "line": {
          "color": "rgb(256, 0, 0)",
          "width": 4
         },
         "mode": "lines+markers",
         "name": "Sentiment Polarity - Paradiso",
         "showlegend": true,
         "type": "scatter",
         "x": [
          67,
          68,
          69,
          70,
          71,
          72,
          73,
          74,
          75,
          76,
          77,
          78,
          79,
          80,
          81,
          82,
          83,
          84,
          85,
          86,
          87,
          88,
          89,
          90,
          91,
          92,
          93,
          94,
          95,
          96,
          97,
          98,
          99
         ],
         "y": [
          0.18212309624362946,
          0.12063651131824528,
          0.13750301921307911,
          0.18562987544879148,
          0.08226734651018419,
          0.08910606186259899,
          0.13187537116634962,
          0.1995924692372248,
          0.1449301971579215,
          0.12593673456758,
          0.056000804280693366,
          0.15539184617059054,
          0.10577468473387276,
          0.14888023659743618,
          0.050557435756363706,
          0.16795899502613199,
          0.19117751761805266,
          0.15984315366649313,
          0.2429925204975573,
          0.12132450684396068,
          0.08665731000764484,
          0.09912677997905313,
          0.17883475421125694,
          0.11876193390275355,
          0.12913848774169776,
          0.10306779836210696,
          0.16853623081097333,
          0.10404942120696102,
          0.14069906189732792,
          0.07219801444811705,
          0.12574233350382846,
          0.08908113839735549,
          0.08021272292272029
         ]
        },
        {
         "hoverinfo": "skip",
         "legendgroup": "paradiso_derivatives",
         "line": {
          "color": "rgb(0, 256, 0)",
          "width": 1.4
         },
         "mode": "lines",
         "name": "First Derivative",
         "showlegend": true,
         "type": "scatter",
         "x": [
          67,
          68,
          69,
          70,
          71,
          72,
          73,
          74,
          75,
          76,
          77,
          78,
          79,
          80,
          81,
          82,
          83,
          84,
          85,
          86,
          87,
          88,
          89,
          90,
          91,
          92,
          93,
          94,
          95,
          96,
          97,
          98,
          99
         ],
         "y": [
          -0.061486584925384176,
          0.01686650789483384,
          0.04812685623571236,
          -0.10336252893860727,
          0.006838715352414801,
          0.042769309303750634,
          0.06771709807087517,
          -0.0546622720793033,
          -0.018993462590341487,
          -0.06993593028688662,
          0.09939104188989717,
          -0.04961716143671778,
          0.04310555186356342,
          -0.09832280084107248,
          0.11740155926976832,
          0.023218522591920643,
          -0.03133436395155953,
          0.08314936683106414,
          -0.1216680136535966,
          -0.03466719683631583,
          0.012469469971408284,
          0.07970797423220381,
          -0.06007282030850339,
          0.0103765538389442,
          -0.0260706893795908,
          0.06546843244886638,
          -0.0644868096040123,
          0.0366496406903669,
          -0.06850104744921087,
          0.05354431905571142,
          -0.036661195106472984,
          -0.008868415474635197,
          -0.008868415474635197
         ]
        },
        {
         "hoverinfo": "skip",
         "legendgroup": "paradiso_derivatives",
         "line": {
          "color": "rgb(0, 0, 256)",
          "width": 1.4
         },
         "mode": "lines",
         "name": "Second Derivative",
         "showlegend": true,
         "type": "scatter",
         "x": [
          67,
          68,
          69,
          70,
          71,
          72,
          73,
          74,
          75,
          76,
          77,
          78,
          79,
          80,
          81,
          82,
          83,
          84,
          85,
          86,
          87,
          88,
          89,
          90,
          91,
          92,
          93,
          94,
          95,
          96,
          97,
          98,
          99
         ],
         "y": [
          0.07835309282021803,
          0.031260348340878534,
          -0.15148938517431965,
          0.11020124429102207,
          0.035930593951335826,
          0.024947788767124543,
          -0.12237937015017847,
          0.03566880948896181,
          -0.050942467696545146,
          0.1693269721767838,
          -0.14900820332661496,
          0.0927227133002812,
          -0.14142835270463588,
          0.2157243601108408,
          -0.09418303667784766,
          -0.054552886543480165,
          0.11448373078262368,
          -0.20481738048466072,
          0.08700081681728075,
          0.04713666680772412,
          0.06723850426079553,
          -0.1397807945407072,
          0.07044937414744759,
          -0.036447243218535,
          0.09153912182845717,
          -0.12995524205287867,
          0.1011364502943792,
          -0.10515068813957776,
          0.12204536650492227,
          -0.0902055141621844,
          0.02779277963183778,
          0,
          0
         ]
        }
       ],
       "layout": {
        "annotations": [
         {
          "arrowhead": 7,
          "ax": 0,
          "ay": -40,
          "font": {
           "color": "black",
           "size": 14
          },
          "showarrow": false,
          "text": "Inferno",
          "x": 5,
          "xref": "x",
          "y": 0.55,
          "yref": "y"
         },
         {
          "arrowhead": 7,
          "ax": 0,
          "ay": -40,
          "font": {
           "color": "black",
           "size": 14
          },
          "showarrow": false,
          "text": "Purgatorio",
          "x": 42,
          "xref": "x",
          "y": 0.55,
          "yref": "y"
         },
         {
          "arrowhead": 7,
          "ax": 0,
          "ay": -40,
          "font": {
           "color": "black",
           "size": 14
          },
          "showarrow": false,
          "text": "Paradiso",
          "x": 74,
          "xref": "x",
          "y": 0.55,
          "yref": "y"
         }
        ],
        "plot_bgcolor": "white",
        "showlegend": true,
        "template": {
         "data": {
          "bar": [
           {
            "error_x": {
             "color": "#2a3f5f"
            },
            "error_y": {
             "color": "#2a3f5f"
            },
            "marker": {
             "line": {
              "color": "#E5ECF6",
              "width": 0.5
             }
            },
            "type": "bar"
           }
          ],
          "barpolar": [
           {
            "marker": {
             "line": {
              "color": "#E5ECF6",
              "width": 0.5
             }
            },
            "type": "barpolar"
           }
          ],
          "carpet": [
           {
            "aaxis": {
             "endlinecolor": "#2a3f5f",
             "gridcolor": "white",
             "linecolor": "white",
             "minorgridcolor": "white",
             "startlinecolor": "#2a3f5f"
            },
            "baxis": {
             "endlinecolor": "#2a3f5f",
             "gridcolor": "white",
             "linecolor": "white",
             "minorgridcolor": "white",
             "startlinecolor": "#2a3f5f"
            },
            "type": "carpet"
           }
          ],
          "choropleth": [
           {
            "colorbar": {
             "outlinewidth": 0,
             "ticks": ""
            },
            "type": "choropleth"
           }
          ],
          "contour": [
           {
            "colorbar": {
             "outlinewidth": 0,
             "ticks": ""
            },
            "colorscale": [
             [
              0,
              "#0d0887"
             ],
             [
              0.1111111111111111,
              "#46039f"
             ],
             [
              0.2222222222222222,
              "#7201a8"
             ],
             [
              0.3333333333333333,
              "#9c179e"
             ],
             [
              0.4444444444444444,
              "#bd3786"
             ],
             [
              0.5555555555555556,
              "#d8576b"
             ],
             [
              0.6666666666666666,
              "#ed7953"
             ],
             [
              0.7777777777777778,
              "#fb9f3a"
             ],
             [
              0.8888888888888888,
              "#fdca26"
             ],
             [
              1,
              "#f0f921"
             ]
            ],
            "type": "contour"
           }
          ],
          "contourcarpet": [
           {
            "colorbar": {
             "outlinewidth": 0,
             "ticks": ""
            },
            "type": "contourcarpet"
           }
          ],
          "heatmap": [
           {
            "colorbar": {
             "outlinewidth": 0,
             "ticks": ""
            },
            "colorscale": [
             [
              0,
              "#0d0887"
             ],
             [
              0.1111111111111111,
              "#46039f"
             ],
             [
              0.2222222222222222,
              "#7201a8"
             ],
             [
              0.3333333333333333,
              "#9c179e"
             ],
             [
              0.4444444444444444,
              "#bd3786"
             ],
             [
              0.5555555555555556,
              "#d8576b"
             ],
             [
              0.6666666666666666,
              "#ed7953"
             ],
             [
              0.7777777777777778,
              "#fb9f3a"
             ],
             [
              0.8888888888888888,
              "#fdca26"
             ],
             [
              1,
              "#f0f921"
             ]
            ],
            "type": "heatmap"
           }
          ],
          "heatmapgl": [
           {
            "colorbar": {
             "outlinewidth": 0,
             "ticks": ""
            },
            "colorscale": [
             [
              0,
              "#0d0887"
             ],
             [
              0.1111111111111111,
              "#46039f"
             ],
             [
              0.2222222222222222,
              "#7201a8"
             ],
             [
              0.3333333333333333,
              "#9c179e"
             ],
             [
              0.4444444444444444,
              "#bd3786"
             ],
             [
              0.5555555555555556,
              "#d8576b"
             ],
             [
              0.6666666666666666,
              "#ed7953"
             ],
             [
              0.7777777777777778,
              "#fb9f3a"
             ],
             [
              0.8888888888888888,
              "#fdca26"
             ],
             [
              1,
              "#f0f921"
             ]
            ],
            "type": "heatmapgl"
           }
          ],
          "histogram": [
           {
            "marker": {
             "colorbar": {
              "outlinewidth": 0,
              "ticks": ""
             }
            },
            "type": "histogram"
           }
          ],
          "histogram2d": [
           {
            "colorbar": {
             "outlinewidth": 0,
             "ticks": ""
            },
            "colorscale": [
             [
              0,
              "#0d0887"
             ],
             [
              0.1111111111111111,
              "#46039f"
             ],
             [
              0.2222222222222222,
              "#7201a8"
             ],
             [
              0.3333333333333333,
              "#9c179e"
             ],
             [
              0.4444444444444444,
              "#bd3786"
             ],
             [
              0.5555555555555556,
              "#d8576b"
             ],
             [
              0.6666666666666666,
              "#ed7953"
             ],
             [
              0.7777777777777778,
              "#fb9f3a"
             ],
             [
              0.8888888888888888,
              "#fdca26"
             ],
             [
              1,
              "#f0f921"
             ]
            ],
            "type": "histogram2d"
           }
          ],
          "histogram2dcontour": [
           {
            "colorbar": {
             "outlinewidth": 0,
             "ticks": ""
            },
            "colorscale": [
             [
              0,
              "#0d0887"
             ],
             [
              0.1111111111111111,
              "#46039f"
             ],
             [
              0.2222222222222222,
              "#7201a8"
             ],
             [
              0.3333333333333333,
              "#9c179e"
             ],
             [
              0.4444444444444444,
              "#bd3786"
             ],
             [
              0.5555555555555556,
              "#d8576b"
             ],
             [
              0.6666666666666666,
              "#ed7953"
             ],
             [
              0.7777777777777778,
              "#fb9f3a"
             ],
             [
              0.8888888888888888,
              "#fdca26"
             ],
             [
              1,
              "#f0f921"
             ]
            ],
            "type": "histogram2dcontour"
           }
          ],
          "mesh3d": [
           {
            "colorbar": {
             "outlinewidth": 0,
             "ticks": ""
            },
            "type": "mesh3d"
           }
          ],
          "parcoords": [
           {
            "line": {
             "colorbar": {
              "outlinewidth": 0,
              "ticks": ""
             }
            },
            "type": "parcoords"
           }
          ],
          "scatter": [
           {
            "marker": {
             "colorbar": {
              "outlinewidth": 0,
              "ticks": ""
             }
            },
            "type": "scatter"
           }
          ],
          "scatter3d": [
           {
            "line": {
             "colorbar": {
              "outlinewidth": 0,
              "ticks": ""
             }
            },
            "marker": {
             "colorbar": {
              "outlinewidth": 0,
              "ticks": ""
             }
            },
            "type": "scatter3d"
           }
          ],
          "scattercarpet": [
           {
            "marker": {
             "colorbar": {
              "outlinewidth": 0,
              "ticks": ""
             }
            },
            "type": "scattercarpet"
           }
          ],
          "scattergeo": [
           {
            "marker": {
             "colorbar": {
              "outlinewidth": 0,
              "ticks": ""
             }
            },
            "type": "scattergeo"
           }
          ],
          "scattergl": [
           {
            "marker": {
             "colorbar": {
              "outlinewidth": 0,
              "ticks": ""
             }
            },
            "type": "scattergl"
           }
          ],
          "scattermapbox": [
           {
            "marker": {
             "colorbar": {
              "outlinewidth": 0,
              "ticks": ""
             }
            },
            "type": "scattermapbox"
           }
          ],
          "scatterpolar": [
           {
            "marker": {
             "colorbar": {
              "outlinewidth": 0,
              "ticks": ""
             }
            },
            "type": "scatterpolar"
           }
          ],
          "scatterpolargl": [
           {
            "marker": {
             "colorbar": {
              "outlinewidth": 0,
              "ticks": ""
             }
            },
            "type": "scatterpolargl"
           }
          ],
          "scatterternary": [
           {
            "marker": {
             "colorbar": {
              "outlinewidth": 0,
              "ticks": ""
             }
            },
            "type": "scatterternary"
           }
          ],
          "surface": [
           {
            "colorbar": {
             "outlinewidth": 0,
             "ticks": ""
            },
            "colorscale": [
             [
              0,
              "#0d0887"
             ],
             [
              0.1111111111111111,
              "#46039f"
             ],
             [
              0.2222222222222222,
              "#7201a8"
             ],
             [
              0.3333333333333333,
              "#9c179e"
             ],
             [
              0.4444444444444444,
              "#bd3786"
             ],
             [
              0.5555555555555556,
              "#d8576b"
             ],
             [
              0.6666666666666666,
              "#ed7953"
             ],
             [
              0.7777777777777778,
              "#fb9f3a"
             ],
             [
              0.8888888888888888,
              "#fdca26"
             ],
             [
              1,
              "#f0f921"
             ]
            ],
            "type": "surface"
           }
          ],
          "table": [
           {
            "cells": {
             "fill": {
              "color": "#EBF0F8"
             },
             "line": {
              "color": "white"
             }
            },
            "header": {
             "fill": {
              "color": "#C8D4E3"
             },
             "line": {
              "color": "white"
             }
            },
            "type": "table"
           }
          ]
         },
         "layout": {
          "annotationdefaults": {
           "arrowcolor": "#2a3f5f",
           "arrowhead": 0,
           "arrowwidth": 1
          },
          "colorscale": {
           "diverging": [
            [
             0,
             "#8e0152"
            ],
            [
             0.1,
             "#c51b7d"
            ],
            [
             0.2,
             "#de77ae"
            ],
            [
             0.3,
             "#f1b6da"
            ],
            [
             0.4,
             "#fde0ef"
            ],
            [
             0.5,
             "#f7f7f7"
            ],
            [
             0.6,
             "#e6f5d0"
            ],
            [
             0.7,
             "#b8e186"
            ],
            [
             0.8,
             "#7fbc41"
            ],
            [
             0.9,
             "#4d9221"
            ],
            [
             1,
             "#276419"
            ]
           ],
           "sequential": [
            [
             0,
             "#0d0887"
            ],
            [
             0.1111111111111111,
             "#46039f"
            ],
            [
             0.2222222222222222,
             "#7201a8"
            ],
            [
             0.3333333333333333,
             "#9c179e"
            ],
            [
             0.4444444444444444,
             "#bd3786"
            ],
            [
             0.5555555555555556,
             "#d8576b"
            ],
            [
             0.6666666666666666,
             "#ed7953"
            ],
            [
             0.7777777777777778,
             "#fb9f3a"
            ],
            [
             0.8888888888888888,
             "#fdca26"
            ],
            [
             1,
             "#f0f921"
            ]
           ],
           "sequentialminus": [
            [
             0,
             "#0d0887"
            ],
            [
             0.1111111111111111,
             "#46039f"
            ],
            [
             0.2222222222222222,
             "#7201a8"
            ],
            [
             0.3333333333333333,
             "#9c179e"
            ],
            [
             0.4444444444444444,
             "#bd3786"
            ],
            [
             0.5555555555555556,
             "#d8576b"
            ],
            [
             0.6666666666666666,
             "#ed7953"
            ],
            [
             0.7777777777777778,
             "#fb9f3a"
            ],
            [
             0.8888888888888888,
             "#fdca26"
            ],
            [
             1,
             "#f0f921"
            ]
           ]
          },
          "colorway": [
           "#636efa",
           "#EF553B",
           "#00cc96",
           "#ab63fa",
           "#FFA15A",
           "#19d3f3",
           "#FF6692",
           "#B6E880",
           "#FF97FF",
           "#FECB52"
          ],
          "font": {
           "color": "#2a3f5f"
          },
          "geo": {
           "bgcolor": "white",
           "lakecolor": "white",
           "landcolor": "#E5ECF6",
           "showlakes": true,
           "showland": true,
           "subunitcolor": "white"
          },
          "hoverlabel": {
           "align": "left"
          },
          "hovermode": "closest",
          "mapbox": {
           "style": "light"
          },
          "paper_bgcolor": "white",
          "plot_bgcolor": "#E5ECF6",
          "polar": {
           "angularaxis": {
            "gridcolor": "white",
            "linecolor": "white",
            "ticks": ""
           },
           "bgcolor": "#E5ECF6",
           "radialaxis": {
            "gridcolor": "white",
            "linecolor": "white",
            "ticks": ""
           }
          },
          "scene": {
           "xaxis": {
            "backgroundcolor": "#E5ECF6",
            "gridcolor": "white",
            "gridwidth": 2,
            "linecolor": "white",
            "showbackground": true,
            "ticks": "",
            "zerolinecolor": "white"
           },
           "yaxis": {
            "backgroundcolor": "#E5ECF6",
            "gridcolor": "white",
            "gridwidth": 2,
            "linecolor": "white",
            "showbackground": true,
            "ticks": "",
            "zerolinecolor": "white"
           },
           "zaxis": {
            "backgroundcolor": "#E5ECF6",
            "gridcolor": "white",
            "gridwidth": 2,
            "linecolor": "white",
            "showbackground": true,
            "ticks": "",
            "zerolinecolor": "white"
           }
          },
          "shapedefaults": {
           "line": {
            "color": "#2a3f5f"
           }
          },
          "ternary": {
           "aaxis": {
            "gridcolor": "white",
            "linecolor": "white",
            "ticks": ""
           },
           "baxis": {
            "gridcolor": "white",
            "linecolor": "white",
            "ticks": ""
           },
           "bgcolor": "#E5ECF6",
           "caxis": {
            "gridcolor": "white",
            "linecolor": "white",
            "ticks": ""
           }
          },
          "title": {
           "x": 0.05
          },
          "xaxis": {
           "automargin": true,
           "gridcolor": "white",
           "linecolor": "white",
           "ticks": "",
           "zerolinecolor": "white",
           "zerolinewidth": 2
          },
          "yaxis": {
           "automargin": true,
           "gridcolor": "white",
           "linecolor": "white",
           "ticks": "",
           "zerolinecolor": "white",
           "zerolinewidth": 2
          }
         }
        },
        "title": {
         "text": "Sentiment per Section",
         "x": 0.5
        },
        "xaxis": {
         "linecolor": "rgb(204, 204, 204)",
         "linewidth": 2,
         "rangeslider": {
          "visible": true
         },
         "showgrid": false,
         "showline": true,
         "showticklabels": true,
         "tickangle": -45,
         "tickfont": {
          "color": "rgb(82, 82, 82)",
          "family": "Arial",
          "size": 12
         },
         "ticks": "outside",
         "ticktext": [
          "1",
          "6",
          "11",
          "16",
          "21",
          "26",
          "31",
          "2",
          "7",
          "12",
          "17",
          "22",
          "27",
          "32",
          "4",
          "9",
          "14",
          "19",
          "24",
          "29"
         ],
         "tickvals": [
          1,
          6.050505050505051,
          11.101010101010102,
          16.151515151515152,
          21.202020202020204,
          26.252525252525253,
          31.303030303030305,
          36.35353535353536,
          41.40404040404041,
          46.45454545454546,
          51.505050505050505,
          56.55555555555556,
          61.60606060606061,
          66.65656565656566,
          71.70707070707071,
          76.75757575757576,
          81.80808080808082,
          86.85858585858587,
          91.90909090909092,
          96.95959595959597
         ],
         "title": {
          "text": "Canto"
         }
        },
        "yaxis": {
         "range": [
          -0.7,
          0.7
         ],
         "showgrid": false
        }
       }
      },
      "text/html": [
       "<div>\n",
       "        \n",
       "        \n",
       "            <div id=\"de938db1-3dd6-4677-9ace-fa9022ed812f\" class=\"plotly-graph-div\" style=\"height:525px; width:100%;\"></div>\n",
       "            <script type=\"text/javascript\">\n",
       "                require([\"plotly\"], function(Plotly) {\n",
       "                    window.PLOTLYENV=window.PLOTLYENV || {};\n",
       "                    \n",
       "                if (document.getElementById(\"de938db1-3dd6-4677-9ace-fa9022ed812f\")) {\n",
       "                    Plotly.newPlot(\n",
       "                        'de938db1-3dd6-4677-9ace-fa9022ed812f',\n",
       "                        [{\"hoverinfo\": \"text\", \"hovertext\": [\"Inferno: <br>Canto #1\", \"Inferno: <br>Canto #2\", \"Inferno: <br>Canto #3\", \"Inferno: <br>Canto #4\", \"Inferno: <br>Canto #5\", \"Inferno: <br>Canto #6\", \"Inferno: <br>Canto #7\", \"Inferno: <br>Canto #8\", \"Inferno: <br>Canto #9\", \"Inferno: <br>Canto #10\", \"Inferno: <br>Canto #11\", \"Inferno: <br>Canto #12\", \"Inferno: <br>Canto #13\", \"Inferno: <br>Canto #14\", \"Inferno: <br>Canto #15\", \"Inferno: <br>Canto #16\", \"Inferno: <br>Canto #17\", \"Inferno: <br>Canto #18\", \"Inferno: <br>Canto #19\", \"Inferno: <br>Canto #20\", \"Inferno: <br>Canto #21\", \"Inferno: <br>Canto #22\", \"Inferno: <br>Canto #23\", \"Inferno: <br>Canto #24\", \"Inferno: <br>Canto #25\", \"Inferno: <br>Canto #26\", \"Inferno: <br>Canto #27\", \"Inferno: <br>Canto #28\", \"Inferno: <br>Canto #29\", \"Inferno: <br>Canto #30\", \"Inferno: <br>Canto #31\", \"Inferno: <br>Canto #32\", \"Inferno: <br>Canto #33\", \"Inferno: <br>Canto #34\"], \"line\": {\"color\": \"rgb(256, 0, 0)\", \"width\": 4}, \"mode\": \"lines+markers\", \"name\": \"Sentiment Polarity - Inferno\", \"type\": \"scatter\", \"x\": [1.0, 2.0, 3.0, 4.0, 5.0, 6.0, 7.0, 8.0, 9.0, 10.0, 11.0, 12.0, 13.0, 14.0, 15.0, 16.0, 17.0, 18.0, 19.0, 20.0, 21.0, 22.0, 23.0, 24.0, 25.0, 26.0, 27.0, 28.0, 29.0, 30.0, 31.0, 32.0, 33.0, 34.0], \"y\": [0.1206595663723731, 0.07826745237942158, 0.002899906872826605, -0.005007497994471373, -0.023618803592490568, 0.08155505463429141, 0.09660443997294008, 0.03312524846533047, 0.030205952552748293, 0.03770484018134869, 0.0443711452623351, 0.08690917354641714, 0.06738916582464606, -0.00866304113570265, -0.019246777686794763, 0.05853644273161265, -0.0016897458806796788, 0.017995212574997657, 0.08534561629716042, 0.07581786336389114, 0.02051746328109157, 0.016682648512384313, -0.029471352634626975, 0.010583220879561015, 0.026100393028048046, 0.035427716283105704, -0.09002305288592642, 0.002589137935575927, 0.05515459206056352, 0.04411083197625172, 0.10550603989153673, -0.03655318072682757, 0.022891711784783168, 0.0547343734156274]}, {\"hoverinfo\": \"skip\", \"legendgroup\": \"inferno_derivatives\", \"line\": {\"color\": \"rgb(0, 256, 0)\", \"width\": 1.4}, \"mode\": \"lines\", \"name\": \"First Derivative\", \"type\": \"scatter\", \"x\": [1.0, 2.0, 3.0, 4.0, 5.0, 6.0, 7.0, 8.0, 9.0, 10.0, 11.0, 12.0, 13.0, 14.0, 15.0, 16.0, 17.0, 18.0, 19.0, 20.0, 21.0, 22.0, 23.0, 24.0, 25.0, 26.0, 27.0, 28.0, 29.0, 30.0, 31.0, 32.0, 33.0, 34.0], \"y\": [-0.04239211399295152, -0.07536754550659497, -0.007907404867297978, -0.018611305598019198, 0.10517385822678198, 0.015049385338648663, -0.06347919150760961, -0.002919295912582179, 0.007498887628600397, 0.006666305080986409, 0.042538028284082034, -0.019520007721771083, -0.07605220696034871, -0.010583736551092113, 0.07778322041840742, -0.060226188612292335, 0.01968495845567733, 0.06735040372216276, -0.009527752933269282, -0.055300400082799565, -0.003834814768707257, -0.046154001147011285, 0.040054573514188, 0.015517172148487031, 0.009327323255057656, -0.12545076916903214, 0.09261219082150236, 0.05256545412498759, -0.011043760084311792, 0.061395207915285015, -0.1420592206183643, 0.05944489251161074, 0.03184266163084423, 0.03184266163084423]}, {\"hoverinfo\": \"skip\", \"legendgroup\": \"inferno_derivatives\", \"line\": {\"color\": \"rgb(0, 0, 256)\", \"width\": 1.4}, \"mode\": \"lines\", \"name\": \"Second Derivative\", \"type\": \"scatter\", \"x\": [1.0, 2.0, 3.0, 4.0, 5.0, 6.0, 7.0, 8.0, 9.0, 10.0, 11.0, 12.0, 13.0, 14.0, 15.0, 16.0, 17.0, 18.0, 19.0, 20.0, 21.0, 22.0, 23.0, 24.0, 25.0, 26.0, 27.0, 28.0, 29.0, 30.0, 31.0, 32.0, 33.0, 34.0], \"y\": [-0.03297543151364345, 0.06746014063929699, -0.010703900730721215, 0.12378516382480118, -0.09012447288813333, -0.07852857684625827, 0.060559895595027426, 0.010418183541182577, -0.0008325825476139873, 0.03587172320309563, -0.06205803600585313, -0.056532199238577635, 0.0654684704092566, 0.08836695696949952, -0.13800940903069975, 0.07991114706796967, 0.04766544526648543, -0.07687815665543205, -0.04577264714953029, 0.051465585314092316, -0.042319186378304036, 0.08620857466119929, -0.024537401365700963, -0.0061898488934293725, -0.1347780924240898, 0.2180629599905345, -0.04004673669651476, -0.06360921420929938, 0.0724389679995968, -0.2034544285336493, 0.20150411312997504, -0.02760223088076651, 0.0, 0.0]}, {\"hoverinfo\": \"skip\", \"line\": {\"color\": \"firebrick\", \"dash\": \"dash\", \"width\": 1.2}, \"mode\": \"lines\", \"name\": \"Purgatorio Splitter\", \"showlegend\": false, \"type\": \"scatter\", \"x\": [34, 34], \"y\": [-1, 1]}, {\"hoverinfo\": \"text\", \"hovertext\": [\"Purgatorio: <br>Canto #1\", \"Purgatorio: <br>Canto #2\", \"Purgatorio: <br>Canto #3\", \"Purgatorio: <br>Canto #4\", \"Purgatorio: <br>Canto #5\", \"Purgatorio: <br>Canto #6\", \"Purgatorio: <br>Canto #7\", \"Purgatorio: <br>Canto #8\", \"Purgatorio: <br>Canto #9\", \"Purgatorio: <br>Canto #10\", \"Purgatorio: <br>Canto #11\", \"Purgatorio: <br>Canto #12\", \"Purgatorio: <br>Canto #13\", \"Purgatorio: <br>Canto #14\", \"Purgatorio: <br>Canto #15\", \"Purgatorio: <br>Canto #16\", \"Purgatorio: <br>Canto #17\", \"Purgatorio: <br>Canto #18\", \"Purgatorio: <br>Canto #19\", \"Purgatorio: <br>Canto #20\", \"Purgatorio: <br>Canto #21\", \"Purgatorio: <br>Canto #22\", \"Purgatorio: <br>Canto #23\", \"Purgatorio: <br>Canto #24\", \"Purgatorio: <br>Canto #25\", \"Purgatorio: <br>Canto #26\", \"Purgatorio: <br>Canto #27\", \"Purgatorio: <br>Canto #28\", \"Purgatorio: <br>Canto #29\", \"Purgatorio: <br>Canto #30\", \"Purgatorio: <br>Canto #31\", \"Purgatorio: <br>Canto #32\", \"Purgatorio: <br>Canto #33\"], \"line\": {\"color\": \"rgb(256, 0, 0)\", \"width\": 4}, \"mode\": \"lines+markers\", \"name\": \"Sentiment Polarity - Purgatorio\", \"showlegend\": true, \"type\": \"scatter\", \"x\": [34.0, 35.0, 36.0, 37.0, 38.0, 39.0, 40.0, 41.0, 42.0, 43.0, 44.0, 45.0, 46.0, 47.0, 48.0, 49.0, 50.0, 51.0, 52.0, 53.0, 54.0, 55.0, 56.0, 57.0, 58.0, 59.0, 60.0, 61.0, 62.0, 63.0, 64.0, 65.0, 66.0], \"y\": [0.04369263579112568, 0.055842550094455004, 0.0663728331096856, 0.02460102762264765, 0.04918658162610129, 0.0617261073078862, 0.13473216038566113, 0.06641184803605786, 0.0905381470069241, 0.11803836342167755, 0.028647326074217026, 0.11577637077369625, 0.11357767791691566, 0.13901376013254593, 0.09545229847785536, 0.032954178332631284, 0.11644607909605242, 0.10266220960227887, 0.12859796060644302, 0.15757578397703895, 0.18109184888082733, 0.08205727306805867, 0.06921083993656754, 0.07366707039083964, 0.05084288679924962, 0.05584597415307314, 0.08044048972966374, 0.06364944720594064, -0.011834957140639313, 0.06442478719585093, 0.0947044882934542, 0.050300253099396106, 0.09045273469240904]}, {\"hoverinfo\": \"skip\", \"legendgroup\": \"purgatorio_derivatives\", \"line\": {\"color\": \"rgb(0, 256, 0)\", \"width\": 1.4}, \"mode\": \"lines\", \"name\": \"First Derivative\", \"showlegend\": true, \"type\": \"scatter\", \"x\": [34.0, 35.0, 36.0, 37.0, 38.0, 39.0, 40.0, 41.0, 42.0, 43.0, 44.0, 45.0, 46.0, 47.0, 48.0, 49.0, 50.0, 51.0, 52.0, 53.0, 54.0, 55.0, 56.0, 57.0, 58.0, 59.0, 60.0, 61.0, 62.0, 63.0, 64.0, 65.0, 66.0], \"y\": [0.012149914303329323, 0.010530283015230596, -0.04177180548703795, 0.02458555400345364, 0.012539525681784907, 0.07300605307777494, -0.06832031234960327, 0.02412629897086624, 0.027500216414753448, -0.08939103734746053, 0.08712904469947923, -0.002198692856780593, 0.02543608221563028, -0.043561461654690575, -0.06249812014522407, 0.08349190076342114, -0.013783869493773554, 0.025935751004164148, 0.028977823370595932, 0.02351606490378838, -0.09903457581276866, -0.012846433131491128, 0.004456230454272098, -0.022824183591590014, 0.005003087353823515, 0.0245945155765906, -0.0167910425237231, -0.07548440434657995, 0.07625974433649024, 0.03027970109760326, -0.04440423519405809, 0.04015248159301293, 0.04015248159301293]}, {\"hoverinfo\": \"skip\", \"legendgroup\": \"purgatorio_derivatives\", \"line\": {\"color\": \"rgb(0, 0, 256)\", \"width\": 1.4}, \"mode\": \"lines\", \"name\": \"Second Derivative\", \"showlegend\": true, \"type\": \"scatter\", \"x\": [34.0, 35.0, 36.0, 37.0, 38.0, 39.0, 40.0, 41.0, 42.0, 43.0, 44.0, 45.0, 46.0, 47.0, 48.0, 49.0, 50.0, 51.0, 52.0, 53.0, 54.0, 55.0, 56.0, 57.0, 58.0, 59.0, 60.0, 61.0, 62.0, 63.0, 64.0, 65.0, 66.0], \"y\": [-0.0016196312880987287, -0.052302088502268536, 0.06635735949049157, -0.01204602832166873, 0.060466527395990025, -0.1413263654273782, 0.09244661132046952, 0.003373917443887209, -0.11689125376221395, 0.17652008204693975, -0.08932773755625982, 0.02763477507241087, -0.06899754387032085, -0.018936658490533498, 0.1459900209086452, -0.0972757702571947, 0.0397196204979377, 0.003042072366431781, -0.005461758466807548, -0.12255064071655705, 0.08618814268127753, 0.017302663585763225, -0.02728041404586212, 0.02782727094541353, 0.019591428222767084, -0.0413855581003137, -0.05869336182285685, 0.15174414868307018, -0.04598004323888698, -0.07468393629166135, 0.08455671678707102, 0.0, 0.0]}, {\"hoverinfo\": \"skip\", \"line\": {\"color\": \"firebrick\", \"dash\": \"dash\", \"width\": 1.2}, \"mode\": \"lines\", \"name\": \"Paradiso Splitter\", \"showlegend\": false, \"type\": \"scatter\", \"x\": [67, 67], \"y\": [-1, 1]}, {\"hoverinfo\": \"text\", \"hovertext\": [\"Paradiso: <br>Canto #1\", \"Paradiso: <br>Canto #2\", \"Paradiso: <br>Canto #3\", \"Paradiso: <br>Canto #4\", \"Paradiso: <br>Canto #5\", \"Paradiso: <br>Canto #6\", \"Paradiso: <br>Canto #7\", \"Paradiso: <br>Canto #8\", \"Paradiso: <br>Canto #9\", \"Paradiso: <br>Canto #10\", \"Paradiso: <br>Canto #11\", \"Paradiso: <br>Canto #12\", \"Paradiso: <br>Canto #13\", \"Paradiso: <br>Canto #14\", \"Paradiso: <br>Canto #15\", \"Paradiso: <br>Canto #16\", \"Paradiso: <br>Canto #17\", \"Paradiso: <br>Canto #18\", \"Paradiso: <br>Canto #19\", \"Paradiso: <br>Canto #20\", \"Paradiso: <br>Canto #21\", \"Paradiso: <br>Canto #22\", \"Paradiso: <br>Canto #23\", \"Paradiso: <br>Canto #24\", \"Paradiso: <br>Canto #25\", \"Paradiso: <br>Canto #26\", \"Paradiso: <br>Canto #27\", \"Paradiso: <br>Canto #28\", \"Paradiso: <br>Canto #29\", \"Paradiso: <br>Canto #30\", \"Paradiso: <br>Canto #31\", \"Paradiso: <br>Canto #32\", \"Paradiso: <br>Canto #33\"], \"line\": {\"color\": \"rgb(256, 0, 0)\", \"width\": 4}, \"mode\": \"lines+markers\", \"name\": \"Sentiment Polarity - Paradiso\", \"showlegend\": true, \"type\": \"scatter\", \"x\": [67.0, 68.0, 69.0, 70.0, 71.0, 72.0, 73.0, 74.0, 75.0, 76.0, 77.0, 78.0, 79.0, 80.0, 81.0, 82.0, 83.0, 84.0, 85.0, 86.0, 87.0, 88.0, 89.0, 90.0, 91.0, 92.0, 93.0, 94.0, 95.0, 96.0, 97.0, 98.0, 99.0], \"y\": [0.18212309624362946, 0.12063651131824528, 0.13750301921307911, 0.18562987544879148, 0.08226734651018419, 0.08910606186259899, 0.13187537116634962, 0.1995924692372248, 0.1449301971579215, 0.12593673456758, 0.056000804280693366, 0.15539184617059054, 0.10577468473387276, 0.14888023659743618, 0.050557435756363706, 0.16795899502613199, 0.19117751761805266, 0.15984315366649313, 0.2429925204975573, 0.12132450684396068, 0.08665731000764484, 0.09912677997905313, 0.17883475421125694, 0.11876193390275355, 0.12913848774169776, 0.10306779836210696, 0.16853623081097333, 0.10404942120696102, 0.14069906189732792, 0.07219801444811705, 0.12574233350382846, 0.08908113839735549, 0.08021272292272029]}, {\"hoverinfo\": \"skip\", \"legendgroup\": \"paradiso_derivatives\", \"line\": {\"color\": \"rgb(0, 256, 0)\", \"width\": 1.4}, \"mode\": \"lines\", \"name\": \"First Derivative\", \"showlegend\": true, \"type\": \"scatter\", \"x\": [67.0, 68.0, 69.0, 70.0, 71.0, 72.0, 73.0, 74.0, 75.0, 76.0, 77.0, 78.0, 79.0, 80.0, 81.0, 82.0, 83.0, 84.0, 85.0, 86.0, 87.0, 88.0, 89.0, 90.0, 91.0, 92.0, 93.0, 94.0, 95.0, 96.0, 97.0, 98.0, 99.0], \"y\": [-0.061486584925384176, 0.01686650789483384, 0.04812685623571236, -0.10336252893860727, 0.006838715352414801, 0.042769309303750634, 0.06771709807087517, -0.0546622720793033, -0.018993462590341487, -0.06993593028688662, 0.09939104188989717, -0.04961716143671778, 0.04310555186356342, -0.09832280084107248, 0.11740155926976832, 0.023218522591920643, -0.03133436395155953, 0.08314936683106414, -0.1216680136535966, -0.03466719683631583, 0.012469469971408284, 0.07970797423220381, -0.06007282030850339, 0.0103765538389442, -0.0260706893795908, 0.06546843244886638, -0.0644868096040123, 0.0366496406903669, -0.06850104744921087, 0.05354431905571142, -0.036661195106472984, -0.008868415474635197, -0.008868415474635197]}, {\"hoverinfo\": \"skip\", \"legendgroup\": \"paradiso_derivatives\", \"line\": {\"color\": \"rgb(0, 0, 256)\", \"width\": 1.4}, \"mode\": \"lines\", \"name\": \"Second Derivative\", \"showlegend\": true, \"type\": \"scatter\", \"x\": [67.0, 68.0, 69.0, 70.0, 71.0, 72.0, 73.0, 74.0, 75.0, 76.0, 77.0, 78.0, 79.0, 80.0, 81.0, 82.0, 83.0, 84.0, 85.0, 86.0, 87.0, 88.0, 89.0, 90.0, 91.0, 92.0, 93.0, 94.0, 95.0, 96.0, 97.0, 98.0, 99.0], \"y\": [0.07835309282021803, 0.031260348340878534, -0.15148938517431965, 0.11020124429102207, 0.035930593951335826, 0.024947788767124543, -0.12237937015017847, 0.03566880948896181, -0.050942467696545146, 0.1693269721767838, -0.14900820332661496, 0.0927227133002812, -0.14142835270463588, 0.2157243601108408, -0.09418303667784766, -0.054552886543480165, 0.11448373078262368, -0.20481738048466072, 0.08700081681728075, 0.04713666680772412, 0.06723850426079553, -0.1397807945407072, 0.07044937414744759, -0.036447243218535, 0.09153912182845717, -0.12995524205287867, 0.1011364502943792, -0.10515068813957776, 0.12204536650492227, -0.0902055141621844, 0.02779277963183778, 0.0, 0.0]}],\n",
       "                        {\"annotations\": [{\"arrowhead\": 7, \"ax\": 0, \"ay\": -40, \"font\": {\"color\": \"black\", \"size\": 14}, \"showarrow\": false, \"text\": \"Inferno\", \"x\": 5, \"xref\": \"x\", \"y\": 0.55, \"yref\": \"y\"}, {\"arrowhead\": 7, \"ax\": 0, \"ay\": -40, \"font\": {\"color\": \"black\", \"size\": 14}, \"showarrow\": false, \"text\": \"Purgatorio\", \"x\": 42, \"xref\": \"x\", \"y\": 0.55, \"yref\": \"y\"}, {\"arrowhead\": 7, \"ax\": 0, \"ay\": -40, \"font\": {\"color\": \"black\", \"size\": 14}, \"showarrow\": false, \"text\": \"Paradiso\", \"x\": 74.0, \"xref\": \"x\", \"y\": 0.55, \"yref\": \"y\"}], \"plot_bgcolor\": \"white\", \"showlegend\": true, \"template\": {\"data\": {\"bar\": [{\"error_x\": {\"color\": \"#2a3f5f\"}, \"error_y\": {\"color\": \"#2a3f5f\"}, \"marker\": {\"line\": {\"color\": \"#E5ECF6\", \"width\": 0.5}}, \"type\": \"bar\"}], \"barpolar\": [{\"marker\": {\"line\": {\"color\": \"#E5ECF6\", \"width\": 0.5}}, \"type\": \"barpolar\"}], \"carpet\": [{\"aaxis\": {\"endlinecolor\": \"#2a3f5f\", \"gridcolor\": \"white\", \"linecolor\": \"white\", \"minorgridcolor\": \"white\", \"startlinecolor\": \"#2a3f5f\"}, \"baxis\": {\"endlinecolor\": \"#2a3f5f\", \"gridcolor\": \"white\", \"linecolor\": \"white\", \"minorgridcolor\": \"white\", \"startlinecolor\": \"#2a3f5f\"}, \"type\": \"carpet\"}], \"choropleth\": [{\"colorbar\": {\"outlinewidth\": 0, \"ticks\": \"\"}, \"type\": \"choropleth\"}], \"contour\": [{\"colorbar\": {\"outlinewidth\": 0, \"ticks\": \"\"}, \"colorscale\": [[0.0, \"#0d0887\"], [0.1111111111111111, \"#46039f\"], [0.2222222222222222, \"#7201a8\"], [0.3333333333333333, \"#9c179e\"], [0.4444444444444444, \"#bd3786\"], [0.5555555555555556, \"#d8576b\"], [0.6666666666666666, \"#ed7953\"], [0.7777777777777778, \"#fb9f3a\"], [0.8888888888888888, \"#fdca26\"], [1.0, \"#f0f921\"]], \"type\": \"contour\"}], \"contourcarpet\": [{\"colorbar\": {\"outlinewidth\": 0, \"ticks\": \"\"}, \"type\": \"contourcarpet\"}], \"heatmap\": [{\"colorbar\": {\"outlinewidth\": 0, \"ticks\": \"\"}, \"colorscale\": [[0.0, \"#0d0887\"], [0.1111111111111111, \"#46039f\"], [0.2222222222222222, \"#7201a8\"], [0.3333333333333333, \"#9c179e\"], [0.4444444444444444, \"#bd3786\"], [0.5555555555555556, \"#d8576b\"], [0.6666666666666666, \"#ed7953\"], [0.7777777777777778, \"#fb9f3a\"], [0.8888888888888888, \"#fdca26\"], [1.0, \"#f0f921\"]], \"type\": \"heatmap\"}], \"heatmapgl\": [{\"colorbar\": {\"outlinewidth\": 0, \"ticks\": \"\"}, \"colorscale\": [[0.0, \"#0d0887\"], [0.1111111111111111, \"#46039f\"], [0.2222222222222222, \"#7201a8\"], [0.3333333333333333, \"#9c179e\"], [0.4444444444444444, \"#bd3786\"], [0.5555555555555556, \"#d8576b\"], [0.6666666666666666, \"#ed7953\"], [0.7777777777777778, \"#fb9f3a\"], [0.8888888888888888, \"#fdca26\"], [1.0, \"#f0f921\"]], \"type\": \"heatmapgl\"}], \"histogram\": [{\"marker\": {\"colorbar\": {\"outlinewidth\": 0, \"ticks\": \"\"}}, \"type\": \"histogram\"}], \"histogram2d\": [{\"colorbar\": {\"outlinewidth\": 0, \"ticks\": \"\"}, \"colorscale\": [[0.0, \"#0d0887\"], [0.1111111111111111, \"#46039f\"], [0.2222222222222222, \"#7201a8\"], [0.3333333333333333, \"#9c179e\"], [0.4444444444444444, \"#bd3786\"], [0.5555555555555556, \"#d8576b\"], [0.6666666666666666, \"#ed7953\"], [0.7777777777777778, \"#fb9f3a\"], [0.8888888888888888, \"#fdca26\"], [1.0, \"#f0f921\"]], \"type\": \"histogram2d\"}], \"histogram2dcontour\": [{\"colorbar\": {\"outlinewidth\": 0, \"ticks\": \"\"}, \"colorscale\": [[0.0, \"#0d0887\"], [0.1111111111111111, \"#46039f\"], [0.2222222222222222, \"#7201a8\"], [0.3333333333333333, \"#9c179e\"], [0.4444444444444444, \"#bd3786\"], [0.5555555555555556, \"#d8576b\"], [0.6666666666666666, \"#ed7953\"], [0.7777777777777778, \"#fb9f3a\"], [0.8888888888888888, \"#fdca26\"], [1.0, \"#f0f921\"]], \"type\": \"histogram2dcontour\"}], \"mesh3d\": [{\"colorbar\": {\"outlinewidth\": 0, \"ticks\": \"\"}, \"type\": \"mesh3d\"}], \"parcoords\": [{\"line\": {\"colorbar\": {\"outlinewidth\": 0, \"ticks\": \"\"}}, \"type\": \"parcoords\"}], \"scatter\": [{\"marker\": {\"colorbar\": {\"outlinewidth\": 0, \"ticks\": \"\"}}, \"type\": \"scatter\"}], \"scatter3d\": [{\"line\": {\"colorbar\": {\"outlinewidth\": 0, \"ticks\": \"\"}}, \"marker\": {\"colorbar\": {\"outlinewidth\": 0, \"ticks\": \"\"}}, \"type\": \"scatter3d\"}], \"scattercarpet\": [{\"marker\": {\"colorbar\": {\"outlinewidth\": 0, \"ticks\": \"\"}}, \"type\": \"scattercarpet\"}], \"scattergeo\": [{\"marker\": {\"colorbar\": {\"outlinewidth\": 0, \"ticks\": \"\"}}, \"type\": \"scattergeo\"}], \"scattergl\": [{\"marker\": {\"colorbar\": {\"outlinewidth\": 0, \"ticks\": \"\"}}, \"type\": \"scattergl\"}], \"scattermapbox\": [{\"marker\": {\"colorbar\": {\"outlinewidth\": 0, \"ticks\": \"\"}}, \"type\": \"scattermapbox\"}], \"scatterpolar\": [{\"marker\": {\"colorbar\": {\"outlinewidth\": 0, \"ticks\": \"\"}}, \"type\": \"scatterpolar\"}], \"scatterpolargl\": [{\"marker\": {\"colorbar\": {\"outlinewidth\": 0, \"ticks\": \"\"}}, \"type\": \"scatterpolargl\"}], \"scatterternary\": [{\"marker\": {\"colorbar\": {\"outlinewidth\": 0, \"ticks\": \"\"}}, \"type\": \"scatterternary\"}], \"surface\": [{\"colorbar\": {\"outlinewidth\": 0, \"ticks\": \"\"}, \"colorscale\": [[0.0, \"#0d0887\"], [0.1111111111111111, \"#46039f\"], [0.2222222222222222, \"#7201a8\"], [0.3333333333333333, \"#9c179e\"], [0.4444444444444444, \"#bd3786\"], [0.5555555555555556, \"#d8576b\"], [0.6666666666666666, \"#ed7953\"], [0.7777777777777778, \"#fb9f3a\"], [0.8888888888888888, \"#fdca26\"], [1.0, \"#f0f921\"]], \"type\": \"surface\"}], \"table\": [{\"cells\": {\"fill\": {\"color\": \"#EBF0F8\"}, \"line\": {\"color\": \"white\"}}, \"header\": {\"fill\": {\"color\": \"#C8D4E3\"}, \"line\": {\"color\": \"white\"}}, \"type\": \"table\"}]}, \"layout\": {\"annotationdefaults\": {\"arrowcolor\": \"#2a3f5f\", \"arrowhead\": 0, \"arrowwidth\": 1}, \"colorscale\": {\"diverging\": [[0, \"#8e0152\"], [0.1, \"#c51b7d\"], [0.2, \"#de77ae\"], [0.3, \"#f1b6da\"], [0.4, \"#fde0ef\"], [0.5, \"#f7f7f7\"], [0.6, \"#e6f5d0\"], [0.7, \"#b8e186\"], [0.8, \"#7fbc41\"], [0.9, \"#4d9221\"], [1, \"#276419\"]], \"sequential\": [[0.0, \"#0d0887\"], [0.1111111111111111, \"#46039f\"], [0.2222222222222222, \"#7201a8\"], [0.3333333333333333, \"#9c179e\"], [0.4444444444444444, \"#bd3786\"], [0.5555555555555556, \"#d8576b\"], [0.6666666666666666, \"#ed7953\"], [0.7777777777777778, \"#fb9f3a\"], [0.8888888888888888, \"#fdca26\"], [1.0, \"#f0f921\"]], \"sequentialminus\": [[0.0, \"#0d0887\"], [0.1111111111111111, \"#46039f\"], [0.2222222222222222, \"#7201a8\"], [0.3333333333333333, \"#9c179e\"], [0.4444444444444444, \"#bd3786\"], [0.5555555555555556, \"#d8576b\"], [0.6666666666666666, \"#ed7953\"], [0.7777777777777778, \"#fb9f3a\"], [0.8888888888888888, \"#fdca26\"], [1.0, \"#f0f921\"]]}, \"colorway\": [\"#636efa\", \"#EF553B\", \"#00cc96\", \"#ab63fa\", \"#FFA15A\", \"#19d3f3\", \"#FF6692\", \"#B6E880\", \"#FF97FF\", \"#FECB52\"], \"font\": {\"color\": \"#2a3f5f\"}, \"geo\": {\"bgcolor\": \"white\", \"lakecolor\": \"white\", \"landcolor\": \"#E5ECF6\", \"showlakes\": true, \"showland\": true, \"subunitcolor\": \"white\"}, \"hoverlabel\": {\"align\": \"left\"}, \"hovermode\": \"closest\", \"mapbox\": {\"style\": \"light\"}, \"paper_bgcolor\": \"white\", \"plot_bgcolor\": \"#E5ECF6\", \"polar\": {\"angularaxis\": {\"gridcolor\": \"white\", \"linecolor\": \"white\", \"ticks\": \"\"}, \"bgcolor\": \"#E5ECF6\", \"radialaxis\": {\"gridcolor\": \"white\", \"linecolor\": \"white\", \"ticks\": \"\"}}, \"scene\": {\"xaxis\": {\"backgroundcolor\": \"#E5ECF6\", \"gridcolor\": \"white\", \"gridwidth\": 2, \"linecolor\": \"white\", \"showbackground\": true, \"ticks\": \"\", \"zerolinecolor\": \"white\"}, \"yaxis\": {\"backgroundcolor\": \"#E5ECF6\", \"gridcolor\": \"white\", \"gridwidth\": 2, \"linecolor\": \"white\", \"showbackground\": true, \"ticks\": \"\", \"zerolinecolor\": \"white\"}, \"zaxis\": {\"backgroundcolor\": \"#E5ECF6\", \"gridcolor\": \"white\", \"gridwidth\": 2, \"linecolor\": \"white\", \"showbackground\": true, \"ticks\": \"\", \"zerolinecolor\": \"white\"}}, \"shapedefaults\": {\"line\": {\"color\": \"#2a3f5f\"}}, \"ternary\": {\"aaxis\": {\"gridcolor\": \"white\", \"linecolor\": \"white\", \"ticks\": \"\"}, \"baxis\": {\"gridcolor\": \"white\", \"linecolor\": \"white\", \"ticks\": \"\"}, \"bgcolor\": \"#E5ECF6\", \"caxis\": {\"gridcolor\": \"white\", \"linecolor\": \"white\", \"ticks\": \"\"}}, \"title\": {\"x\": 0.05}, \"xaxis\": {\"automargin\": true, \"gridcolor\": \"white\", \"linecolor\": \"white\", \"ticks\": \"\", \"zerolinecolor\": \"white\", \"zerolinewidth\": 2}, \"yaxis\": {\"automargin\": true, \"gridcolor\": \"white\", \"linecolor\": \"white\", \"ticks\": \"\", \"zerolinecolor\": \"white\", \"zerolinewidth\": 2}}}, \"title\": {\"text\": \"Sentiment per Section\", \"x\": 0.5}, \"xaxis\": {\"linecolor\": \"rgb(204, 204, 204)\", \"linewidth\": 2, \"rangeslider\": {\"visible\": true}, \"showgrid\": false, \"showline\": true, \"showticklabels\": true, \"tickangle\": -45, \"tickfont\": {\"color\": \"rgb(82, 82, 82)\", \"family\": \"Arial\", \"size\": 12}, \"ticks\": \"outside\", \"ticktext\": [\"1\", \"6\", \"11\", \"16\", \"21\", \"26\", \"31\", \"2\", \"7\", \"12\", \"17\", \"22\", \"27\", \"32\", \"4\", \"9\", \"14\", \"19\", \"24\", \"29\"], \"tickvals\": [1.0, 6.050505050505051, 11.101010101010102, 16.151515151515152, 21.202020202020204, 26.252525252525253, 31.303030303030305, 36.35353535353536, 41.40404040404041, 46.45454545454546, 51.505050505050505, 56.55555555555556, 61.60606060606061, 66.65656565656566, 71.70707070707071, 76.75757575757576, 81.80808080808082, 86.85858585858587, 91.90909090909092, 96.95959595959597], \"title\": {\"text\": \"Canto\"}}, \"yaxis\": {\"range\": [-0.7, 0.7], \"showgrid\": false}},\n",
       "                        {\"responsive\": true}\n",
       "                    ).then(function(){\n",
       "                            \n",
       "var gd = document.getElementById('de938db1-3dd6-4677-9ace-fa9022ed812f');\n",
       "var x = new MutationObserver(function (mutations, observer) {{\n",
       "        var display = window.getComputedStyle(gd).display;\n",
       "        if (!display || display === 'none') {{\n",
       "            console.log([gd, 'removed!']);\n",
       "            Plotly.purge(gd);\n",
       "            observer.disconnect();\n",
       "        }}\n",
       "}});\n",
       "\n",
       "// Listen for the removal of the full notebook cells\n",
       "var notebookContainer = gd.closest('#notebook-container');\n",
       "if (notebookContainer) {{\n",
       "    x.observe(notebookContainer, {childList: true});\n",
       "}}\n",
       "\n",
       "// Listen for the clearing of the current output cell\n",
       "var outputEl = gd.closest('.output');\n",
       "if (outputEl) {{\n",
       "    x.observe(outputEl, {childList: true});\n",
       "}}\n",
       "\n",
       "                        })\n",
       "                };\n",
       "                });\n",
       "            </script>\n",
       "        </div>"
      ]
     },
     "metadata": {},
     "output_type": "display_data"
    }
   ],
   "source": [
    "# Create traces\n",
    "\n",
    "\"\"\"\n",
    "sentiment_color = 'rgb(61, 43, 86)'\n",
    "first_derivative_color = 'rgb(44, 73, 127)'\n",
    "second_derivative_color = 'rgb(128, 138, 159)'\n",
    "\"\"\"\n",
    "\n",
    "sentiment_color = 'rgb(256, 0, 0)'\n",
    "first_derivative_color = 'rgb(0, 256, 0)'\n",
    "second_derivative_color = 'rgb(0, 0, 256)'\n",
    "\n",
    "\n",
    "sentiment_width = 4\n",
    "derivative_width = 1.4\n",
    "\n",
    "# HOVER CODE\n",
    "inferno_hover = [\"Inferno: <br>Canto #{}\".format(x) for x in range(1, 35)]\n",
    "purgatorio_hover = [\"Purgatorio: <br>Canto #{}\".format(x) for x in range(1, 34)]\n",
    "paradiso_hover = [\"Paradiso: <br>Canto #{}\".format(x) for x in range(1, 34)]\n",
    "\n",
    "\n",
    "fig = go.Figure()\n",
    "fig.add_trace(\n",
    "    go.Scatter(x=df_inferno['Canto'], y=df_inferno['Sentiment'],\n",
    "                    mode='lines+markers',\n",
    "                    hovertext=inferno_hover,\n",
    "                    hoverinfo=\"text\",\n",
    "                    name='Sentiment Polarity - Inferno',\n",
    "                    line=dict(width=sentiment_width,\n",
    "                             color = sentiment_color))\n",
    ")\n",
    "fig.add_trace(\n",
    "    go.Scatter(x=df_inferno['Canto'], y=df_inferno['FirstDerivative'],\n",
    "                    mode='lines',\n",
    "                    name='First Derivative',\n",
    "                    legendgroup = \"inferno_derivatives\",\n",
    "                    hoverinfo='skip',\n",
    "                    line=dict(width=derivative_width, color = first_derivative_color))\n",
    ")\n",
    "fig.add_trace(\n",
    "    go.Scatter(x=df_inferno['Canto'], y=df_inferno['SecondDerivative'],\n",
    "                    mode='lines', name='Second Derivative',\n",
    "                    hoverinfo='skip',\n",
    "                    legendgroup = \"inferno_derivatives\",\n",
    "                    line=dict(width=derivative_width, color = second_derivative_color))\n",
    ")\n",
    "\n",
    "# start purgatorio\n",
    "fig.add_trace(\n",
    "    go.Scatter(x=[34, 34], y=[-1, 1],\n",
    "                    mode='lines',\n",
    "                    hoverinfo='skip',\n",
    "                    name='Purgatorio Splitter',\n",
    "                    showlegend=False,\n",
    "                    line=dict(color='firebrick', width=1.2,\n",
    "                              dash='dash')\n",
    "    )\n",
    ")\n",
    "\n",
    "fig.add_trace(\n",
    "    go.Scatter(x=[x + 33 for x in df_purgatorio['Canto']], y=df_purgatorio['Sentiment'],\n",
    "                    mode='lines+markers',\n",
    "                    name='Sentiment Polarity - Purgatorio',\n",
    "                    hovertext=purgatorio_hover,\n",
    "                    hoverinfo=\"text\",\n",
    "                    showlegend=True,\n",
    "                    line=dict(width=sentiment_width,\n",
    "                             color = sentiment_color))\n",
    ")\n",
    "fig.add_trace(\n",
    "    go.Scatter(x=[x + 33 for x in df_purgatorio['Canto']], y=df_purgatorio['FirstDerivative'],\n",
    "                    mode='lines',\n",
    "                    hoverinfo='skip',\n",
    "                    name='First Derivative',\n",
    "                    legendgroup = \"purgatorio_derivatives\",\n",
    "                    showlegend=True,\n",
    "                    line=dict(width=derivative_width, color = first_derivative_color))\n",
    ")\n",
    "fig.add_trace(\n",
    "    go.Scatter(x=[x + 33 for x in df_purgatorio['Canto']], y=df_purgatorio['SecondDerivative'],\n",
    "                    mode='lines', name='Second Derivative',\n",
    "                    legendgroup = \"purgatorio_derivatives\",\n",
    "                    showlegend=True,\n",
    "                    hoverinfo='skip',\n",
    "                    line=dict(width=derivative_width, color = second_derivative_color))\n",
    ")\n",
    "\n",
    "# start paradiso\n",
    "fig.add_trace(\n",
    "    go.Scatter(x=[67, 67], y=[-1, 1],\n",
    "                    mode='lines',\n",
    "                    name='Paradiso Splitter',\n",
    "                    showlegend=False,\n",
    "                    hoverinfo='skip',\n",
    "                    line=dict(color='firebrick', width=1.2,\n",
    "                              dash='dash')\n",
    "    )\n",
    ")\n",
    "\n",
    "fig.add_trace(\n",
    "    go.Scatter(x=[x + 66 for x in df_paradiso['Canto']], y=df_paradiso['Sentiment'],\n",
    "                    mode='lines+markers',\n",
    "                    name='Sentiment Polarity - Paradiso',\n",
    "                    hovertext=paradiso_hover,\n",
    "                    hoverinfo=\"text\",\n",
    "                    showlegend=True,\n",
    "                    line=dict(width=sentiment_width,\n",
    "                             color = sentiment_color))\n",
    ")\n",
    "fig.add_trace(\n",
    "    go.Scatter(x=[x + 66 for x in df_paradiso['Canto']], y=df_paradiso['FirstDerivative'],\n",
    "                    mode='lines',\n",
    "                    name='First Derivative',\n",
    "                    hoverinfo='skip',\n",
    "                    legendgroup = \"paradiso_derivatives\",\n",
    "                    showlegend=True,\n",
    "                    line=dict(width=derivative_width, color = first_derivative_color))\n",
    ")\n",
    "fig.add_trace(\n",
    "    go.Scatter(x=[x + 66 for x in df_paradiso['Canto']], y=df_paradiso['SecondDerivative'],\n",
    "                    mode='lines', name='Second Derivative',\n",
    "                    legendgroup = \"paradiso_derivatives\",\n",
    "                    showlegend=True,\n",
    "                    hoverinfo='skip',\n",
    "                    line=dict(width=derivative_width, color = second_derivative_color))\n",
    ")\n",
    "\n",
    "\n",
    "# TICK CODE\n",
    "tickvals_full = np.linspace(1,101,100)\n",
    "tickvals_full = tickvals_full[::5]\n",
    "ticktext_inferno = [\"{}\".format(x) for x in range(1, 35)]\n",
    "ticktext_purgatorio = [\"{}\".format(x) for x in range(1, 34)]\n",
    "ticktext_paradiso = [\"{}\".format(x) for x in range(1, 34)]\n",
    "ticktext_full = ticktext_inferno + ticktext_purgatorio + ticktext_paradiso\n",
    "ticktext_full = ticktext_full[::5]\n",
    "\n",
    "\n",
    "fig.update_layout(\n",
    "    xaxis=dict(\n",
    "        title = \"Canto\",\n",
    "        showline=True,\n",
    "        showgrid=False,\n",
    "        showticklabels=True,\n",
    "        linecolor='rgb(204, 204, 204)',\n",
    "        linewidth=2,\n",
    "        rangeslider=dict(\n",
    "            visible=True\n",
    "        ),\n",
    "        tickangle=-45,\n",
    "        ticks='outside',\n",
    "        tickvals = tickvals_full,\n",
    "        ticktext = ticktext_full,\n",
    "        tickfont=dict(\n",
    "            family='Arial',\n",
    "            size=12,\n",
    "            color='rgb(82, 82, 82)',\n",
    "        ),\n",
    "    ),\n",
    "    yaxis=dict(\n",
    "        showgrid=False,\n",
    "        range = [-0.7,0.7]\n",
    "    ),\n",
    "    showlegend=True,\n",
    "    plot_bgcolor='white',\n",
    "    title = dict(\n",
    "        text = \"Sentiment per Section\",\n",
    "        x = 0.5\n",
    "    ),\n",
    "    annotations=[\n",
    "        go.layout.Annotation(\n",
    "            x=5,\n",
    "            y=0.55,\n",
    "            xref=\"x\",\n",
    "            yref=\"y\",\n",
    "            text=\"Inferno\",\n",
    "            showarrow=False,\n",
    "            arrowhead=7,\n",
    "            ax=0,\n",
    "            ay=-40,\n",
    "            font=dict(\n",
    "                size=14,\n",
    "                color=\"black\"\n",
    "            ),\n",
    "        ),\n",
    "        go.layout.Annotation(\n",
    "            x=42,\n",
    "            y=0.55,\n",
    "            xref=\"x\",\n",
    "            yref=\"y\",\n",
    "            text=\"Purgatorio\",\n",
    "            showarrow=False,\n",
    "            arrowhead=7,\n",
    "            ax=0,\n",
    "            ay=-40,\n",
    "            font=dict(\n",
    "                size=14,\n",
    "                color=\"black\"\n",
    "            )\n",
    "        ),\n",
    "        go.layout.Annotation(\n",
    "            x=74.0,\n",
    "            y=0.55,\n",
    "            xref=\"x\",\n",
    "            yref=\"y\",\n",
    "            text=\"Paradiso\",\n",
    "            showarrow=False,\n",
    "            arrowhead=7,\n",
    "            ax=0,\n",
    "            ay=-40,\n",
    "            font=dict(\n",
    "                size=14,\n",
    "                color=\"black\"\n",
    "            ),\n",
    "        )\n",
    "    ]\n",
    ")\n",
    "\n",
    "fig.show()"
   ]
  },
  {
   "cell_type": "code",
   "execution_count": 22,
   "metadata": {},
   "outputs": [
    {
     "name": "stdout",
     "output_type": "stream",
     "text": [
      "[ 1.  6. 11. 16. 21. 26. 31. 36. 41. 46. 51. 56. 61. 66. 71. 76. 81. 86.\n",
      " 91. 96.]\n"
     ]
    }
   ],
   "source": [
    "# hand selecting relevant tick markers\n",
    "# TICK CODE\n",
    "tickvals_full = np.linspace(1,100,100)\n",
    "tickvals_full = tickvals_full[::5]\n",
    "print(tickvals_full)\n",
    "ticktext_inferno = [\"{}\".format(x) for x in range(1, 35)]\n",
    "ticktext_purgatorio = [\"{}\".format(x) for x in range(1, 34)]\n",
    "ticktext_paradiso = [\"{}\".format(x) for x in range(1, 34)]\n",
    "ticktext_full = ticktext_inferno + ticktext_purgatorio + ticktext_paradiso\n",
    "ticktext_full = ticktext_full[::5]"
   ]
  },
  {
   "cell_type": "code",
   "execution_count": 23,
   "metadata": {},
   "outputs": [],
   "source": [
    "tickvals_full = [1, 5, 10, 15, 20, 25, 30, 34, 39, 44, 49, 54, 59, ]\n",
    "    # 34 is end of inferno, 35 is 1 for purgatorio\n",
    "    # 67 is end of purgatorio, 68 is 1 for paradiso \n",
    "ticktext_full = [\"1\", \"5\", \"10\", \"15\", \"20\", \"25\", \"30\", \"1\", \"5\", \"10\", \"15\", \"20\", \"25\", \"30\", \"1\", \"5\", \"10\", \"15\", \"20\", \"25\", \"30\"]"
   ]
  },
  {
   "cell_type": "code",
   "execution_count": 24,
   "metadata": {},
   "outputs": [
    {
     "name": "stdout",
     "output_type": "stream",
     "text": [
      "13\n",
      "21\n"
     ]
    }
   ],
   "source": [
    "print(len(tickvals_full))\n",
    "print(len(ticktext_full))"
   ]
  },
  {
   "cell_type": "markdown",
   "metadata": {},
   "source": [
    "# Average Sentiment per Section"
   ]
  },
  {
   "cell_type": "code",
   "execution_count": null,
   "metadata": {},
   "outputs": [],
   "source": []
  },
  {
   "cell_type": "code",
   "execution_count": 25,
   "metadata": {},
   "outputs": [],
   "source": [
    "avg_sentiment_inferno = df_inferno['Sentiment'].mean()\n",
    "avg_sentiment_purgatorio = df_purgatorio['Sentiment'].mean()\n",
    "avg_sentiment_paradiso = df_paradiso['Sentiment'].mean()\n",
    "\n",
    "avg_first_inferno = df_inferno['FirstDerivative'].mean()\n",
    "avg_first_purgatorio = df_purgatorio['FirstDerivative'].mean()\n",
    "avg_first_paradiso = df_paradiso['FirstDerivative'].mean()\n",
    "\n",
    "avg_second_inferno = df_inferno['SecondDerivative'].mean()\n",
    "avg_second_purgatorio = df_purgatorio['SecondDerivative'].mean()\n",
    "avg_second_paradiso = df_paradiso['SecondDerivative'].mean()"
   ]
  },
  {
   "cell_type": "code",
   "execution_count": 26,
   "metadata": {},
   "outputs": [
    {
     "data": {
      "application/vnd.plotly.v1+json": {
       "config": {
        "plotlyServerURL": "https://plot.ly"
       },
       "data": [
        {
         "name": "Mean Sentiment",
         "text": [
          "0.032",
          "0.081",
          "0.130"
         ],
         "textposition": "auto",
         "type": "bar",
         "x": [
          "Inferno",
          "Purgatorio",
          "Paradiso"
         ],
         "y": [
          0.03227681639833381,
          0.08141512229383598,
          0.1301699506457137
         ]
        },
        {
         "name": "Mean First Derivative",
         "text": [
          "-0.001",
          "0.003",
          "-0.003"
         ],
         "textposition": "auto",
         "type": "bar",
         "x": [
          "Inferno",
          "Purgatorio",
          "Paradiso"
         ],
         "y": [
          -0.0010024273919382774,
          0.0026337145604332208,
          -0.0033569329938043725
         ]
        },
        {
         "name": "Mean Second Derivative",
         "text": [
          "0.002",
          "0.001",
          "0.002"
         ],
         "textposition": "auto",
         "type": "bar",
         "x": [
          "Inferno",
          "Purgatorio",
          "Paradiso"
         ],
         "y": [
          0.002183375753641051,
          0.0008485626451419274,
          0.001594489983356032
         ]
        }
       ],
       "layout": {
        "barmode": "group",
        "plot_bgcolor": "white",
        "showlegend": true,
        "template": {
         "data": {
          "bar": [
           {
            "error_x": {
             "color": "#2a3f5f"
            },
            "error_y": {
             "color": "#2a3f5f"
            },
            "marker": {
             "line": {
              "color": "#E5ECF6",
              "width": 0.5
             }
            },
            "type": "bar"
           }
          ],
          "barpolar": [
           {
            "marker": {
             "line": {
              "color": "#E5ECF6",
              "width": 0.5
             }
            },
            "type": "barpolar"
           }
          ],
          "carpet": [
           {
            "aaxis": {
             "endlinecolor": "#2a3f5f",
             "gridcolor": "white",
             "linecolor": "white",
             "minorgridcolor": "white",
             "startlinecolor": "#2a3f5f"
            },
            "baxis": {
             "endlinecolor": "#2a3f5f",
             "gridcolor": "white",
             "linecolor": "white",
             "minorgridcolor": "white",
             "startlinecolor": "#2a3f5f"
            },
            "type": "carpet"
           }
          ],
          "choropleth": [
           {
            "colorbar": {
             "outlinewidth": 0,
             "ticks": ""
            },
            "type": "choropleth"
           }
          ],
          "contour": [
           {
            "colorbar": {
             "outlinewidth": 0,
             "ticks": ""
            },
            "colorscale": [
             [
              0,
              "#0d0887"
             ],
             [
              0.1111111111111111,
              "#46039f"
             ],
             [
              0.2222222222222222,
              "#7201a8"
             ],
             [
              0.3333333333333333,
              "#9c179e"
             ],
             [
              0.4444444444444444,
              "#bd3786"
             ],
             [
              0.5555555555555556,
              "#d8576b"
             ],
             [
              0.6666666666666666,
              "#ed7953"
             ],
             [
              0.7777777777777778,
              "#fb9f3a"
             ],
             [
              0.8888888888888888,
              "#fdca26"
             ],
             [
              1,
              "#f0f921"
             ]
            ],
            "type": "contour"
           }
          ],
          "contourcarpet": [
           {
            "colorbar": {
             "outlinewidth": 0,
             "ticks": ""
            },
            "type": "contourcarpet"
           }
          ],
          "heatmap": [
           {
            "colorbar": {
             "outlinewidth": 0,
             "ticks": ""
            },
            "colorscale": [
             [
              0,
              "#0d0887"
             ],
             [
              0.1111111111111111,
              "#46039f"
             ],
             [
              0.2222222222222222,
              "#7201a8"
             ],
             [
              0.3333333333333333,
              "#9c179e"
             ],
             [
              0.4444444444444444,
              "#bd3786"
             ],
             [
              0.5555555555555556,
              "#d8576b"
             ],
             [
              0.6666666666666666,
              "#ed7953"
             ],
             [
              0.7777777777777778,
              "#fb9f3a"
             ],
             [
              0.8888888888888888,
              "#fdca26"
             ],
             [
              1,
              "#f0f921"
             ]
            ],
            "type": "heatmap"
           }
          ],
          "heatmapgl": [
           {
            "colorbar": {
             "outlinewidth": 0,
             "ticks": ""
            },
            "colorscale": [
             [
              0,
              "#0d0887"
             ],
             [
              0.1111111111111111,
              "#46039f"
             ],
             [
              0.2222222222222222,
              "#7201a8"
             ],
             [
              0.3333333333333333,
              "#9c179e"
             ],
             [
              0.4444444444444444,
              "#bd3786"
             ],
             [
              0.5555555555555556,
              "#d8576b"
             ],
             [
              0.6666666666666666,
              "#ed7953"
             ],
             [
              0.7777777777777778,
              "#fb9f3a"
             ],
             [
              0.8888888888888888,
              "#fdca26"
             ],
             [
              1,
              "#f0f921"
             ]
            ],
            "type": "heatmapgl"
           }
          ],
          "histogram": [
           {
            "marker": {
             "colorbar": {
              "outlinewidth": 0,
              "ticks": ""
             }
            },
            "type": "histogram"
           }
          ],
          "histogram2d": [
           {
            "colorbar": {
             "outlinewidth": 0,
             "ticks": ""
            },
            "colorscale": [
             [
              0,
              "#0d0887"
             ],
             [
              0.1111111111111111,
              "#46039f"
             ],
             [
              0.2222222222222222,
              "#7201a8"
             ],
             [
              0.3333333333333333,
              "#9c179e"
             ],
             [
              0.4444444444444444,
              "#bd3786"
             ],
             [
              0.5555555555555556,
              "#d8576b"
             ],
             [
              0.6666666666666666,
              "#ed7953"
             ],
             [
              0.7777777777777778,
              "#fb9f3a"
             ],
             [
              0.8888888888888888,
              "#fdca26"
             ],
             [
              1,
              "#f0f921"
             ]
            ],
            "type": "histogram2d"
           }
          ],
          "histogram2dcontour": [
           {
            "colorbar": {
             "outlinewidth": 0,
             "ticks": ""
            },
            "colorscale": [
             [
              0,
              "#0d0887"
             ],
             [
              0.1111111111111111,
              "#46039f"
             ],
             [
              0.2222222222222222,
              "#7201a8"
             ],
             [
              0.3333333333333333,
              "#9c179e"
             ],
             [
              0.4444444444444444,
              "#bd3786"
             ],
             [
              0.5555555555555556,
              "#d8576b"
             ],
             [
              0.6666666666666666,
              "#ed7953"
             ],
             [
              0.7777777777777778,
              "#fb9f3a"
             ],
             [
              0.8888888888888888,
              "#fdca26"
             ],
             [
              1,
              "#f0f921"
             ]
            ],
            "type": "histogram2dcontour"
           }
          ],
          "mesh3d": [
           {
            "colorbar": {
             "outlinewidth": 0,
             "ticks": ""
            },
            "type": "mesh3d"
           }
          ],
          "parcoords": [
           {
            "line": {
             "colorbar": {
              "outlinewidth": 0,
              "ticks": ""
             }
            },
            "type": "parcoords"
           }
          ],
          "scatter": [
           {
            "marker": {
             "colorbar": {
              "outlinewidth": 0,
              "ticks": ""
             }
            },
            "type": "scatter"
           }
          ],
          "scatter3d": [
           {
            "line": {
             "colorbar": {
              "outlinewidth": 0,
              "ticks": ""
             }
            },
            "marker": {
             "colorbar": {
              "outlinewidth": 0,
              "ticks": ""
             }
            },
            "type": "scatter3d"
           }
          ],
          "scattercarpet": [
           {
            "marker": {
             "colorbar": {
              "outlinewidth": 0,
              "ticks": ""
             }
            },
            "type": "scattercarpet"
           }
          ],
          "scattergeo": [
           {
            "marker": {
             "colorbar": {
              "outlinewidth": 0,
              "ticks": ""
             }
            },
            "type": "scattergeo"
           }
          ],
          "scattergl": [
           {
            "marker": {
             "colorbar": {
              "outlinewidth": 0,
              "ticks": ""
             }
            },
            "type": "scattergl"
           }
          ],
          "scattermapbox": [
           {
            "marker": {
             "colorbar": {
              "outlinewidth": 0,
              "ticks": ""
             }
            },
            "type": "scattermapbox"
           }
          ],
          "scatterpolar": [
           {
            "marker": {
             "colorbar": {
              "outlinewidth": 0,
              "ticks": ""
             }
            },
            "type": "scatterpolar"
           }
          ],
          "scatterpolargl": [
           {
            "marker": {
             "colorbar": {
              "outlinewidth": 0,
              "ticks": ""
             }
            },
            "type": "scatterpolargl"
           }
          ],
          "scatterternary": [
           {
            "marker": {
             "colorbar": {
              "outlinewidth": 0,
              "ticks": ""
             }
            },
            "type": "scatterternary"
           }
          ],
          "surface": [
           {
            "colorbar": {
             "outlinewidth": 0,
             "ticks": ""
            },
            "colorscale": [
             [
              0,
              "#0d0887"
             ],
             [
              0.1111111111111111,
              "#46039f"
             ],
             [
              0.2222222222222222,
              "#7201a8"
             ],
             [
              0.3333333333333333,
              "#9c179e"
             ],
             [
              0.4444444444444444,
              "#bd3786"
             ],
             [
              0.5555555555555556,
              "#d8576b"
             ],
             [
              0.6666666666666666,
              "#ed7953"
             ],
             [
              0.7777777777777778,
              "#fb9f3a"
             ],
             [
              0.8888888888888888,
              "#fdca26"
             ],
             [
              1,
              "#f0f921"
             ]
            ],
            "type": "surface"
           }
          ],
          "table": [
           {
            "cells": {
             "fill": {
              "color": "#EBF0F8"
             },
             "line": {
              "color": "white"
             }
            },
            "header": {
             "fill": {
              "color": "#C8D4E3"
             },
             "line": {
              "color": "white"
             }
            },
            "type": "table"
           }
          ]
         },
         "layout": {
          "annotationdefaults": {
           "arrowcolor": "#2a3f5f",
           "arrowhead": 0,
           "arrowwidth": 1
          },
          "colorscale": {
           "diverging": [
            [
             0,
             "#8e0152"
            ],
            [
             0.1,
             "#c51b7d"
            ],
            [
             0.2,
             "#de77ae"
            ],
            [
             0.3,
             "#f1b6da"
            ],
            [
             0.4,
             "#fde0ef"
            ],
            [
             0.5,
             "#f7f7f7"
            ],
            [
             0.6,
             "#e6f5d0"
            ],
            [
             0.7,
             "#b8e186"
            ],
            [
             0.8,
             "#7fbc41"
            ],
            [
             0.9,
             "#4d9221"
            ],
            [
             1,
             "#276419"
            ]
           ],
           "sequential": [
            [
             0,
             "#0d0887"
            ],
            [
             0.1111111111111111,
             "#46039f"
            ],
            [
             0.2222222222222222,
             "#7201a8"
            ],
            [
             0.3333333333333333,
             "#9c179e"
            ],
            [
             0.4444444444444444,
             "#bd3786"
            ],
            [
             0.5555555555555556,
             "#d8576b"
            ],
            [
             0.6666666666666666,
             "#ed7953"
            ],
            [
             0.7777777777777778,
             "#fb9f3a"
            ],
            [
             0.8888888888888888,
             "#fdca26"
            ],
            [
             1,
             "#f0f921"
            ]
           ],
           "sequentialminus": [
            [
             0,
             "#0d0887"
            ],
            [
             0.1111111111111111,
             "#46039f"
            ],
            [
             0.2222222222222222,
             "#7201a8"
            ],
            [
             0.3333333333333333,
             "#9c179e"
            ],
            [
             0.4444444444444444,
             "#bd3786"
            ],
            [
             0.5555555555555556,
             "#d8576b"
            ],
            [
             0.6666666666666666,
             "#ed7953"
            ],
            [
             0.7777777777777778,
             "#fb9f3a"
            ],
            [
             0.8888888888888888,
             "#fdca26"
            ],
            [
             1,
             "#f0f921"
            ]
           ]
          },
          "colorway": [
           "#636efa",
           "#EF553B",
           "#00cc96",
           "#ab63fa",
           "#FFA15A",
           "#19d3f3",
           "#FF6692",
           "#B6E880",
           "#FF97FF",
           "#FECB52"
          ],
          "font": {
           "color": "#2a3f5f"
          },
          "geo": {
           "bgcolor": "white",
           "lakecolor": "white",
           "landcolor": "#E5ECF6",
           "showlakes": true,
           "showland": true,
           "subunitcolor": "white"
          },
          "hoverlabel": {
           "align": "left"
          },
          "hovermode": "closest",
          "mapbox": {
           "style": "light"
          },
          "paper_bgcolor": "white",
          "plot_bgcolor": "#E5ECF6",
          "polar": {
           "angularaxis": {
            "gridcolor": "white",
            "linecolor": "white",
            "ticks": ""
           },
           "bgcolor": "#E5ECF6",
           "radialaxis": {
            "gridcolor": "white",
            "linecolor": "white",
            "ticks": ""
           }
          },
          "scene": {
           "xaxis": {
            "backgroundcolor": "#E5ECF6",
            "gridcolor": "white",
            "gridwidth": 2,
            "linecolor": "white",
            "showbackground": true,
            "ticks": "",
            "zerolinecolor": "white"
           },
           "yaxis": {
            "backgroundcolor": "#E5ECF6",
            "gridcolor": "white",
            "gridwidth": 2,
            "linecolor": "white",
            "showbackground": true,
            "ticks": "",
            "zerolinecolor": "white"
           },
           "zaxis": {
            "backgroundcolor": "#E5ECF6",
            "gridcolor": "white",
            "gridwidth": 2,
            "linecolor": "white",
            "showbackground": true,
            "ticks": "",
            "zerolinecolor": "white"
           }
          },
          "shapedefaults": {
           "line": {
            "color": "#2a3f5f"
           }
          },
          "ternary": {
           "aaxis": {
            "gridcolor": "white",
            "linecolor": "white",
            "ticks": ""
           },
           "baxis": {
            "gridcolor": "white",
            "linecolor": "white",
            "ticks": ""
           },
           "bgcolor": "#E5ECF6",
           "caxis": {
            "gridcolor": "white",
            "linecolor": "white",
            "ticks": ""
           }
          },
          "title": {
           "x": 0.05
          },
          "xaxis": {
           "automargin": true,
           "gridcolor": "white",
           "linecolor": "white",
           "ticks": "",
           "zerolinecolor": "white",
           "zerolinewidth": 2
          },
          "yaxis": {
           "automargin": true,
           "gridcolor": "white",
           "linecolor": "white",
           "ticks": "",
           "zerolinecolor": "white",
           "zerolinewidth": 2
          }
         }
        },
        "title": {
         "text": "Average Sentiment per Section",
         "x": 0.5
        },
        "xaxis": {
         "tickfont": {
          "color": "rgb(82, 82, 82)",
          "family": "Arial",
          "size": 15
         }
        }
       }
      },
      "text/html": [
       "<div>\n",
       "        \n",
       "        \n",
       "            <div id=\"79954f7e-5da7-4ce3-8ea2-ff006dbc6a3b\" class=\"plotly-graph-div\" style=\"height:525px; width:100%;\"></div>\n",
       "            <script type=\"text/javascript\">\n",
       "                require([\"plotly\"], function(Plotly) {\n",
       "                    window.PLOTLYENV=window.PLOTLYENV || {};\n",
       "                    \n",
       "                if (document.getElementById(\"79954f7e-5da7-4ce3-8ea2-ff006dbc6a3b\")) {\n",
       "                    Plotly.newPlot(\n",
       "                        '79954f7e-5da7-4ce3-8ea2-ff006dbc6a3b',\n",
       "                        [{\"name\": \"Mean Sentiment\", \"text\": [\"0.032\", \"0.081\", \"0.130\"], \"textposition\": \"auto\", \"type\": \"bar\", \"x\": [\"Inferno\", \"Purgatorio\", \"Paradiso\"], \"y\": [0.03227681639833381, 0.08141512229383598, 0.1301699506457137]}, {\"name\": \"Mean First Derivative\", \"text\": [\"-0.001\", \"0.003\", \"-0.003\"], \"textposition\": \"auto\", \"type\": \"bar\", \"x\": [\"Inferno\", \"Purgatorio\", \"Paradiso\"], \"y\": [-0.0010024273919382774, 0.0026337145604332208, -0.0033569329938043725]}, {\"name\": \"Mean Second Derivative\", \"text\": [\"0.002\", \"0.001\", \"0.002\"], \"textposition\": \"auto\", \"type\": \"bar\", \"x\": [\"Inferno\", \"Purgatorio\", \"Paradiso\"], \"y\": [0.002183375753641051, 0.0008485626451419274, 0.001594489983356032]}],\n",
       "                        {\"barmode\": \"group\", \"plot_bgcolor\": \"white\", \"showlegend\": true, \"template\": {\"data\": {\"bar\": [{\"error_x\": {\"color\": \"#2a3f5f\"}, \"error_y\": {\"color\": \"#2a3f5f\"}, \"marker\": {\"line\": {\"color\": \"#E5ECF6\", \"width\": 0.5}}, \"type\": \"bar\"}], \"barpolar\": [{\"marker\": {\"line\": {\"color\": \"#E5ECF6\", \"width\": 0.5}}, \"type\": \"barpolar\"}], \"carpet\": [{\"aaxis\": {\"endlinecolor\": \"#2a3f5f\", \"gridcolor\": \"white\", \"linecolor\": \"white\", \"minorgridcolor\": \"white\", \"startlinecolor\": \"#2a3f5f\"}, \"baxis\": {\"endlinecolor\": \"#2a3f5f\", \"gridcolor\": \"white\", \"linecolor\": \"white\", \"minorgridcolor\": \"white\", \"startlinecolor\": \"#2a3f5f\"}, \"type\": \"carpet\"}], \"choropleth\": [{\"colorbar\": {\"outlinewidth\": 0, \"ticks\": \"\"}, \"type\": \"choropleth\"}], \"contour\": [{\"colorbar\": {\"outlinewidth\": 0, \"ticks\": \"\"}, \"colorscale\": [[0.0, \"#0d0887\"], [0.1111111111111111, \"#46039f\"], [0.2222222222222222, \"#7201a8\"], [0.3333333333333333, \"#9c179e\"], [0.4444444444444444, \"#bd3786\"], [0.5555555555555556, \"#d8576b\"], [0.6666666666666666, \"#ed7953\"], [0.7777777777777778, \"#fb9f3a\"], [0.8888888888888888, \"#fdca26\"], [1.0, \"#f0f921\"]], \"type\": \"contour\"}], \"contourcarpet\": [{\"colorbar\": {\"outlinewidth\": 0, \"ticks\": \"\"}, \"type\": \"contourcarpet\"}], \"heatmap\": [{\"colorbar\": {\"outlinewidth\": 0, \"ticks\": \"\"}, \"colorscale\": [[0.0, \"#0d0887\"], [0.1111111111111111, \"#46039f\"], [0.2222222222222222, \"#7201a8\"], [0.3333333333333333, \"#9c179e\"], [0.4444444444444444, \"#bd3786\"], [0.5555555555555556, \"#d8576b\"], [0.6666666666666666, \"#ed7953\"], [0.7777777777777778, \"#fb9f3a\"], [0.8888888888888888, \"#fdca26\"], [1.0, \"#f0f921\"]], \"type\": \"heatmap\"}], \"heatmapgl\": [{\"colorbar\": {\"outlinewidth\": 0, \"ticks\": \"\"}, \"colorscale\": [[0.0, \"#0d0887\"], [0.1111111111111111, \"#46039f\"], [0.2222222222222222, \"#7201a8\"], [0.3333333333333333, \"#9c179e\"], [0.4444444444444444, \"#bd3786\"], [0.5555555555555556, \"#d8576b\"], [0.6666666666666666, \"#ed7953\"], [0.7777777777777778, \"#fb9f3a\"], [0.8888888888888888, \"#fdca26\"], [1.0, \"#f0f921\"]], \"type\": \"heatmapgl\"}], \"histogram\": [{\"marker\": {\"colorbar\": {\"outlinewidth\": 0, \"ticks\": \"\"}}, \"type\": \"histogram\"}], \"histogram2d\": [{\"colorbar\": {\"outlinewidth\": 0, \"ticks\": \"\"}, \"colorscale\": [[0.0, \"#0d0887\"], [0.1111111111111111, \"#46039f\"], [0.2222222222222222, \"#7201a8\"], [0.3333333333333333, \"#9c179e\"], [0.4444444444444444, \"#bd3786\"], [0.5555555555555556, \"#d8576b\"], [0.6666666666666666, \"#ed7953\"], [0.7777777777777778, \"#fb9f3a\"], [0.8888888888888888, \"#fdca26\"], [1.0, \"#f0f921\"]], \"type\": \"histogram2d\"}], \"histogram2dcontour\": [{\"colorbar\": {\"outlinewidth\": 0, \"ticks\": \"\"}, \"colorscale\": [[0.0, \"#0d0887\"], [0.1111111111111111, \"#46039f\"], [0.2222222222222222, \"#7201a8\"], [0.3333333333333333, \"#9c179e\"], [0.4444444444444444, \"#bd3786\"], [0.5555555555555556, \"#d8576b\"], [0.6666666666666666, \"#ed7953\"], [0.7777777777777778, \"#fb9f3a\"], [0.8888888888888888, \"#fdca26\"], [1.0, \"#f0f921\"]], \"type\": \"histogram2dcontour\"}], \"mesh3d\": [{\"colorbar\": {\"outlinewidth\": 0, \"ticks\": \"\"}, \"type\": \"mesh3d\"}], \"parcoords\": [{\"line\": {\"colorbar\": {\"outlinewidth\": 0, \"ticks\": \"\"}}, \"type\": \"parcoords\"}], \"scatter\": [{\"marker\": {\"colorbar\": {\"outlinewidth\": 0, \"ticks\": \"\"}}, \"type\": \"scatter\"}], \"scatter3d\": [{\"line\": {\"colorbar\": {\"outlinewidth\": 0, \"ticks\": \"\"}}, \"marker\": {\"colorbar\": {\"outlinewidth\": 0, \"ticks\": \"\"}}, \"type\": \"scatter3d\"}], \"scattercarpet\": [{\"marker\": {\"colorbar\": {\"outlinewidth\": 0, \"ticks\": \"\"}}, \"type\": \"scattercarpet\"}], \"scattergeo\": [{\"marker\": {\"colorbar\": {\"outlinewidth\": 0, \"ticks\": \"\"}}, \"type\": \"scattergeo\"}], \"scattergl\": [{\"marker\": {\"colorbar\": {\"outlinewidth\": 0, \"ticks\": \"\"}}, \"type\": \"scattergl\"}], \"scattermapbox\": [{\"marker\": {\"colorbar\": {\"outlinewidth\": 0, \"ticks\": \"\"}}, \"type\": \"scattermapbox\"}], \"scatterpolar\": [{\"marker\": {\"colorbar\": {\"outlinewidth\": 0, \"ticks\": \"\"}}, \"type\": \"scatterpolar\"}], \"scatterpolargl\": [{\"marker\": {\"colorbar\": {\"outlinewidth\": 0, \"ticks\": \"\"}}, \"type\": \"scatterpolargl\"}], \"scatterternary\": [{\"marker\": {\"colorbar\": {\"outlinewidth\": 0, \"ticks\": \"\"}}, \"type\": \"scatterternary\"}], \"surface\": [{\"colorbar\": {\"outlinewidth\": 0, \"ticks\": \"\"}, \"colorscale\": [[0.0, \"#0d0887\"], [0.1111111111111111, \"#46039f\"], [0.2222222222222222, \"#7201a8\"], [0.3333333333333333, \"#9c179e\"], [0.4444444444444444, \"#bd3786\"], [0.5555555555555556, \"#d8576b\"], [0.6666666666666666, \"#ed7953\"], [0.7777777777777778, \"#fb9f3a\"], [0.8888888888888888, \"#fdca26\"], [1.0, \"#f0f921\"]], \"type\": \"surface\"}], \"table\": [{\"cells\": {\"fill\": {\"color\": \"#EBF0F8\"}, \"line\": {\"color\": \"white\"}}, \"header\": {\"fill\": {\"color\": \"#C8D4E3\"}, \"line\": {\"color\": \"white\"}}, \"type\": \"table\"}]}, \"layout\": {\"annotationdefaults\": {\"arrowcolor\": \"#2a3f5f\", \"arrowhead\": 0, \"arrowwidth\": 1}, \"colorscale\": {\"diverging\": [[0, \"#8e0152\"], [0.1, \"#c51b7d\"], [0.2, \"#de77ae\"], [0.3, \"#f1b6da\"], [0.4, \"#fde0ef\"], [0.5, \"#f7f7f7\"], [0.6, \"#e6f5d0\"], [0.7, \"#b8e186\"], [0.8, \"#7fbc41\"], [0.9, \"#4d9221\"], [1, \"#276419\"]], \"sequential\": [[0.0, \"#0d0887\"], [0.1111111111111111, \"#46039f\"], [0.2222222222222222, \"#7201a8\"], [0.3333333333333333, \"#9c179e\"], [0.4444444444444444, \"#bd3786\"], [0.5555555555555556, \"#d8576b\"], [0.6666666666666666, \"#ed7953\"], [0.7777777777777778, \"#fb9f3a\"], [0.8888888888888888, \"#fdca26\"], [1.0, \"#f0f921\"]], \"sequentialminus\": [[0.0, \"#0d0887\"], [0.1111111111111111, \"#46039f\"], [0.2222222222222222, \"#7201a8\"], [0.3333333333333333, \"#9c179e\"], [0.4444444444444444, \"#bd3786\"], [0.5555555555555556, \"#d8576b\"], [0.6666666666666666, \"#ed7953\"], [0.7777777777777778, \"#fb9f3a\"], [0.8888888888888888, \"#fdca26\"], [1.0, \"#f0f921\"]]}, \"colorway\": [\"#636efa\", \"#EF553B\", \"#00cc96\", \"#ab63fa\", \"#FFA15A\", \"#19d3f3\", \"#FF6692\", \"#B6E880\", \"#FF97FF\", \"#FECB52\"], \"font\": {\"color\": \"#2a3f5f\"}, \"geo\": {\"bgcolor\": \"white\", \"lakecolor\": \"white\", \"landcolor\": \"#E5ECF6\", \"showlakes\": true, \"showland\": true, \"subunitcolor\": \"white\"}, \"hoverlabel\": {\"align\": \"left\"}, \"hovermode\": \"closest\", \"mapbox\": {\"style\": \"light\"}, \"paper_bgcolor\": \"white\", \"plot_bgcolor\": \"#E5ECF6\", \"polar\": {\"angularaxis\": {\"gridcolor\": \"white\", \"linecolor\": \"white\", \"ticks\": \"\"}, \"bgcolor\": \"#E5ECF6\", \"radialaxis\": {\"gridcolor\": \"white\", \"linecolor\": \"white\", \"ticks\": \"\"}}, \"scene\": {\"xaxis\": {\"backgroundcolor\": \"#E5ECF6\", \"gridcolor\": \"white\", \"gridwidth\": 2, \"linecolor\": \"white\", \"showbackground\": true, \"ticks\": \"\", \"zerolinecolor\": \"white\"}, \"yaxis\": {\"backgroundcolor\": \"#E5ECF6\", \"gridcolor\": \"white\", \"gridwidth\": 2, \"linecolor\": \"white\", \"showbackground\": true, \"ticks\": \"\", \"zerolinecolor\": \"white\"}, \"zaxis\": {\"backgroundcolor\": \"#E5ECF6\", \"gridcolor\": \"white\", \"gridwidth\": 2, \"linecolor\": \"white\", \"showbackground\": true, \"ticks\": \"\", \"zerolinecolor\": \"white\"}}, \"shapedefaults\": {\"line\": {\"color\": \"#2a3f5f\"}}, \"ternary\": {\"aaxis\": {\"gridcolor\": \"white\", \"linecolor\": \"white\", \"ticks\": \"\"}, \"baxis\": {\"gridcolor\": \"white\", \"linecolor\": \"white\", \"ticks\": \"\"}, \"bgcolor\": \"#E5ECF6\", \"caxis\": {\"gridcolor\": \"white\", \"linecolor\": \"white\", \"ticks\": \"\"}}, \"title\": {\"x\": 0.05}, \"xaxis\": {\"automargin\": true, \"gridcolor\": \"white\", \"linecolor\": \"white\", \"ticks\": \"\", \"zerolinecolor\": \"white\", \"zerolinewidth\": 2}, \"yaxis\": {\"automargin\": true, \"gridcolor\": \"white\", \"linecolor\": \"white\", \"ticks\": \"\", \"zerolinecolor\": \"white\", \"zerolinewidth\": 2}}}, \"title\": {\"text\": \"Average Sentiment per Section\", \"x\": 0.5}, \"xaxis\": {\"tickfont\": {\"color\": \"rgb(82, 82, 82)\", \"family\": \"Arial\", \"size\": 15}}},\n",
       "                        {\"responsive\": true}\n",
       "                    ).then(function(){\n",
       "                            \n",
       "var gd = document.getElementById('79954f7e-5da7-4ce3-8ea2-ff006dbc6a3b');\n",
       "var x = new MutationObserver(function (mutations, observer) {{\n",
       "        var display = window.getComputedStyle(gd).display;\n",
       "        if (!display || display === 'none') {{\n",
       "            console.log([gd, 'removed!']);\n",
       "            Plotly.purge(gd);\n",
       "            observer.disconnect();\n",
       "        }}\n",
       "}});\n",
       "\n",
       "// Listen for the removal of the full notebook cells\n",
       "var notebookContainer = gd.closest('#notebook-container');\n",
       "if (notebookContainer) {{\n",
       "    x.observe(notebookContainer, {childList: true});\n",
       "}}\n",
       "\n",
       "// Listen for the clearing of the current output cell\n",
       "var outputEl = gd.closest('.output');\n",
       "if (outputEl) {{\n",
       "    x.observe(outputEl, {childList: true});\n",
       "}}\n",
       "\n",
       "                        })\n",
       "                };\n",
       "                });\n",
       "            </script>\n",
       "        </div>"
      ]
     },
     "metadata": {},
     "output_type": "display_data"
    }
   ],
   "source": [
    "sections = ['Inferno', 'Purgatorio', 'Paradiso']\n",
    "mean_sent = [avg_sentiment_inferno, avg_sentiment_purgatorio, avg_sentiment_paradiso]\n",
    "mean_first_deriv = [avg_first_inferno, avg_first_purgatorio, avg_first_paradiso]\n",
    "mean_second_deriv = [avg_second_inferno, avg_second_purgatorio, avg_second_paradiso]\n",
    "\n",
    "float_formatter = \"{:.2f}\".format\n",
    "\n",
    "fig = go.Figure(\n",
    "    data=[\n",
    "        go.Bar(name='Mean Sentiment', x=sections, y=mean_sent, text=[ \"{:0.3f}\".format(x) for x in mean_sent],\n",
    "            textposition='auto'),\n",
    "        go.Bar(name='Mean First Derivative', x=sections, y=mean_first_deriv, text=[ \"{:0.3f}\".format(x) for x in mean_first_deriv],\n",
    "            textposition='auto'),\n",
    "        go.Bar(name='Mean Second Derivative', x=sections, y=mean_second_deriv, text=[ \"{:0.3f}\".format(x) for x in mean_second_deriv],\n",
    "            textposition='auto')\n",
    "])\n",
    "\n",
    "fig.update_layout(\n",
    "    barmode='group',\n",
    "    xaxis=dict(\n",
    "        tickfont=dict(\n",
    "            family='Arial',\n",
    "            size=15,\n",
    "            color='rgb(82, 82, 82)',\n",
    "        ),\n",
    "    ),\n",
    "    showlegend=True,\n",
    "    plot_bgcolor='white',\n",
    "    title = dict(\n",
    "        text = \"Average Sentiment per Section\",\n",
    "        x = 0.5\n",
    "    )\n",
    ")\n",
    "\n",
    "fig.show()"
   ]
  },
  {
   "cell_type": "code",
   "execution_count": null,
   "metadata": {},
   "outputs": [],
   "source": []
  },
  {
   "cell_type": "code",
   "execution_count": null,
   "metadata": {},
   "outputs": [],
   "source": []
  }
 ],
 "metadata": {
  "kernelspec": {
   "display_name": "Python 3",
   "language": "python",
   "name": "python3"
  },
  "language_info": {
   "codemirror_mode": {
    "name": "ipython",
    "version": 3
   },
   "file_extension": ".py",
   "mimetype": "text/x-python",
   "name": "python",
   "nbconvert_exporter": "python",
   "pygments_lexer": "ipython3",
   "version": "3.7.3"
  },
  "toc": {
   "base_numbering": 1,
   "nav_menu": {},
   "number_sections": true,
   "sideBar": true,
   "skip_h1_title": false,
   "title_cell": "Table of Contents",
   "title_sidebar": "Contents",
   "toc_cell": false,
   "toc_position": {},
   "toc_section_display": true,
   "toc_window_display": false
  }
 },
 "nbformat": 4,
 "nbformat_minor": 2
}
