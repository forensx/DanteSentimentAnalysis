{
 "cells": [
  {
   "cell_type": "markdown",
   "metadata": {},
   "source": [
    "# Plotly Dash Graphs"
   ]
  },
  {
   "cell_type": "code",
   "execution_count": 23,
   "metadata": {},
   "outputs": [],
   "source": [
    "import pandas as pd\n",
    "import numpy as np\n",
    "import plotly.graph_objects as go\n"
   ]
  },
  {
   "cell_type": "code",
   "execution_count": 24,
   "metadata": {},
   "outputs": [],
   "source": [
    "df_inferno = pd.read_csv('data/infernoderivative.csv')\n",
    "df_purgatorio = pd.read_csv('data/purgatorioderivative.csv')\n",
    "df_paradiso = pd.read_csv('data/paradisoderivative.csv')"
   ]
  },
  {
   "cell_type": "code",
   "execution_count": 25,
   "metadata": {},
   "outputs": [
    {
     "data": {
      "text/html": [
       "<div>\n",
       "<style scoped>\n",
       "    .dataframe tbody tr th:only-of-type {\n",
       "        vertical-align: middle;\n",
       "    }\n",
       "\n",
       "    .dataframe tbody tr th {\n",
       "        vertical-align: top;\n",
       "    }\n",
       "\n",
       "    .dataframe thead th {\n",
       "        text-align: right;\n",
       "    }\n",
       "</style>\n",
       "<table border=\"1\" class=\"dataframe\">\n",
       "  <thead>\n",
       "    <tr style=\"text-align: right;\">\n",
       "      <th></th>\n",
       "      <th>Sentiment</th>\n",
       "      <th>Canto</th>\n",
       "      <th>FirstDerivative</th>\n",
       "      <th>SecondDerivative</th>\n",
       "    </tr>\n",
       "  </thead>\n",
       "  <tbody>\n",
       "    <tr>\n",
       "      <th>0</th>\n",
       "      <td>0.372919</td>\n",
       "      <td>1.0</td>\n",
       "      <td>-0.131020</td>\n",
       "      <td>-0.101916</td>\n",
       "    </tr>\n",
       "    <tr>\n",
       "      <th>1</th>\n",
       "      <td>0.241899</td>\n",
       "      <td>2.0</td>\n",
       "      <td>-0.232936</td>\n",
       "      <td>0.208497</td>\n",
       "    </tr>\n",
       "    <tr>\n",
       "      <th>2</th>\n",
       "      <td>0.008963</td>\n",
       "      <td>3.0</td>\n",
       "      <td>-0.024439</td>\n",
       "      <td>-0.033082</td>\n",
       "    </tr>\n",
       "    <tr>\n",
       "      <th>3</th>\n",
       "      <td>-0.015477</td>\n",
       "      <td>4.0</td>\n",
       "      <td>-0.057521</td>\n",
       "      <td>0.382579</td>\n",
       "    </tr>\n",
       "    <tr>\n",
       "      <th>4</th>\n",
       "      <td>-0.072998</td>\n",
       "      <td>5.0</td>\n",
       "      <td>0.325058</td>\n",
       "      <td>-0.278545</td>\n",
       "    </tr>\n",
       "  </tbody>\n",
       "</table>\n",
       "</div>"
      ],
      "text/plain": [
       "   Sentiment  Canto  FirstDerivative  SecondDerivative\n",
       "0   0.372919    1.0        -0.131020         -0.101916\n",
       "1   0.241899    2.0        -0.232936          0.208497\n",
       "2   0.008963    3.0        -0.024439         -0.033082\n",
       "3  -0.015477    4.0        -0.057521          0.382579\n",
       "4  -0.072998    5.0         0.325058         -0.278545"
      ]
     },
     "execution_count": 25,
     "metadata": {},
     "output_type": "execute_result"
    }
   ],
   "source": [
    "df_inferno.head()"
   ]
  },
  {
   "cell_type": "code",
   "execution_count": 26,
   "metadata": {},
   "outputs": [
    {
     "data": {
      "text/html": [
       "<div>\n",
       "<style scoped>\n",
       "    .dataframe tbody tr th:only-of-type {\n",
       "        vertical-align: middle;\n",
       "    }\n",
       "\n",
       "    .dataframe tbody tr th {\n",
       "        vertical-align: top;\n",
       "    }\n",
       "\n",
       "    .dataframe thead th {\n",
       "        text-align: right;\n",
       "    }\n",
       "</style>\n",
       "<table border=\"1\" class=\"dataframe\">\n",
       "  <thead>\n",
       "    <tr style=\"text-align: right;\">\n",
       "      <th></th>\n",
       "      <th>Sentiment</th>\n",
       "      <th>Canto</th>\n",
       "      <th>FirstDerivative</th>\n",
       "      <th>SecondDerivative</th>\n",
       "    </tr>\n",
       "  </thead>\n",
       "  <tbody>\n",
       "    <tr>\n",
       "      <th>0</th>\n",
       "      <td>0.083621</td>\n",
       "      <td>1.0</td>\n",
       "      <td>0.023253</td>\n",
       "      <td>-0.003100</td>\n",
       "    </tr>\n",
       "    <tr>\n",
       "      <th>1</th>\n",
       "      <td>0.106874</td>\n",
       "      <td>2.0</td>\n",
       "      <td>0.020153</td>\n",
       "      <td>-0.100098</td>\n",
       "    </tr>\n",
       "    <tr>\n",
       "      <th>2</th>\n",
       "      <td>0.127027</td>\n",
       "      <td>3.0</td>\n",
       "      <td>-0.079945</td>\n",
       "      <td>0.126997</td>\n",
       "    </tr>\n",
       "    <tr>\n",
       "      <th>3</th>\n",
       "      <td>0.047082</td>\n",
       "      <td>4.0</td>\n",
       "      <td>0.047053</td>\n",
       "      <td>-0.023054</td>\n",
       "    </tr>\n",
       "    <tr>\n",
       "      <th>4</th>\n",
       "      <td>0.094135</td>\n",
       "      <td>5.0</td>\n",
       "      <td>0.023999</td>\n",
       "      <td>0.115723</td>\n",
       "    </tr>\n",
       "  </tbody>\n",
       "</table>\n",
       "</div>"
      ],
      "text/plain": [
       "   Sentiment  Canto  FirstDerivative  SecondDerivative\n",
       "0   0.083621    1.0         0.023253         -0.003100\n",
       "1   0.106874    2.0         0.020153         -0.100098\n",
       "2   0.127027    3.0        -0.079945          0.126997\n",
       "3   0.047082    4.0         0.047053         -0.023054\n",
       "4   0.094135    5.0         0.023999          0.115723"
      ]
     },
     "execution_count": 26,
     "metadata": {},
     "output_type": "execute_result"
    }
   ],
   "source": [
    "df_purgatorio.head()"
   ]
  },
  {
   "cell_type": "code",
   "execution_count": 27,
   "metadata": {},
   "outputs": [
    {
     "data": {
      "text/html": [
       "<div>\n",
       "<style scoped>\n",
       "    .dataframe tbody tr th:only-of-type {\n",
       "        vertical-align: middle;\n",
       "    }\n",
       "\n",
       "    .dataframe tbody tr th {\n",
       "        vertical-align: top;\n",
       "    }\n",
       "\n",
       "    .dataframe thead th {\n",
       "        text-align: right;\n",
       "    }\n",
       "</style>\n",
       "<table border=\"1\" class=\"dataframe\">\n",
       "  <thead>\n",
       "    <tr style=\"text-align: right;\">\n",
       "      <th></th>\n",
       "      <th>Sentiment</th>\n",
       "      <th>Canto</th>\n",
       "      <th>FirstDerivative</th>\n",
       "      <th>SecondDerivative</th>\n",
       "    </tr>\n",
       "  </thead>\n",
       "  <tbody>\n",
       "    <tr>\n",
       "      <th>0</th>\n",
       "      <td>0.230869</td>\n",
       "      <td>1.0</td>\n",
       "      <td>-0.077944</td>\n",
       "      <td>0.099325</td>\n",
       "    </tr>\n",
       "    <tr>\n",
       "      <th>1</th>\n",
       "      <td>0.152926</td>\n",
       "      <td>2.0</td>\n",
       "      <td>0.021381</td>\n",
       "      <td>0.039627</td>\n",
       "    </tr>\n",
       "    <tr>\n",
       "      <th>2</th>\n",
       "      <td>0.174306</td>\n",
       "      <td>3.0</td>\n",
       "      <td>0.061008</td>\n",
       "      <td>-0.192036</td>\n",
       "    </tr>\n",
       "    <tr>\n",
       "      <th>3</th>\n",
       "      <td>0.235315</td>\n",
       "      <td>4.0</td>\n",
       "      <td>-0.131028</td>\n",
       "      <td>0.139697</td>\n",
       "    </tr>\n",
       "    <tr>\n",
       "      <th>4</th>\n",
       "      <td>0.104287</td>\n",
       "      <td>5.0</td>\n",
       "      <td>0.008669</td>\n",
       "      <td>0.045548</td>\n",
       "    </tr>\n",
       "  </tbody>\n",
       "</table>\n",
       "</div>"
      ],
      "text/plain": [
       "   Sentiment  Canto  FirstDerivative  SecondDerivative\n",
       "0   0.230869    1.0        -0.077944          0.099325\n",
       "1   0.152926    2.0         0.021381          0.039627\n",
       "2   0.174306    3.0         0.061008         -0.192036\n",
       "3   0.235315    4.0        -0.131028          0.139697\n",
       "4   0.104287    5.0         0.008669          0.045548"
      ]
     },
     "execution_count": 27,
     "metadata": {},
     "output_type": "execute_result"
    }
   ],
   "source": [
    "df_paradiso.head()"
   ]
  },
  {
   "cell_type": "code",
   "execution_count": 28,
   "metadata": {},
   "outputs": [
    {
     "data": {
      "application/vnd.plotly.v1+json": {
       "config": {
        "plotlyServerURL": "https://plot.ly"
       },
       "data": [
        {
         "mode": "lines+markers",
         "name": "Sentiment Polarity",
         "type": "scatter",
         "x": [
          1,
          2,
          3,
          4,
          5,
          6,
          7,
          8,
          9,
          10,
          11,
          12,
          13,
          14,
          15,
          16,
          17,
          18,
          19,
          20,
          21,
          22,
          23,
          24,
          25,
          26,
          27,
          28,
          29,
          30,
          31,
          32,
          33,
          34
         ],
         "y": [
          0.3729189748583162,
          0.24189891430596835,
          0.00896265692569813,
          -0.01547652685026479,
          -0.0729979419610131,
          0.25205980995218924,
          0.29857250282410425,
          0.10237923167645722,
          0.09335664961555,
          0.11653324117071133,
          0.1371365943206978,
          0.2686076278833219,
          0.20827771383105315,
          -0.02677460657791122,
          -0.059485450015083235,
          0.18091686280354227,
          -0.00522244792136439,
          0.0556172745152691,
          0.2637751874556344,
          0.23432804154419645,
          0.0634127206280903,
          0.05156057135130258,
          -0.0910862432430344,
          0.032709249666329626,
          0.08066771748027284,
          0.10949540127712636,
          -0.2782316032218258,
          0.008002172506753075,
          0.17046467634797816,
          0.13633205169961274,
          0.3260844160195921,
          -0.11297384114899668,
          0.07075074068464413,
          0.16916591893489166
         ]
        },
        {
         "mode": "lines",
         "name": "First Derivative",
         "type": "scatter",
         "x": [
          1,
          2,
          3,
          4,
          5,
          6,
          7,
          8,
          9,
          10,
          11,
          12,
          13,
          14,
          15,
          16,
          17,
          18,
          19,
          20,
          21,
          22,
          23,
          24,
          25,
          26,
          27,
          28,
          29,
          30,
          31,
          32,
          33,
          34
         ],
         "y": [
          -0.13102006055234786,
          -0.2329362573802702,
          -0.02443918377596292,
          -0.05752141511074831,
          0.32505775191320235,
          0.046512692871915014,
          -0.196193271147647,
          -0.009022582060907223,
          0.02317659155516133,
          0.020603353149986472,
          0.13147103356262407,
          -0.06032991405226872,
          -0.2350523204089644,
          -0.03271084343717202,
          0.2404023128186255,
          -0.18613931072490664,
          0.060839722436633485,
          0.2081579129403653,
          -0.02944714591143793,
          -0.17091532091610614,
          -0.01185214927678771,
          -0.14264681459433698,
          0.12379549290936402,
          0.04795846781394321,
          0.02882768379685353,
          -0.38772700449895214,
          0.28623377572857883,
          0.16246250384122507,
          -0.03413262464836542,
          0.18975236431997936,
          -0.4390582571685888,
          0.1837245818336408,
          0.09841517825024754,
          0.09841517825024754
         ]
        },
        {
         "mode": "lines",
         "name": "Second Derivative",
         "type": "scatter",
         "x": [
          1,
          2,
          3,
          4,
          5,
          6,
          7,
          8,
          9,
          10,
          11,
          12,
          13,
          14,
          15,
          16,
          17,
          18,
          19,
          20,
          21,
          22,
          23,
          24,
          25,
          26,
          27,
          28,
          29,
          30,
          31,
          32,
          33,
          34
         ],
         "y": [
          -0.10191619682792236,
          0.2084970736043073,
          -0.033082231334785384,
          0.3825791670239507,
          -0.2785450590412873,
          -0.242705964019562,
          0.18717068908673976,
          0.032199173616068555,
          -0.002573238405174857,
          0.1108676804126376,
          -0.1918009476148928,
          -0.17472240635669564,
          0.2023414769717924,
          0.2731131562557975,
          -0.4265416235435322,
          0.24697903316154016,
          0.1473181905037318,
          -0.2376050588518032,
          -0.14146817500466824,
          0.15906317163931846,
          -0.13079466531754927,
          0.266442307503701,
          -0.07583702509542081,
          -0.019130784017089675,
          -0.4165546882958057,
          0.6739607802275309,
          -0.12377127188735375,
          -0.1965951284895905,
          0.2238849889683448,
          -0.6288106214885681,
          0.6227828390022296,
          -0.08530940358339327,
          0,
          0
         ]
        }
       ],
       "layout": {
        "plot_bgcolor": "white",
        "showlegend": true,
        "template": {
         "data": {
          "bar": [
           {
            "error_x": {
             "color": "#2a3f5f"
            },
            "error_y": {
             "color": "#2a3f5f"
            },
            "marker": {
             "line": {
              "color": "#E5ECF6",
              "width": 0.5
             }
            },
            "type": "bar"
           }
          ],
          "barpolar": [
           {
            "marker": {
             "line": {
              "color": "#E5ECF6",
              "width": 0.5
             }
            },
            "type": "barpolar"
           }
          ],
          "carpet": [
           {
            "aaxis": {
             "endlinecolor": "#2a3f5f",
             "gridcolor": "white",
             "linecolor": "white",
             "minorgridcolor": "white",
             "startlinecolor": "#2a3f5f"
            },
            "baxis": {
             "endlinecolor": "#2a3f5f",
             "gridcolor": "white",
             "linecolor": "white",
             "minorgridcolor": "white",
             "startlinecolor": "#2a3f5f"
            },
            "type": "carpet"
           }
          ],
          "choropleth": [
           {
            "colorbar": {
             "outlinewidth": 0,
             "ticks": ""
            },
            "type": "choropleth"
           }
          ],
          "contour": [
           {
            "colorbar": {
             "outlinewidth": 0,
             "ticks": ""
            },
            "colorscale": [
             [
              0,
              "#0d0887"
             ],
             [
              0.1111111111111111,
              "#46039f"
             ],
             [
              0.2222222222222222,
              "#7201a8"
             ],
             [
              0.3333333333333333,
              "#9c179e"
             ],
             [
              0.4444444444444444,
              "#bd3786"
             ],
             [
              0.5555555555555556,
              "#d8576b"
             ],
             [
              0.6666666666666666,
              "#ed7953"
             ],
             [
              0.7777777777777778,
              "#fb9f3a"
             ],
             [
              0.8888888888888888,
              "#fdca26"
             ],
             [
              1,
              "#f0f921"
             ]
            ],
            "type": "contour"
           }
          ],
          "contourcarpet": [
           {
            "colorbar": {
             "outlinewidth": 0,
             "ticks": ""
            },
            "type": "contourcarpet"
           }
          ],
          "heatmap": [
           {
            "colorbar": {
             "outlinewidth": 0,
             "ticks": ""
            },
            "colorscale": [
             [
              0,
              "#0d0887"
             ],
             [
              0.1111111111111111,
              "#46039f"
             ],
             [
              0.2222222222222222,
              "#7201a8"
             ],
             [
              0.3333333333333333,
              "#9c179e"
             ],
             [
              0.4444444444444444,
              "#bd3786"
             ],
             [
              0.5555555555555556,
              "#d8576b"
             ],
             [
              0.6666666666666666,
              "#ed7953"
             ],
             [
              0.7777777777777778,
              "#fb9f3a"
             ],
             [
              0.8888888888888888,
              "#fdca26"
             ],
             [
              1,
              "#f0f921"
             ]
            ],
            "type": "heatmap"
           }
          ],
          "heatmapgl": [
           {
            "colorbar": {
             "outlinewidth": 0,
             "ticks": ""
            },
            "colorscale": [
             [
              0,
              "#0d0887"
             ],
             [
              0.1111111111111111,
              "#46039f"
             ],
             [
              0.2222222222222222,
              "#7201a8"
             ],
             [
              0.3333333333333333,
              "#9c179e"
             ],
             [
              0.4444444444444444,
              "#bd3786"
             ],
             [
              0.5555555555555556,
              "#d8576b"
             ],
             [
              0.6666666666666666,
              "#ed7953"
             ],
             [
              0.7777777777777778,
              "#fb9f3a"
             ],
             [
              0.8888888888888888,
              "#fdca26"
             ],
             [
              1,
              "#f0f921"
             ]
            ],
            "type": "heatmapgl"
           }
          ],
          "histogram": [
           {
            "marker": {
             "colorbar": {
              "outlinewidth": 0,
              "ticks": ""
             }
            },
            "type": "histogram"
           }
          ],
          "histogram2d": [
           {
            "colorbar": {
             "outlinewidth": 0,
             "ticks": ""
            },
            "colorscale": [
             [
              0,
              "#0d0887"
             ],
             [
              0.1111111111111111,
              "#46039f"
             ],
             [
              0.2222222222222222,
              "#7201a8"
             ],
             [
              0.3333333333333333,
              "#9c179e"
             ],
             [
              0.4444444444444444,
              "#bd3786"
             ],
             [
              0.5555555555555556,
              "#d8576b"
             ],
             [
              0.6666666666666666,
              "#ed7953"
             ],
             [
              0.7777777777777778,
              "#fb9f3a"
             ],
             [
              0.8888888888888888,
              "#fdca26"
             ],
             [
              1,
              "#f0f921"
             ]
            ],
            "type": "histogram2d"
           }
          ],
          "histogram2dcontour": [
           {
            "colorbar": {
             "outlinewidth": 0,
             "ticks": ""
            },
            "colorscale": [
             [
              0,
              "#0d0887"
             ],
             [
              0.1111111111111111,
              "#46039f"
             ],
             [
              0.2222222222222222,
              "#7201a8"
             ],
             [
              0.3333333333333333,
              "#9c179e"
             ],
             [
              0.4444444444444444,
              "#bd3786"
             ],
             [
              0.5555555555555556,
              "#d8576b"
             ],
             [
              0.6666666666666666,
              "#ed7953"
             ],
             [
              0.7777777777777778,
              "#fb9f3a"
             ],
             [
              0.8888888888888888,
              "#fdca26"
             ],
             [
              1,
              "#f0f921"
             ]
            ],
            "type": "histogram2dcontour"
           }
          ],
          "mesh3d": [
           {
            "colorbar": {
             "outlinewidth": 0,
             "ticks": ""
            },
            "type": "mesh3d"
           }
          ],
          "parcoords": [
           {
            "line": {
             "colorbar": {
              "outlinewidth": 0,
              "ticks": ""
             }
            },
            "type": "parcoords"
           }
          ],
          "scatter": [
           {
            "marker": {
             "colorbar": {
              "outlinewidth": 0,
              "ticks": ""
             }
            },
            "type": "scatter"
           }
          ],
          "scatter3d": [
           {
            "line": {
             "colorbar": {
              "outlinewidth": 0,
              "ticks": ""
             }
            },
            "marker": {
             "colorbar": {
              "outlinewidth": 0,
              "ticks": ""
             }
            },
            "type": "scatter3d"
           }
          ],
          "scattercarpet": [
           {
            "marker": {
             "colorbar": {
              "outlinewidth": 0,
              "ticks": ""
             }
            },
            "type": "scattercarpet"
           }
          ],
          "scattergeo": [
           {
            "marker": {
             "colorbar": {
              "outlinewidth": 0,
              "ticks": ""
             }
            },
            "type": "scattergeo"
           }
          ],
          "scattergl": [
           {
            "marker": {
             "colorbar": {
              "outlinewidth": 0,
              "ticks": ""
             }
            },
            "type": "scattergl"
           }
          ],
          "scattermapbox": [
           {
            "marker": {
             "colorbar": {
              "outlinewidth": 0,
              "ticks": ""
             }
            },
            "type": "scattermapbox"
           }
          ],
          "scatterpolar": [
           {
            "marker": {
             "colorbar": {
              "outlinewidth": 0,
              "ticks": ""
             }
            },
            "type": "scatterpolar"
           }
          ],
          "scatterpolargl": [
           {
            "marker": {
             "colorbar": {
              "outlinewidth": 0,
              "ticks": ""
             }
            },
            "type": "scatterpolargl"
           }
          ],
          "scatterternary": [
           {
            "marker": {
             "colorbar": {
              "outlinewidth": 0,
              "ticks": ""
             }
            },
            "type": "scatterternary"
           }
          ],
          "surface": [
           {
            "colorbar": {
             "outlinewidth": 0,
             "ticks": ""
            },
            "colorscale": [
             [
              0,
              "#0d0887"
             ],
             [
              0.1111111111111111,
              "#46039f"
             ],
             [
              0.2222222222222222,
              "#7201a8"
             ],
             [
              0.3333333333333333,
              "#9c179e"
             ],
             [
              0.4444444444444444,
              "#bd3786"
             ],
             [
              0.5555555555555556,
              "#d8576b"
             ],
             [
              0.6666666666666666,
              "#ed7953"
             ],
             [
              0.7777777777777778,
              "#fb9f3a"
             ],
             [
              0.8888888888888888,
              "#fdca26"
             ],
             [
              1,
              "#f0f921"
             ]
            ],
            "type": "surface"
           }
          ],
          "table": [
           {
            "cells": {
             "fill": {
              "color": "#EBF0F8"
             },
             "line": {
              "color": "white"
             }
            },
            "header": {
             "fill": {
              "color": "#C8D4E3"
             },
             "line": {
              "color": "white"
             }
            },
            "type": "table"
           }
          ]
         },
         "layout": {
          "annotationdefaults": {
           "arrowcolor": "#2a3f5f",
           "arrowhead": 0,
           "arrowwidth": 1
          },
          "colorscale": {
           "diverging": [
            [
             0,
             "#8e0152"
            ],
            [
             0.1,
             "#c51b7d"
            ],
            [
             0.2,
             "#de77ae"
            ],
            [
             0.3,
             "#f1b6da"
            ],
            [
             0.4,
             "#fde0ef"
            ],
            [
             0.5,
             "#f7f7f7"
            ],
            [
             0.6,
             "#e6f5d0"
            ],
            [
             0.7,
             "#b8e186"
            ],
            [
             0.8,
             "#7fbc41"
            ],
            [
             0.9,
             "#4d9221"
            ],
            [
             1,
             "#276419"
            ]
           ],
           "sequential": [
            [
             0,
             "#0d0887"
            ],
            [
             0.1111111111111111,
             "#46039f"
            ],
            [
             0.2222222222222222,
             "#7201a8"
            ],
            [
             0.3333333333333333,
             "#9c179e"
            ],
            [
             0.4444444444444444,
             "#bd3786"
            ],
            [
             0.5555555555555556,
             "#d8576b"
            ],
            [
             0.6666666666666666,
             "#ed7953"
            ],
            [
             0.7777777777777778,
             "#fb9f3a"
            ],
            [
             0.8888888888888888,
             "#fdca26"
            ],
            [
             1,
             "#f0f921"
            ]
           ],
           "sequentialminus": [
            [
             0,
             "#0d0887"
            ],
            [
             0.1111111111111111,
             "#46039f"
            ],
            [
             0.2222222222222222,
             "#7201a8"
            ],
            [
             0.3333333333333333,
             "#9c179e"
            ],
            [
             0.4444444444444444,
             "#bd3786"
            ],
            [
             0.5555555555555556,
             "#d8576b"
            ],
            [
             0.6666666666666666,
             "#ed7953"
            ],
            [
             0.7777777777777778,
             "#fb9f3a"
            ],
            [
             0.8888888888888888,
             "#fdca26"
            ],
            [
             1,
             "#f0f921"
            ]
           ]
          },
          "colorway": [
           "#636efa",
           "#EF553B",
           "#00cc96",
           "#ab63fa",
           "#FFA15A",
           "#19d3f3",
           "#FF6692",
           "#B6E880",
           "#FF97FF",
           "#FECB52"
          ],
          "font": {
           "color": "#2a3f5f"
          },
          "geo": {
           "bgcolor": "white",
           "lakecolor": "white",
           "landcolor": "#E5ECF6",
           "showlakes": true,
           "showland": true,
           "subunitcolor": "white"
          },
          "hoverlabel": {
           "align": "left"
          },
          "hovermode": "closest",
          "mapbox": {
           "style": "light"
          },
          "paper_bgcolor": "white",
          "plot_bgcolor": "#E5ECF6",
          "polar": {
           "angularaxis": {
            "gridcolor": "white",
            "linecolor": "white",
            "ticks": ""
           },
           "bgcolor": "#E5ECF6",
           "radialaxis": {
            "gridcolor": "white",
            "linecolor": "white",
            "ticks": ""
           }
          },
          "scene": {
           "xaxis": {
            "backgroundcolor": "#E5ECF6",
            "gridcolor": "white",
            "gridwidth": 2,
            "linecolor": "white",
            "showbackground": true,
            "ticks": "",
            "zerolinecolor": "white"
           },
           "yaxis": {
            "backgroundcolor": "#E5ECF6",
            "gridcolor": "white",
            "gridwidth": 2,
            "linecolor": "white",
            "showbackground": true,
            "ticks": "",
            "zerolinecolor": "white"
           },
           "zaxis": {
            "backgroundcolor": "#E5ECF6",
            "gridcolor": "white",
            "gridwidth": 2,
            "linecolor": "white",
            "showbackground": true,
            "ticks": "",
            "zerolinecolor": "white"
           }
          },
          "shapedefaults": {
           "line": {
            "color": "#2a3f5f"
           }
          },
          "ternary": {
           "aaxis": {
            "gridcolor": "white",
            "linecolor": "white",
            "ticks": ""
           },
           "baxis": {
            "gridcolor": "white",
            "linecolor": "white",
            "ticks": ""
           },
           "bgcolor": "#E5ECF6",
           "caxis": {
            "gridcolor": "white",
            "linecolor": "white",
            "ticks": ""
           }
          },
          "title": {
           "x": 0.05
          },
          "xaxis": {
           "automargin": true,
           "gridcolor": "white",
           "linecolor": "white",
           "ticks": "",
           "zerolinecolor": "white",
           "zerolinewidth": 2
          },
          "yaxis": {
           "automargin": true,
           "gridcolor": "white",
           "linecolor": "white",
           "ticks": "",
           "zerolinecolor": "white",
           "zerolinewidth": 2
          }
         }
        },
        "title": {
         "text": "Inferno: Sentiment per Canto",
         "x": 0.5
        },
        "xaxis": {
         "linecolor": "rgb(204, 204, 204)",
         "linewidth": 2,
         "showgrid": false,
         "showline": true,
         "showticklabels": true,
         "tickfont": {
          "color": "rgb(82, 82, 82)",
          "family": "Arial",
          "size": 12
         },
         "ticks": "outside",
         "title": {
          "text": "Canto"
         }
        },
        "yaxis": {
         "showgrid": false
        }
       }
      },
      "text/html": [
       "<div>\n",
       "        \n",
       "        \n",
       "            <div id=\"815bcf89-6dce-437c-b7bb-0f5e6f2c22b4\" class=\"plotly-graph-div\" style=\"height:525px; width:100%;\"></div>\n",
       "            <script type=\"text/javascript\">\n",
       "                require([\"plotly\"], function(Plotly) {\n",
       "                    window.PLOTLYENV=window.PLOTLYENV || {};\n",
       "                    \n",
       "                if (document.getElementById(\"815bcf89-6dce-437c-b7bb-0f5e6f2c22b4\")) {\n",
       "                    Plotly.newPlot(\n",
       "                        '815bcf89-6dce-437c-b7bb-0f5e6f2c22b4',\n",
       "                        [{\"mode\": \"lines+markers\", \"name\": \"Sentiment Polarity\", \"type\": \"scatter\", \"x\": [1.0, 2.0, 3.0, 4.0, 5.0, 6.0, 7.0, 8.0, 9.0, 10.0, 11.0, 12.0, 13.0, 14.0, 15.0, 16.0, 17.0, 18.0, 19.0, 20.0, 21.0, 22.0, 23.0, 24.0, 25.0, 26.0, 27.0, 28.0, 29.0, 30.0, 31.0, 32.0, 33.0, 34.0], \"y\": [0.3729189748583162, 0.24189891430596835, 0.00896265692569813, -0.01547652685026479, -0.0729979419610131, 0.25205980995218924, 0.29857250282410425, 0.10237923167645722, 0.09335664961555, 0.11653324117071133, 0.1371365943206978, 0.2686076278833219, 0.20827771383105315, -0.02677460657791122, -0.059485450015083235, 0.18091686280354227, -0.00522244792136439, 0.0556172745152691, 0.2637751874556344, 0.23432804154419645, 0.0634127206280903, 0.05156057135130258, -0.0910862432430344, 0.032709249666329626, 0.08066771748027284, 0.10949540127712636, -0.2782316032218258, 0.008002172506753075, 0.17046467634797816, 0.13633205169961274, 0.3260844160195921, -0.11297384114899668, 0.07075074068464413, 0.16916591893489166]}, {\"mode\": \"lines\", \"name\": \"First Derivative\", \"type\": \"scatter\", \"x\": [1.0, 2.0, 3.0, 4.0, 5.0, 6.0, 7.0, 8.0, 9.0, 10.0, 11.0, 12.0, 13.0, 14.0, 15.0, 16.0, 17.0, 18.0, 19.0, 20.0, 21.0, 22.0, 23.0, 24.0, 25.0, 26.0, 27.0, 28.0, 29.0, 30.0, 31.0, 32.0, 33.0, 34.0], \"y\": [-0.13102006055234786, -0.2329362573802702, -0.02443918377596292, -0.05752141511074831, 0.32505775191320235, 0.046512692871915014, -0.196193271147647, -0.009022582060907223, 0.02317659155516133, 0.020603353149986472, 0.13147103356262407, -0.06032991405226872, -0.2350523204089644, -0.03271084343717202, 0.2404023128186255, -0.18613931072490664, 0.060839722436633485, 0.2081579129403653, -0.02944714591143793, -0.17091532091610614, -0.01185214927678771, -0.14264681459433698, 0.12379549290936402, 0.04795846781394321, 0.02882768379685353, -0.38772700449895214, 0.28623377572857883, 0.16246250384122507, -0.03413262464836542, 0.18975236431997936, -0.4390582571685888, 0.1837245818336408, 0.09841517825024754, 0.09841517825024754]}, {\"mode\": \"lines\", \"name\": \"Second Derivative\", \"type\": \"scatter\", \"x\": [1.0, 2.0, 3.0, 4.0, 5.0, 6.0, 7.0, 8.0, 9.0, 10.0, 11.0, 12.0, 13.0, 14.0, 15.0, 16.0, 17.0, 18.0, 19.0, 20.0, 21.0, 22.0, 23.0, 24.0, 25.0, 26.0, 27.0, 28.0, 29.0, 30.0, 31.0, 32.0, 33.0, 34.0], \"y\": [-0.10191619682792236, 0.2084970736043073, -0.033082231334785384, 0.3825791670239507, -0.2785450590412873, -0.242705964019562, 0.18717068908673976, 0.032199173616068555, -0.002573238405174857, 0.1108676804126376, -0.1918009476148928, -0.17472240635669564, 0.2023414769717924, 0.2731131562557975, -0.4265416235435322, 0.24697903316154016, 0.1473181905037318, -0.2376050588518032, -0.14146817500466824, 0.15906317163931846, -0.13079466531754927, 0.266442307503701, -0.07583702509542081, -0.019130784017089675, -0.4165546882958057, 0.6739607802275309, -0.12377127188735375, -0.1965951284895905, 0.2238849889683448, -0.6288106214885681, 0.6227828390022296, -0.08530940358339327, 0.0, 0.0]}],\n",
       "                        {\"plot_bgcolor\": \"white\", \"showlegend\": true, \"template\": {\"data\": {\"bar\": [{\"error_x\": {\"color\": \"#2a3f5f\"}, \"error_y\": {\"color\": \"#2a3f5f\"}, \"marker\": {\"line\": {\"color\": \"#E5ECF6\", \"width\": 0.5}}, \"type\": \"bar\"}], \"barpolar\": [{\"marker\": {\"line\": {\"color\": \"#E5ECF6\", \"width\": 0.5}}, \"type\": \"barpolar\"}], \"carpet\": [{\"aaxis\": {\"endlinecolor\": \"#2a3f5f\", \"gridcolor\": \"white\", \"linecolor\": \"white\", \"minorgridcolor\": \"white\", \"startlinecolor\": \"#2a3f5f\"}, \"baxis\": {\"endlinecolor\": \"#2a3f5f\", \"gridcolor\": \"white\", \"linecolor\": \"white\", \"minorgridcolor\": \"white\", \"startlinecolor\": \"#2a3f5f\"}, \"type\": \"carpet\"}], \"choropleth\": [{\"colorbar\": {\"outlinewidth\": 0, \"ticks\": \"\"}, \"type\": \"choropleth\"}], \"contour\": [{\"colorbar\": {\"outlinewidth\": 0, \"ticks\": \"\"}, \"colorscale\": [[0.0, \"#0d0887\"], [0.1111111111111111, \"#46039f\"], [0.2222222222222222, \"#7201a8\"], [0.3333333333333333, \"#9c179e\"], [0.4444444444444444, \"#bd3786\"], [0.5555555555555556, \"#d8576b\"], [0.6666666666666666, \"#ed7953\"], [0.7777777777777778, \"#fb9f3a\"], [0.8888888888888888, \"#fdca26\"], [1.0, \"#f0f921\"]], \"type\": \"contour\"}], \"contourcarpet\": [{\"colorbar\": {\"outlinewidth\": 0, \"ticks\": \"\"}, \"type\": \"contourcarpet\"}], \"heatmap\": [{\"colorbar\": {\"outlinewidth\": 0, \"ticks\": \"\"}, \"colorscale\": [[0.0, \"#0d0887\"], [0.1111111111111111, \"#46039f\"], [0.2222222222222222, \"#7201a8\"], [0.3333333333333333, \"#9c179e\"], [0.4444444444444444, \"#bd3786\"], [0.5555555555555556, \"#d8576b\"], [0.6666666666666666, \"#ed7953\"], [0.7777777777777778, \"#fb9f3a\"], [0.8888888888888888, \"#fdca26\"], [1.0, \"#f0f921\"]], \"type\": \"heatmap\"}], \"heatmapgl\": [{\"colorbar\": {\"outlinewidth\": 0, \"ticks\": \"\"}, \"colorscale\": [[0.0, \"#0d0887\"], [0.1111111111111111, \"#46039f\"], [0.2222222222222222, \"#7201a8\"], [0.3333333333333333, \"#9c179e\"], [0.4444444444444444, \"#bd3786\"], [0.5555555555555556, \"#d8576b\"], [0.6666666666666666, \"#ed7953\"], [0.7777777777777778, \"#fb9f3a\"], [0.8888888888888888, \"#fdca26\"], [1.0, \"#f0f921\"]], \"type\": \"heatmapgl\"}], \"histogram\": [{\"marker\": {\"colorbar\": {\"outlinewidth\": 0, \"ticks\": \"\"}}, \"type\": \"histogram\"}], \"histogram2d\": [{\"colorbar\": {\"outlinewidth\": 0, \"ticks\": \"\"}, \"colorscale\": [[0.0, \"#0d0887\"], [0.1111111111111111, \"#46039f\"], [0.2222222222222222, \"#7201a8\"], [0.3333333333333333, \"#9c179e\"], [0.4444444444444444, \"#bd3786\"], [0.5555555555555556, \"#d8576b\"], [0.6666666666666666, \"#ed7953\"], [0.7777777777777778, \"#fb9f3a\"], [0.8888888888888888, \"#fdca26\"], [1.0, \"#f0f921\"]], \"type\": \"histogram2d\"}], \"histogram2dcontour\": [{\"colorbar\": {\"outlinewidth\": 0, \"ticks\": \"\"}, \"colorscale\": [[0.0, \"#0d0887\"], [0.1111111111111111, \"#46039f\"], [0.2222222222222222, \"#7201a8\"], [0.3333333333333333, \"#9c179e\"], [0.4444444444444444, \"#bd3786\"], [0.5555555555555556, \"#d8576b\"], [0.6666666666666666, \"#ed7953\"], [0.7777777777777778, \"#fb9f3a\"], [0.8888888888888888, \"#fdca26\"], [1.0, \"#f0f921\"]], \"type\": \"histogram2dcontour\"}], \"mesh3d\": [{\"colorbar\": {\"outlinewidth\": 0, \"ticks\": \"\"}, \"type\": \"mesh3d\"}], \"parcoords\": [{\"line\": {\"colorbar\": {\"outlinewidth\": 0, \"ticks\": \"\"}}, \"type\": \"parcoords\"}], \"scatter\": [{\"marker\": {\"colorbar\": {\"outlinewidth\": 0, \"ticks\": \"\"}}, \"type\": \"scatter\"}], \"scatter3d\": [{\"line\": {\"colorbar\": {\"outlinewidth\": 0, \"ticks\": \"\"}}, \"marker\": {\"colorbar\": {\"outlinewidth\": 0, \"ticks\": \"\"}}, \"type\": \"scatter3d\"}], \"scattercarpet\": [{\"marker\": {\"colorbar\": {\"outlinewidth\": 0, \"ticks\": \"\"}}, \"type\": \"scattercarpet\"}], \"scattergeo\": [{\"marker\": {\"colorbar\": {\"outlinewidth\": 0, \"ticks\": \"\"}}, \"type\": \"scattergeo\"}], \"scattergl\": [{\"marker\": {\"colorbar\": {\"outlinewidth\": 0, \"ticks\": \"\"}}, \"type\": \"scattergl\"}], \"scattermapbox\": [{\"marker\": {\"colorbar\": {\"outlinewidth\": 0, \"ticks\": \"\"}}, \"type\": \"scattermapbox\"}], \"scatterpolar\": [{\"marker\": {\"colorbar\": {\"outlinewidth\": 0, \"ticks\": \"\"}}, \"type\": \"scatterpolar\"}], \"scatterpolargl\": [{\"marker\": {\"colorbar\": {\"outlinewidth\": 0, \"ticks\": \"\"}}, \"type\": \"scatterpolargl\"}], \"scatterternary\": [{\"marker\": {\"colorbar\": {\"outlinewidth\": 0, \"ticks\": \"\"}}, \"type\": \"scatterternary\"}], \"surface\": [{\"colorbar\": {\"outlinewidth\": 0, \"ticks\": \"\"}, \"colorscale\": [[0.0, \"#0d0887\"], [0.1111111111111111, \"#46039f\"], [0.2222222222222222, \"#7201a8\"], [0.3333333333333333, \"#9c179e\"], [0.4444444444444444, \"#bd3786\"], [0.5555555555555556, \"#d8576b\"], [0.6666666666666666, \"#ed7953\"], [0.7777777777777778, \"#fb9f3a\"], [0.8888888888888888, \"#fdca26\"], [1.0, \"#f0f921\"]], \"type\": \"surface\"}], \"table\": [{\"cells\": {\"fill\": {\"color\": \"#EBF0F8\"}, \"line\": {\"color\": \"white\"}}, \"header\": {\"fill\": {\"color\": \"#C8D4E3\"}, \"line\": {\"color\": \"white\"}}, \"type\": \"table\"}]}, \"layout\": {\"annotationdefaults\": {\"arrowcolor\": \"#2a3f5f\", \"arrowhead\": 0, \"arrowwidth\": 1}, \"colorscale\": {\"diverging\": [[0, \"#8e0152\"], [0.1, \"#c51b7d\"], [0.2, \"#de77ae\"], [0.3, \"#f1b6da\"], [0.4, \"#fde0ef\"], [0.5, \"#f7f7f7\"], [0.6, \"#e6f5d0\"], [0.7, \"#b8e186\"], [0.8, \"#7fbc41\"], [0.9, \"#4d9221\"], [1, \"#276419\"]], \"sequential\": [[0.0, \"#0d0887\"], [0.1111111111111111, \"#46039f\"], [0.2222222222222222, \"#7201a8\"], [0.3333333333333333, \"#9c179e\"], [0.4444444444444444, \"#bd3786\"], [0.5555555555555556, \"#d8576b\"], [0.6666666666666666, \"#ed7953\"], [0.7777777777777778, \"#fb9f3a\"], [0.8888888888888888, \"#fdca26\"], [1.0, \"#f0f921\"]], \"sequentialminus\": [[0.0, \"#0d0887\"], [0.1111111111111111, \"#46039f\"], [0.2222222222222222, \"#7201a8\"], [0.3333333333333333, \"#9c179e\"], [0.4444444444444444, \"#bd3786\"], [0.5555555555555556, \"#d8576b\"], [0.6666666666666666, \"#ed7953\"], [0.7777777777777778, \"#fb9f3a\"], [0.8888888888888888, \"#fdca26\"], [1.0, \"#f0f921\"]]}, \"colorway\": [\"#636efa\", \"#EF553B\", \"#00cc96\", \"#ab63fa\", \"#FFA15A\", \"#19d3f3\", \"#FF6692\", \"#B6E880\", \"#FF97FF\", \"#FECB52\"], \"font\": {\"color\": \"#2a3f5f\"}, \"geo\": {\"bgcolor\": \"white\", \"lakecolor\": \"white\", \"landcolor\": \"#E5ECF6\", \"showlakes\": true, \"showland\": true, \"subunitcolor\": \"white\"}, \"hoverlabel\": {\"align\": \"left\"}, \"hovermode\": \"closest\", \"mapbox\": {\"style\": \"light\"}, \"paper_bgcolor\": \"white\", \"plot_bgcolor\": \"#E5ECF6\", \"polar\": {\"angularaxis\": {\"gridcolor\": \"white\", \"linecolor\": \"white\", \"ticks\": \"\"}, \"bgcolor\": \"#E5ECF6\", \"radialaxis\": {\"gridcolor\": \"white\", \"linecolor\": \"white\", \"ticks\": \"\"}}, \"scene\": {\"xaxis\": {\"backgroundcolor\": \"#E5ECF6\", \"gridcolor\": \"white\", \"gridwidth\": 2, \"linecolor\": \"white\", \"showbackground\": true, \"ticks\": \"\", \"zerolinecolor\": \"white\"}, \"yaxis\": {\"backgroundcolor\": \"#E5ECF6\", \"gridcolor\": \"white\", \"gridwidth\": 2, \"linecolor\": \"white\", \"showbackground\": true, \"ticks\": \"\", \"zerolinecolor\": \"white\"}, \"zaxis\": {\"backgroundcolor\": \"#E5ECF6\", \"gridcolor\": \"white\", \"gridwidth\": 2, \"linecolor\": \"white\", \"showbackground\": true, \"ticks\": \"\", \"zerolinecolor\": \"white\"}}, \"shapedefaults\": {\"line\": {\"color\": \"#2a3f5f\"}}, \"ternary\": {\"aaxis\": {\"gridcolor\": \"white\", \"linecolor\": \"white\", \"ticks\": \"\"}, \"baxis\": {\"gridcolor\": \"white\", \"linecolor\": \"white\", \"ticks\": \"\"}, \"bgcolor\": \"#E5ECF6\", \"caxis\": {\"gridcolor\": \"white\", \"linecolor\": \"white\", \"ticks\": \"\"}}, \"title\": {\"x\": 0.05}, \"xaxis\": {\"automargin\": true, \"gridcolor\": \"white\", \"linecolor\": \"white\", \"ticks\": \"\", \"zerolinecolor\": \"white\", \"zerolinewidth\": 2}, \"yaxis\": {\"automargin\": true, \"gridcolor\": \"white\", \"linecolor\": \"white\", \"ticks\": \"\", \"zerolinecolor\": \"white\", \"zerolinewidth\": 2}}}, \"title\": {\"text\": \"Inferno: Sentiment per Canto\", \"x\": 0.5}, \"xaxis\": {\"linecolor\": \"rgb(204, 204, 204)\", \"linewidth\": 2, \"showgrid\": false, \"showline\": true, \"showticklabels\": true, \"tickfont\": {\"color\": \"rgb(82, 82, 82)\", \"family\": \"Arial\", \"size\": 12}, \"ticks\": \"outside\", \"title\": {\"text\": \"Canto\"}}, \"yaxis\": {\"showgrid\": false}},\n",
       "                        {\"responsive\": true}\n",
       "                    ).then(function(){\n",
       "                            \n",
       "var gd = document.getElementById('815bcf89-6dce-437c-b7bb-0f5e6f2c22b4');\n",
       "var x = new MutationObserver(function (mutations, observer) {{\n",
       "        var display = window.getComputedStyle(gd).display;\n",
       "        if (!display || display === 'none') {{\n",
       "            console.log([gd, 'removed!']);\n",
       "            Plotly.purge(gd);\n",
       "            observer.disconnect();\n",
       "        }}\n",
       "}});\n",
       "\n",
       "// Listen for the removal of the full notebook cells\n",
       "var notebookContainer = gd.closest('#notebook-container');\n",
       "if (notebookContainer) {{\n",
       "    x.observe(notebookContainer, {childList: true});\n",
       "}}\n",
       "\n",
       "// Listen for the clearing of the current output cell\n",
       "var outputEl = gd.closest('.output');\n",
       "if (outputEl) {{\n",
       "    x.observe(outputEl, {childList: true});\n",
       "}}\n",
       "\n",
       "                        })\n",
       "                };\n",
       "                });\n",
       "            </script>\n",
       "        </div>"
      ]
     },
     "metadata": {},
     "output_type": "display_data"
    }
   ],
   "source": [
    "# Create traces\n",
    "fig = go.Figure()\n",
    "fig.add_trace(\n",
    "    go.Scatter(x=df_inferno['Canto'], y=df_inferno['Sentiment'],\n",
    "                    mode='lines+markers',\n",
    "                    name='Sentiment Polarity')\n",
    ")\n",
    "fig.add_trace(\n",
    "    go.Scatter(x=df_inferno['Canto'], y=df_inferno['FirstDerivative'],\n",
    "                    mode='lines',\n",
    "                    name='First Derivative')\n",
    ")\n",
    "fig.add_trace(\n",
    "    go.Scatter(x=df_inferno['Canto'], y=df_inferno['SecondDerivative'],\n",
    "                    mode='lines', name='Second Derivative')\n",
    ")\n",
    "\n",
    "fig.update_layout(\n",
    "    xaxis=dict(\n",
    "        title = \"Canto\",\n",
    "        showline=True,\n",
    "        showgrid=False,\n",
    "        showticklabels=True,\n",
    "        linecolor='rgb(204, 204, 204)',\n",
    "        linewidth=2,\n",
    "        ticks='outside',\n",
    "        tickfont=dict(\n",
    "            family='Arial',\n",
    "            size=12,\n",
    "            color='rgb(82, 82, 82)',\n",
    "        ),\n",
    "    ),\n",
    "    yaxis=dict(\n",
    "        showgrid=False,\n",
    "    ),\n",
    "    showlegend=True,\n",
    "    plot_bgcolor='white',\n",
    "    title = dict(\n",
    "        text = \"Inferno: Sentiment per Canto\",\n",
    "        x = 0.5\n",
    "    )\n",
    ")\n",
    "\n",
    "fig.show()"
   ]
  },
  {
   "cell_type": "markdown",
   "metadata": {},
   "source": [
    "# Composite Graph"
   ]
  },
  {
   "cell_type": "code",
   "execution_count": 111,
   "metadata": {},
   "outputs": [
    {
     "data": {
      "application/vnd.plotly.v1+json": {
       "config": {
        "plotlyServerURL": "https://plot.ly"
       },
       "data": [
        {
         "hoverinfo": "text",
         "hovertext": [
          "Inferno: <br>Canto #1",
          "Inferno: <br>Canto #2",
          "Inferno: <br>Canto #3",
          "Inferno: <br>Canto #4",
          "Inferno: <br>Canto #5",
          "Inferno: <br>Canto #6",
          "Inferno: <br>Canto #7",
          "Inferno: <br>Canto #8",
          "Inferno: <br>Canto #9",
          "Inferno: <br>Canto #10",
          "Inferno: <br>Canto #11",
          "Inferno: <br>Canto #12",
          "Inferno: <br>Canto #13",
          "Inferno: <br>Canto #14",
          "Inferno: <br>Canto #15",
          "Inferno: <br>Canto #16",
          "Inferno: <br>Canto #17",
          "Inferno: <br>Canto #18",
          "Inferno: <br>Canto #19",
          "Inferno: <br>Canto #20",
          "Inferno: <br>Canto #21",
          "Inferno: <br>Canto #22",
          "Inferno: <br>Canto #23",
          "Inferno: <br>Canto #24",
          "Inferno: <br>Canto #25",
          "Inferno: <br>Canto #26",
          "Inferno: <br>Canto #27",
          "Inferno: <br>Canto #28",
          "Inferno: <br>Canto #29",
          "Inferno: <br>Canto #30",
          "Inferno: <br>Canto #31",
          "Inferno: <br>Canto #32",
          "Inferno: <br>Canto #33",
          "Inferno: <br>Canto #34"
         ],
         "line": {
          "color": "rgb(61, 43, 86)",
          "width": 4
         },
         "mode": "lines+markers",
         "name": "Sentiment Polarity - Inferno",
         "type": "scatter",
         "x": [
          1,
          2,
          3,
          4,
          5,
          6,
          7,
          8,
          9,
          10,
          11,
          12,
          13,
          14,
          15,
          16,
          17,
          18,
          19,
          20,
          21,
          22,
          23,
          24,
          25,
          26,
          27,
          28,
          29,
          30,
          31,
          32,
          33,
          34
         ],
         "y": [
          0.3729189748583162,
          0.24189891430596835,
          0.00896265692569813,
          -0.01547652685026479,
          -0.0729979419610131,
          0.25205980995218924,
          0.29857250282410425,
          0.10237923167645722,
          0.09335664961555,
          0.11653324117071133,
          0.1371365943206978,
          0.2686076278833219,
          0.20827771383105315,
          -0.02677460657791122,
          -0.059485450015083235,
          0.18091686280354227,
          -0.00522244792136439,
          0.0556172745152691,
          0.2637751874556344,
          0.23432804154419645,
          0.0634127206280903,
          0.05156057135130258,
          -0.0910862432430344,
          0.032709249666329626,
          0.08066771748027284,
          0.10949540127712636,
          -0.2782316032218258,
          0.008002172506753075,
          0.17046467634797816,
          0.13633205169961274,
          0.3260844160195921,
          -0.11297384114899668,
          0.07075074068464413,
          0.16916591893489166
         ]
        },
        {
         "hoverinfo": "skip",
         "legendgroup": "inferno_derivatives",
         "line": {
          "color": "rgb(44, 73, 127)",
          "width": 1.4
         },
         "mode": "lines",
         "name": "First Derivative",
         "type": "scatter",
         "x": [
          1,
          2,
          3,
          4,
          5,
          6,
          7,
          8,
          9,
          10,
          11,
          12,
          13,
          14,
          15,
          16,
          17,
          18,
          19,
          20,
          21,
          22,
          23,
          24,
          25,
          26,
          27,
          28,
          29,
          30,
          31,
          32,
          33,
          34
         ],
         "y": [
          -0.13102006055234786,
          -0.2329362573802702,
          -0.02443918377596292,
          -0.05752141511074831,
          0.32505775191320235,
          0.046512692871915014,
          -0.196193271147647,
          -0.009022582060907223,
          0.02317659155516133,
          0.020603353149986472,
          0.13147103356262407,
          -0.06032991405226872,
          -0.2350523204089644,
          -0.03271084343717202,
          0.2404023128186255,
          -0.18613931072490664,
          0.060839722436633485,
          0.2081579129403653,
          -0.02944714591143793,
          -0.17091532091610614,
          -0.01185214927678771,
          -0.14264681459433698,
          0.12379549290936402,
          0.04795846781394321,
          0.02882768379685353,
          -0.38772700449895214,
          0.28623377572857883,
          0.16246250384122507,
          -0.03413262464836542,
          0.18975236431997936,
          -0.4390582571685888,
          0.1837245818336408,
          0.09841517825024754,
          0.09841517825024754
         ]
        },
        {
         "hoverinfo": "skip",
         "legendgroup": "inferno_derivatives",
         "line": {
          "color": "rgb(128, 138, 159)",
          "width": 1.4
         },
         "mode": "lines",
         "name": "Second Derivative",
         "type": "scatter",
         "x": [
          1,
          2,
          3,
          4,
          5,
          6,
          7,
          8,
          9,
          10,
          11,
          12,
          13,
          14,
          15,
          16,
          17,
          18,
          19,
          20,
          21,
          22,
          23,
          24,
          25,
          26,
          27,
          28,
          29,
          30,
          31,
          32,
          33,
          34
         ],
         "y": [
          -0.10191619682792236,
          0.2084970736043073,
          -0.033082231334785384,
          0.3825791670239507,
          -0.2785450590412873,
          -0.242705964019562,
          0.18717068908673976,
          0.032199173616068555,
          -0.002573238405174857,
          0.1108676804126376,
          -0.1918009476148928,
          -0.17472240635669564,
          0.2023414769717924,
          0.2731131562557975,
          -0.4265416235435322,
          0.24697903316154016,
          0.1473181905037318,
          -0.2376050588518032,
          -0.14146817500466824,
          0.15906317163931846,
          -0.13079466531754927,
          0.266442307503701,
          -0.07583702509542081,
          -0.019130784017089675,
          -0.4165546882958057,
          0.6739607802275309,
          -0.12377127188735375,
          -0.1965951284895905,
          0.2238849889683448,
          -0.6288106214885681,
          0.6227828390022296,
          -0.08530940358339327,
          0,
          0
         ]
        },
        {
         "hoverinfo": "skip",
         "line": {
          "color": "firebrick",
          "dash": "dash",
          "width": 1.2
         },
         "mode": "lines",
         "name": "Purgatorio Splitter",
         "showlegend": false,
         "type": "scatter",
         "x": [
          34,
          34
         ],
         "y": [
          -1,
          1
         ]
        },
        {
         "hoverinfo": "text",
         "hovertext": [
          "Purgatorio: <br>Canto #1",
          "Purgatorio: <br>Canto #2",
          "Purgatorio: <br>Canto #3",
          "Purgatorio: <br>Canto #4",
          "Purgatorio: <br>Canto #5",
          "Purgatorio: <br>Canto #6",
          "Purgatorio: <br>Canto #7",
          "Purgatorio: <br>Canto #8",
          "Purgatorio: <br>Canto #9",
          "Purgatorio: <br>Canto #10",
          "Purgatorio: <br>Canto #11",
          "Purgatorio: <br>Canto #12",
          "Purgatorio: <br>Canto #13",
          "Purgatorio: <br>Canto #14",
          "Purgatorio: <br>Canto #15",
          "Purgatorio: <br>Canto #16",
          "Purgatorio: <br>Canto #17",
          "Purgatorio: <br>Canto #18",
          "Purgatorio: <br>Canto #19",
          "Purgatorio: <br>Canto #20",
          "Purgatorio: <br>Canto #21",
          "Purgatorio: <br>Canto #22",
          "Purgatorio: <br>Canto #23",
          "Purgatorio: <br>Canto #24",
          "Purgatorio: <br>Canto #25",
          "Purgatorio: <br>Canto #26",
          "Purgatorio: <br>Canto #27",
          "Purgatorio: <br>Canto #28",
          "Purgatorio: <br>Canto #29",
          "Purgatorio: <br>Canto #30",
          "Purgatorio: <br>Canto #31",
          "Purgatorio: <br>Canto #32",
          "Purgatorio: <br>Canto #33"
         ],
         "line": {
          "color": "rgb(61, 43, 86)",
          "width": 4
         },
         "mode": "lines+markers",
         "name": "Sentiment Polarity - Purgatorio",
         "showlegend": true,
         "type": "scatter",
         "x": [
          34,
          35,
          36,
          37,
          38,
          39,
          40,
          41,
          42,
          43,
          44,
          45,
          46,
          47,
          48,
          49,
          50,
          51,
          52,
          53,
          54,
          55,
          56,
          57,
          58,
          59,
          60,
          61,
          62,
          63,
          64,
          65,
          66
         ],
         "y": [
          0.08362076323080192,
          0.10687376888809827,
          0.12702705757911334,
          0.047082458378161336,
          0.09413530270755867,
          0.11813396264365868,
          0.2578559493879767,
          0.12710172594968816,
          0.17327562911091854,
          0.2259066742281595,
          0.054826430758252116,
          0.22157757967431072,
          0.2173696308640572,
          0.2660502510637761,
          0.18268053428980235,
          0.06306906172912274,
          0.2228592950033003,
          0.19647915870634525,
          0.24611606558237165,
          0.3015750156580904,
          0.3465810277659536,
          0.15704458379192265,
          0.13245855175704746,
          0.14098706886230894,
          0.09730520766325652,
          0.10688032199229563,
          0.15395031734890602,
          0.12181492963764876,
          -0.02265022768676945,
          0.12329880719609145,
          0.18124934440530252,
          0.09626669297273922,
          0.17311216351082975
         ]
        },
        {
         "hoverinfo": "skip",
         "legendgroup": "purgatorio_derivatives",
         "line": {
          "color": "rgb(44, 73, 127)",
          "width": 1.4
         },
         "mode": "lines",
         "name": "First Derivative",
         "showlegend": true,
         "type": "scatter",
         "x": [
          34,
          35,
          36,
          37,
          38,
          39,
          40,
          41,
          42,
          43,
          44,
          45,
          46,
          47,
          48,
          49,
          50,
          51,
          52,
          53,
          54,
          55,
          56,
          57,
          58,
          59,
          60,
          61,
          62,
          63,
          64,
          65,
          66
         ],
         "y": [
          0.02325300565729635,
          0.02015328869101507,
          -0.07994459920095201,
          0.04705284432939733,
          0.02399865993610001,
          0.13972198674431802,
          -0.13075422343828852,
          0.04617390316123038,
          0.05263104511724096,
          -0.17108024346990738,
          0.1667511489160586,
          -0.00420794881025352,
          0.048680620199718916,
          -0.08336971677397376,
          -0.1196114725606796,
          0.15979023327417755,
          -0.02638013629695504,
          0.0496369068760264,
          0.05545895007571877,
          0.0450060121078632,
          -0.18953644397403094,
          -0.024586032034875197,
          0.00852851710526148,
          -0.043681861199052416,
          0.009575114329039113,
          0.047069995356610383,
          -0.03213538771125725,
          -0.14446515732441825,
          0.1459490348828609,
          0.0579505372092111,
          -0.08498265143256332,
          0.07684547053809053,
          0.07684547053809053
         ]
        },
        {
         "hoverinfo": "skip",
         "legendgroup": "purgatorio_derivatives",
         "line": {
          "color": "rgb(128, 138, 159)",
          "width": 1.4
         },
         "mode": "lines",
         "name": "Second Derivative",
         "showlegend": true,
         "type": "scatter",
         "x": [
          34,
          35,
          36,
          37,
          38,
          39,
          40,
          41,
          42,
          43,
          44,
          45,
          46,
          47,
          48,
          49,
          50,
          51,
          52,
          53,
          54,
          55,
          56,
          57,
          58,
          59,
          60,
          61,
          62,
          63,
          64,
          65,
          66
         ],
         "y": [
          -0.00309971696628128,
          -0.10009788789196708,
          0.12699744353034936,
          -0.023054184393297324,
          0.115723326808218,
          -0.2704762101826065,
          0.1769281265995189,
          0.006457141956010576,
          -0.22371128858714834,
          0.33783139238596605,
          -0.17095909772631213,
          0.052888569009972436,
          -0.13205033697369267,
          -0.036241755786705854,
          0.27940170583485713,
          -0.1861703695711326,
          0.07601704317298144,
          0.005822043199692373,
          -0.010452937967855569,
          -0.23454245608189414,
          0.16495041193915574,
          0.033114549140136666,
          -0.052210378304313895,
          0.053256975528091534,
          0.037494881027571265,
          -0.07920538306786762,
          -0.11232976961316098,
          0.29041419220727915,
          -0.0879984976736498,
          -0.14293318864177446,
          0.16182812197065385,
          0,
          0
         ]
        },
        {
         "hoverinfo": "skip",
         "line": {
          "color": "firebrick",
          "dash": "dash",
          "width": 1.2
         },
         "mode": "lines",
         "name": "Paradiso Splitter",
         "showlegend": false,
         "type": "scatter",
         "x": [
          67,
          67
         ],
         "y": [
          -1,
          1
         ]
        },
        {
         "hoverinfo": "text",
         "hovertext": [
          "Paradiso: <br>Canto #1",
          "Paradiso: <br>Canto #2",
          "Paradiso: <br>Canto #3",
          "Paradiso: <br>Canto #4",
          "Paradiso: <br>Canto #5",
          "Paradiso: <br>Canto #6",
          "Paradiso: <br>Canto #7",
          "Paradiso: <br>Canto #8",
          "Paradiso: <br>Canto #9",
          "Paradiso: <br>Canto #10",
          "Paradiso: <br>Canto #11",
          "Paradiso: <br>Canto #12",
          "Paradiso: <br>Canto #13",
          "Paradiso: <br>Canto #14",
          "Paradiso: <br>Canto #15",
          "Paradiso: <br>Canto #16",
          "Paradiso: <br>Canto #17",
          "Paradiso: <br>Canto #18",
          "Paradiso: <br>Canto #19",
          "Paradiso: <br>Canto #20",
          "Paradiso: <br>Canto #21",
          "Paradiso: <br>Canto #22",
          "Paradiso: <br>Canto #23",
          "Paradiso: <br>Canto #24",
          "Paradiso: <br>Canto #25",
          "Paradiso: <br>Canto #26",
          "Paradiso: <br>Canto #27",
          "Paradiso: <br>Canto #28",
          "Paradiso: <br>Canto #29",
          "Paradiso: <br>Canto #30",
          "Paradiso: <br>Canto #31",
          "Paradiso: <br>Canto #32",
          "Paradiso: <br>Canto #33"
         ],
         "line": {
          "color": "rgb(61, 43, 86)",
          "width": 4
         },
         "mode": "lines+markers",
         "name": "Sentiment Polarity - Paradiso",
         "showlegend": true,
         "type": "scatter",
         "x": [
          67,
          68,
          69,
          70,
          71,
          72,
          73,
          74,
          75,
          76,
          77,
          78,
          79,
          80,
          81,
          82,
          83,
          84,
          85,
          86,
          87,
          88,
          89,
          90,
          91,
          92,
          93,
          94,
          95,
          96,
          97,
          98,
          99
         ],
         "y": [
          0.2308693885603865,
          0.15292556617225675,
          0.17430649173932594,
          0.2353147773529701,
          0.10428667411784157,
          0.11295581089683895,
          0.16717257138337366,
          0.2530145395310767,
          0.18372159650210207,
          0.15964442460397668,
          0.07098974105886255,
          0.196983365935548,
          0.13408588637769253,
          0.18872888667561344,
          0.06408942369746802,
          0.21291418433293013,
          0.24234727779901905,
          0.20262609143862512,
          0.30803086368009497,
          0.15379770765035747,
          0.1098516365491049,
          0.12565863174822056,
          0.2267009029039836,
          0.15054924734916392,
          0.16370314539708808,
          0.13065448632771742,
          0.2136459205896168,
          0.13189884616270067,
          0.17835797359716982,
          0.09152222751920068,
          0.15939799097941448,
          0.11292421652303215,
          0.1016821187311651
         ]
        },
        {
         "hoverinfo": "skip",
         "legendgroup": "paradiso_derivatives",
         "line": {
          "color": "rgb(44, 73, 127)",
          "width": 1.4
         },
         "mode": "lines",
         "name": "First Derivative",
         "showlegend": true,
         "type": "scatter",
         "x": [
          67,
          68,
          69,
          70,
          71,
          72,
          73,
          74,
          75,
          76,
          77,
          78,
          79,
          80,
          81,
          82,
          83,
          84,
          85,
          86,
          87,
          88,
          89,
          90,
          91,
          92,
          93,
          94,
          95,
          96,
          97,
          98,
          99
         ],
         "y": [
          -0.07794382238812975,
          0.021380925567069192,
          0.061008285613644166,
          -0.13102810323512853,
          0.008669136778997388,
          0.054216760486534704,
          0.08584196814770306,
          -0.0692929430289746,
          -0.024077171898125443,
          -0.08865468354511412,
          0.12599362487668547,
          -0.06289747955785549,
          0.054643000297920914,
          -0.12463946297814542,
          0.14882476063546213,
          0.02943309346608891,
          -0.03972118636039393,
          0.10540477224146984,
          -0.1542331560297375,
          -0.04394607110125257,
          0.01580699519911566,
          0.10104227115576304,
          -0.07615165555481967,
          0.013153898047924162,
          -0.033048659069370656,
          0.08299143426189938,
          -0.08174707442691613,
          0.04645912743446914,
          -0.08683574607796914,
          0.0678757634602138,
          -0.04647377445638233,
          -0.01124209779186705,
          -0.01124209779186705
         ]
        },
        {
         "hoverinfo": "skip",
         "legendgroup": "paradiso_derivatives",
         "line": {
          "color": "rgb(128, 138, 159)",
          "width": 1.4
         },
         "mode": "lines",
         "name": "Second Derivative",
         "showlegend": true,
         "type": "scatter",
         "x": [
          67,
          68,
          69,
          70,
          71,
          72,
          73,
          74,
          75,
          76,
          77,
          78,
          79,
          80,
          81,
          82,
          83,
          84,
          85,
          86,
          87,
          88,
          89,
          90,
          91,
          92,
          93,
          94,
          95,
          96,
          97,
          98,
          99
         ],
         "y": [
          0.09932474795519894,
          0.039627360046574966,
          -0.1920363888487727,
          0.13969724001412592,
          0.045547623707537316,
          0.031625207661168366,
          -0.15513491117667766,
          0.04521577113084915,
          -0.06457751164698869,
          0.2146483084217996,
          -0.18889110443454096,
          0.1175404798557764,
          -0.17928246327606634,
          0.2734642236136076,
          -0.11939166716937323,
          -0.06915427982648284,
          0.14512595860186378,
          -0.2596379282712073,
          0.11028708492848494,
          0.059753066300368224,
          0.08523527595664737,
          -0.1771939267105827,
          0.08930555360274384,
          -0.04620255711729482,
          0.11604009333127002,
          -0.16473850868881548,
          0.12820620186138526,
          -0.1332948735124383,
          0.15471150953818294,
          -0.11434953791659612,
          0.03523167666451528,
          0,
          0
         ]
        }
       ],
       "layout": {
        "annotations": [
         {
          "arrowhead": 7,
          "ax": 0,
          "ay": -40,
          "font": {
           "color": "black",
           "size": 14
          },
          "showarrow": false,
          "text": "Inferno",
          "x": 5,
          "xref": "x",
          "y": 0.55,
          "yref": "y"
         },
         {
          "arrowhead": 7,
          "ax": 0,
          "ay": -40,
          "font": {
           "color": "black",
           "size": 14
          },
          "showarrow": false,
          "text": "Purgatorio",
          "x": 42,
          "xref": "x",
          "y": 0.55,
          "yref": "y"
         },
         {
          "arrowhead": 7,
          "ax": 0,
          "ay": -40,
          "font": {
           "color": "black",
           "size": 14
          },
          "showarrow": false,
          "text": "Paradiso",
          "x": 74,
          "xref": "x",
          "y": 0.55,
          "yref": "y"
         }
        ],
        "plot_bgcolor": "white",
        "showlegend": true,
        "template": {
         "data": {
          "bar": [
           {
            "error_x": {
             "color": "#2a3f5f"
            },
            "error_y": {
             "color": "#2a3f5f"
            },
            "marker": {
             "line": {
              "color": "#E5ECF6",
              "width": 0.5
             }
            },
            "type": "bar"
           }
          ],
          "barpolar": [
           {
            "marker": {
             "line": {
              "color": "#E5ECF6",
              "width": 0.5
             }
            },
            "type": "barpolar"
           }
          ],
          "carpet": [
           {
            "aaxis": {
             "endlinecolor": "#2a3f5f",
             "gridcolor": "white",
             "linecolor": "white",
             "minorgridcolor": "white",
             "startlinecolor": "#2a3f5f"
            },
            "baxis": {
             "endlinecolor": "#2a3f5f",
             "gridcolor": "white",
             "linecolor": "white",
             "minorgridcolor": "white",
             "startlinecolor": "#2a3f5f"
            },
            "type": "carpet"
           }
          ],
          "choropleth": [
           {
            "colorbar": {
             "outlinewidth": 0,
             "ticks": ""
            },
            "type": "choropleth"
           }
          ],
          "contour": [
           {
            "colorbar": {
             "outlinewidth": 0,
             "ticks": ""
            },
            "colorscale": [
             [
              0,
              "#0d0887"
             ],
             [
              0.1111111111111111,
              "#46039f"
             ],
             [
              0.2222222222222222,
              "#7201a8"
             ],
             [
              0.3333333333333333,
              "#9c179e"
             ],
             [
              0.4444444444444444,
              "#bd3786"
             ],
             [
              0.5555555555555556,
              "#d8576b"
             ],
             [
              0.6666666666666666,
              "#ed7953"
             ],
             [
              0.7777777777777778,
              "#fb9f3a"
             ],
             [
              0.8888888888888888,
              "#fdca26"
             ],
             [
              1,
              "#f0f921"
             ]
            ],
            "type": "contour"
           }
          ],
          "contourcarpet": [
           {
            "colorbar": {
             "outlinewidth": 0,
             "ticks": ""
            },
            "type": "contourcarpet"
           }
          ],
          "heatmap": [
           {
            "colorbar": {
             "outlinewidth": 0,
             "ticks": ""
            },
            "colorscale": [
             [
              0,
              "#0d0887"
             ],
             [
              0.1111111111111111,
              "#46039f"
             ],
             [
              0.2222222222222222,
              "#7201a8"
             ],
             [
              0.3333333333333333,
              "#9c179e"
             ],
             [
              0.4444444444444444,
              "#bd3786"
             ],
             [
              0.5555555555555556,
              "#d8576b"
             ],
             [
              0.6666666666666666,
              "#ed7953"
             ],
             [
              0.7777777777777778,
              "#fb9f3a"
             ],
             [
              0.8888888888888888,
              "#fdca26"
             ],
             [
              1,
              "#f0f921"
             ]
            ],
            "type": "heatmap"
           }
          ],
          "heatmapgl": [
           {
            "colorbar": {
             "outlinewidth": 0,
             "ticks": ""
            },
            "colorscale": [
             [
              0,
              "#0d0887"
             ],
             [
              0.1111111111111111,
              "#46039f"
             ],
             [
              0.2222222222222222,
              "#7201a8"
             ],
             [
              0.3333333333333333,
              "#9c179e"
             ],
             [
              0.4444444444444444,
              "#bd3786"
             ],
             [
              0.5555555555555556,
              "#d8576b"
             ],
             [
              0.6666666666666666,
              "#ed7953"
             ],
             [
              0.7777777777777778,
              "#fb9f3a"
             ],
             [
              0.8888888888888888,
              "#fdca26"
             ],
             [
              1,
              "#f0f921"
             ]
            ],
            "type": "heatmapgl"
           }
          ],
          "histogram": [
           {
            "marker": {
             "colorbar": {
              "outlinewidth": 0,
              "ticks": ""
             }
            },
            "type": "histogram"
           }
          ],
          "histogram2d": [
           {
            "colorbar": {
             "outlinewidth": 0,
             "ticks": ""
            },
            "colorscale": [
             [
              0,
              "#0d0887"
             ],
             [
              0.1111111111111111,
              "#46039f"
             ],
             [
              0.2222222222222222,
              "#7201a8"
             ],
             [
              0.3333333333333333,
              "#9c179e"
             ],
             [
              0.4444444444444444,
              "#bd3786"
             ],
             [
              0.5555555555555556,
              "#d8576b"
             ],
             [
              0.6666666666666666,
              "#ed7953"
             ],
             [
              0.7777777777777778,
              "#fb9f3a"
             ],
             [
              0.8888888888888888,
              "#fdca26"
             ],
             [
              1,
              "#f0f921"
             ]
            ],
            "type": "histogram2d"
           }
          ],
          "histogram2dcontour": [
           {
            "colorbar": {
             "outlinewidth": 0,
             "ticks": ""
            },
            "colorscale": [
             [
              0,
              "#0d0887"
             ],
             [
              0.1111111111111111,
              "#46039f"
             ],
             [
              0.2222222222222222,
              "#7201a8"
             ],
             [
              0.3333333333333333,
              "#9c179e"
             ],
             [
              0.4444444444444444,
              "#bd3786"
             ],
             [
              0.5555555555555556,
              "#d8576b"
             ],
             [
              0.6666666666666666,
              "#ed7953"
             ],
             [
              0.7777777777777778,
              "#fb9f3a"
             ],
             [
              0.8888888888888888,
              "#fdca26"
             ],
             [
              1,
              "#f0f921"
             ]
            ],
            "type": "histogram2dcontour"
           }
          ],
          "mesh3d": [
           {
            "colorbar": {
             "outlinewidth": 0,
             "ticks": ""
            },
            "type": "mesh3d"
           }
          ],
          "parcoords": [
           {
            "line": {
             "colorbar": {
              "outlinewidth": 0,
              "ticks": ""
             }
            },
            "type": "parcoords"
           }
          ],
          "scatter": [
           {
            "marker": {
             "colorbar": {
              "outlinewidth": 0,
              "ticks": ""
             }
            },
            "type": "scatter"
           }
          ],
          "scatter3d": [
           {
            "line": {
             "colorbar": {
              "outlinewidth": 0,
              "ticks": ""
             }
            },
            "marker": {
             "colorbar": {
              "outlinewidth": 0,
              "ticks": ""
             }
            },
            "type": "scatter3d"
           }
          ],
          "scattercarpet": [
           {
            "marker": {
             "colorbar": {
              "outlinewidth": 0,
              "ticks": ""
             }
            },
            "type": "scattercarpet"
           }
          ],
          "scattergeo": [
           {
            "marker": {
             "colorbar": {
              "outlinewidth": 0,
              "ticks": ""
             }
            },
            "type": "scattergeo"
           }
          ],
          "scattergl": [
           {
            "marker": {
             "colorbar": {
              "outlinewidth": 0,
              "ticks": ""
             }
            },
            "type": "scattergl"
           }
          ],
          "scattermapbox": [
           {
            "marker": {
             "colorbar": {
              "outlinewidth": 0,
              "ticks": ""
             }
            },
            "type": "scattermapbox"
           }
          ],
          "scatterpolar": [
           {
            "marker": {
             "colorbar": {
              "outlinewidth": 0,
              "ticks": ""
             }
            },
            "type": "scatterpolar"
           }
          ],
          "scatterpolargl": [
           {
            "marker": {
             "colorbar": {
              "outlinewidth": 0,
              "ticks": ""
             }
            },
            "type": "scatterpolargl"
           }
          ],
          "scatterternary": [
           {
            "marker": {
             "colorbar": {
              "outlinewidth": 0,
              "ticks": ""
             }
            },
            "type": "scatterternary"
           }
          ],
          "surface": [
           {
            "colorbar": {
             "outlinewidth": 0,
             "ticks": ""
            },
            "colorscale": [
             [
              0,
              "#0d0887"
             ],
             [
              0.1111111111111111,
              "#46039f"
             ],
             [
              0.2222222222222222,
              "#7201a8"
             ],
             [
              0.3333333333333333,
              "#9c179e"
             ],
             [
              0.4444444444444444,
              "#bd3786"
             ],
             [
              0.5555555555555556,
              "#d8576b"
             ],
             [
              0.6666666666666666,
              "#ed7953"
             ],
             [
              0.7777777777777778,
              "#fb9f3a"
             ],
             [
              0.8888888888888888,
              "#fdca26"
             ],
             [
              1,
              "#f0f921"
             ]
            ],
            "type": "surface"
           }
          ],
          "table": [
           {
            "cells": {
             "fill": {
              "color": "#EBF0F8"
             },
             "line": {
              "color": "white"
             }
            },
            "header": {
             "fill": {
              "color": "#C8D4E3"
             },
             "line": {
              "color": "white"
             }
            },
            "type": "table"
           }
          ]
         },
         "layout": {
          "annotationdefaults": {
           "arrowcolor": "#2a3f5f",
           "arrowhead": 0,
           "arrowwidth": 1
          },
          "colorscale": {
           "diverging": [
            [
             0,
             "#8e0152"
            ],
            [
             0.1,
             "#c51b7d"
            ],
            [
             0.2,
             "#de77ae"
            ],
            [
             0.3,
             "#f1b6da"
            ],
            [
             0.4,
             "#fde0ef"
            ],
            [
             0.5,
             "#f7f7f7"
            ],
            [
             0.6,
             "#e6f5d0"
            ],
            [
             0.7,
             "#b8e186"
            ],
            [
             0.8,
             "#7fbc41"
            ],
            [
             0.9,
             "#4d9221"
            ],
            [
             1,
             "#276419"
            ]
           ],
           "sequential": [
            [
             0,
             "#0d0887"
            ],
            [
             0.1111111111111111,
             "#46039f"
            ],
            [
             0.2222222222222222,
             "#7201a8"
            ],
            [
             0.3333333333333333,
             "#9c179e"
            ],
            [
             0.4444444444444444,
             "#bd3786"
            ],
            [
             0.5555555555555556,
             "#d8576b"
            ],
            [
             0.6666666666666666,
             "#ed7953"
            ],
            [
             0.7777777777777778,
             "#fb9f3a"
            ],
            [
             0.8888888888888888,
             "#fdca26"
            ],
            [
             1,
             "#f0f921"
            ]
           ],
           "sequentialminus": [
            [
             0,
             "#0d0887"
            ],
            [
             0.1111111111111111,
             "#46039f"
            ],
            [
             0.2222222222222222,
             "#7201a8"
            ],
            [
             0.3333333333333333,
             "#9c179e"
            ],
            [
             0.4444444444444444,
             "#bd3786"
            ],
            [
             0.5555555555555556,
             "#d8576b"
            ],
            [
             0.6666666666666666,
             "#ed7953"
            ],
            [
             0.7777777777777778,
             "#fb9f3a"
            ],
            [
             0.8888888888888888,
             "#fdca26"
            ],
            [
             1,
             "#f0f921"
            ]
           ]
          },
          "colorway": [
           "#636efa",
           "#EF553B",
           "#00cc96",
           "#ab63fa",
           "#FFA15A",
           "#19d3f3",
           "#FF6692",
           "#B6E880",
           "#FF97FF",
           "#FECB52"
          ],
          "font": {
           "color": "#2a3f5f"
          },
          "geo": {
           "bgcolor": "white",
           "lakecolor": "white",
           "landcolor": "#E5ECF6",
           "showlakes": true,
           "showland": true,
           "subunitcolor": "white"
          },
          "hoverlabel": {
           "align": "left"
          },
          "hovermode": "closest",
          "mapbox": {
           "style": "light"
          },
          "paper_bgcolor": "white",
          "plot_bgcolor": "#E5ECF6",
          "polar": {
           "angularaxis": {
            "gridcolor": "white",
            "linecolor": "white",
            "ticks": ""
           },
           "bgcolor": "#E5ECF6",
           "radialaxis": {
            "gridcolor": "white",
            "linecolor": "white",
            "ticks": ""
           }
          },
          "scene": {
           "xaxis": {
            "backgroundcolor": "#E5ECF6",
            "gridcolor": "white",
            "gridwidth": 2,
            "linecolor": "white",
            "showbackground": true,
            "ticks": "",
            "zerolinecolor": "white"
           },
           "yaxis": {
            "backgroundcolor": "#E5ECF6",
            "gridcolor": "white",
            "gridwidth": 2,
            "linecolor": "white",
            "showbackground": true,
            "ticks": "",
            "zerolinecolor": "white"
           },
           "zaxis": {
            "backgroundcolor": "#E5ECF6",
            "gridcolor": "white",
            "gridwidth": 2,
            "linecolor": "white",
            "showbackground": true,
            "ticks": "",
            "zerolinecolor": "white"
           }
          },
          "shapedefaults": {
           "line": {
            "color": "#2a3f5f"
           }
          },
          "ternary": {
           "aaxis": {
            "gridcolor": "white",
            "linecolor": "white",
            "ticks": ""
           },
           "baxis": {
            "gridcolor": "white",
            "linecolor": "white",
            "ticks": ""
           },
           "bgcolor": "#E5ECF6",
           "caxis": {
            "gridcolor": "white",
            "linecolor": "white",
            "ticks": ""
           }
          },
          "title": {
           "x": 0.05
          },
          "xaxis": {
           "automargin": true,
           "gridcolor": "white",
           "linecolor": "white",
           "ticks": "",
           "zerolinecolor": "white",
           "zerolinewidth": 2
          },
          "yaxis": {
           "automargin": true,
           "gridcolor": "white",
           "linecolor": "white",
           "ticks": "",
           "zerolinecolor": "white",
           "zerolinewidth": 2
          }
         }
        },
        "title": {
         "text": "Sentiment per Section",
         "x": 0.5
        },
        "xaxis": {
         "linecolor": "rgb(204, 204, 204)",
         "linewidth": 2,
         "rangeslider": {
          "visible": true
         },
         "showgrid": false,
         "showline": true,
         "showticklabels": true,
         "tickangle": -45,
         "tickfont": {
          "color": "rgb(82, 82, 82)",
          "family": "Arial",
          "size": 12
         },
         "ticks": "outside",
         "ticktext": [
          "1",
          "6",
          "11",
          "16",
          "21",
          "26",
          "31",
          "2",
          "7",
          "12",
          "17",
          "22",
          "27",
          "32",
          "4",
          "9",
          "14",
          "19",
          "24",
          "29"
         ],
         "tickvals": [
          1,
          6.050505050505051,
          11.101010101010102,
          16.151515151515152,
          21.202020202020204,
          26.252525252525253,
          31.303030303030305,
          36.35353535353536,
          41.40404040404041,
          46.45454545454546,
          51.505050505050505,
          56.55555555555556,
          61.60606060606061,
          66.65656565656566,
          71.70707070707071,
          76.75757575757576,
          81.80808080808082,
          86.85858585858587,
          91.90909090909092,
          96.95959595959597
         ],
         "title": {
          "text": "Canto"
         }
        },
        "yaxis": {
         "range": [
          -0.7,
          0.7
         ],
         "showgrid": false
        }
       }
      },
      "text/html": [
       "<div>\n",
       "        \n",
       "        \n",
       "            <div id=\"4bba1bcf-cf76-4377-bacd-efc878e94a3a\" class=\"plotly-graph-div\" style=\"height:525px; width:100%;\"></div>\n",
       "            <script type=\"text/javascript\">\n",
       "                require([\"plotly\"], function(Plotly) {\n",
       "                    window.PLOTLYENV=window.PLOTLYENV || {};\n",
       "                    \n",
       "                if (document.getElementById(\"4bba1bcf-cf76-4377-bacd-efc878e94a3a\")) {\n",
       "                    Plotly.newPlot(\n",
       "                        '4bba1bcf-cf76-4377-bacd-efc878e94a3a',\n",
       "                        [{\"hoverinfo\": \"text\", \"hovertext\": [\"Inferno: <br>Canto #1\", \"Inferno: <br>Canto #2\", \"Inferno: <br>Canto #3\", \"Inferno: <br>Canto #4\", \"Inferno: <br>Canto #5\", \"Inferno: <br>Canto #6\", \"Inferno: <br>Canto #7\", \"Inferno: <br>Canto #8\", \"Inferno: <br>Canto #9\", \"Inferno: <br>Canto #10\", \"Inferno: <br>Canto #11\", \"Inferno: <br>Canto #12\", \"Inferno: <br>Canto #13\", \"Inferno: <br>Canto #14\", \"Inferno: <br>Canto #15\", \"Inferno: <br>Canto #16\", \"Inferno: <br>Canto #17\", \"Inferno: <br>Canto #18\", \"Inferno: <br>Canto #19\", \"Inferno: <br>Canto #20\", \"Inferno: <br>Canto #21\", \"Inferno: <br>Canto #22\", \"Inferno: <br>Canto #23\", \"Inferno: <br>Canto #24\", \"Inferno: <br>Canto #25\", \"Inferno: <br>Canto #26\", \"Inferno: <br>Canto #27\", \"Inferno: <br>Canto #28\", \"Inferno: <br>Canto #29\", \"Inferno: <br>Canto #30\", \"Inferno: <br>Canto #31\", \"Inferno: <br>Canto #32\", \"Inferno: <br>Canto #33\", \"Inferno: <br>Canto #34\"], \"line\": {\"color\": \"rgb(61, 43, 86)\", \"width\": 4}, \"mode\": \"lines+markers\", \"name\": \"Sentiment Polarity - Inferno\", \"type\": \"scatter\", \"x\": [1.0, 2.0, 3.0, 4.0, 5.0, 6.0, 7.0, 8.0, 9.0, 10.0, 11.0, 12.0, 13.0, 14.0, 15.0, 16.0, 17.0, 18.0, 19.0, 20.0, 21.0, 22.0, 23.0, 24.0, 25.0, 26.0, 27.0, 28.0, 29.0, 30.0, 31.0, 32.0, 33.0, 34.0], \"y\": [0.3729189748583162, 0.24189891430596835, 0.00896265692569813, -0.01547652685026479, -0.0729979419610131, 0.25205980995218924, 0.29857250282410425, 0.10237923167645722, 0.09335664961555, 0.11653324117071133, 0.1371365943206978, 0.2686076278833219, 0.20827771383105315, -0.02677460657791122, -0.059485450015083235, 0.18091686280354227, -0.00522244792136439, 0.0556172745152691, 0.2637751874556344, 0.23432804154419645, 0.0634127206280903, 0.05156057135130258, -0.0910862432430344, 0.032709249666329626, 0.08066771748027284, 0.10949540127712636, -0.2782316032218258, 0.008002172506753075, 0.17046467634797816, 0.13633205169961274, 0.3260844160195921, -0.11297384114899668, 0.07075074068464413, 0.16916591893489166]}, {\"hoverinfo\": \"skip\", \"legendgroup\": \"inferno_derivatives\", \"line\": {\"color\": \"rgb(44, 73, 127)\", \"width\": 1.4}, \"mode\": \"lines\", \"name\": \"First Derivative\", \"type\": \"scatter\", \"x\": [1.0, 2.0, 3.0, 4.0, 5.0, 6.0, 7.0, 8.0, 9.0, 10.0, 11.0, 12.0, 13.0, 14.0, 15.0, 16.0, 17.0, 18.0, 19.0, 20.0, 21.0, 22.0, 23.0, 24.0, 25.0, 26.0, 27.0, 28.0, 29.0, 30.0, 31.0, 32.0, 33.0, 34.0], \"y\": [-0.13102006055234786, -0.2329362573802702, -0.02443918377596292, -0.05752141511074831, 0.32505775191320235, 0.046512692871915014, -0.196193271147647, -0.009022582060907223, 0.02317659155516133, 0.020603353149986472, 0.13147103356262407, -0.06032991405226872, -0.2350523204089644, -0.03271084343717202, 0.2404023128186255, -0.18613931072490664, 0.060839722436633485, 0.2081579129403653, -0.02944714591143793, -0.17091532091610614, -0.01185214927678771, -0.14264681459433698, 0.12379549290936402, 0.04795846781394321, 0.02882768379685353, -0.38772700449895214, 0.28623377572857883, 0.16246250384122507, -0.03413262464836542, 0.18975236431997936, -0.4390582571685888, 0.1837245818336408, 0.09841517825024754, 0.09841517825024754]}, {\"hoverinfo\": \"skip\", \"legendgroup\": \"inferno_derivatives\", \"line\": {\"color\": \"rgb(128, 138, 159)\", \"width\": 1.4}, \"mode\": \"lines\", \"name\": \"Second Derivative\", \"type\": \"scatter\", \"x\": [1.0, 2.0, 3.0, 4.0, 5.0, 6.0, 7.0, 8.0, 9.0, 10.0, 11.0, 12.0, 13.0, 14.0, 15.0, 16.0, 17.0, 18.0, 19.0, 20.0, 21.0, 22.0, 23.0, 24.0, 25.0, 26.0, 27.0, 28.0, 29.0, 30.0, 31.0, 32.0, 33.0, 34.0], \"y\": [-0.10191619682792236, 0.2084970736043073, -0.033082231334785384, 0.3825791670239507, -0.2785450590412873, -0.242705964019562, 0.18717068908673976, 0.032199173616068555, -0.002573238405174857, 0.1108676804126376, -0.1918009476148928, -0.17472240635669564, 0.2023414769717924, 0.2731131562557975, -0.4265416235435322, 0.24697903316154016, 0.1473181905037318, -0.2376050588518032, -0.14146817500466824, 0.15906317163931846, -0.13079466531754927, 0.266442307503701, -0.07583702509542081, -0.019130784017089675, -0.4165546882958057, 0.6739607802275309, -0.12377127188735375, -0.1965951284895905, 0.2238849889683448, -0.6288106214885681, 0.6227828390022296, -0.08530940358339327, 0.0, 0.0]}, {\"hoverinfo\": \"skip\", \"line\": {\"color\": \"firebrick\", \"dash\": \"dash\", \"width\": 1.2}, \"mode\": \"lines\", \"name\": \"Purgatorio Splitter\", \"showlegend\": false, \"type\": \"scatter\", \"x\": [34, 34], \"y\": [-1, 1]}, {\"hoverinfo\": \"text\", \"hovertext\": [\"Purgatorio: <br>Canto #1\", \"Purgatorio: <br>Canto #2\", \"Purgatorio: <br>Canto #3\", \"Purgatorio: <br>Canto #4\", \"Purgatorio: <br>Canto #5\", \"Purgatorio: <br>Canto #6\", \"Purgatorio: <br>Canto #7\", \"Purgatorio: <br>Canto #8\", \"Purgatorio: <br>Canto #9\", \"Purgatorio: <br>Canto #10\", \"Purgatorio: <br>Canto #11\", \"Purgatorio: <br>Canto #12\", \"Purgatorio: <br>Canto #13\", \"Purgatorio: <br>Canto #14\", \"Purgatorio: <br>Canto #15\", \"Purgatorio: <br>Canto #16\", \"Purgatorio: <br>Canto #17\", \"Purgatorio: <br>Canto #18\", \"Purgatorio: <br>Canto #19\", \"Purgatorio: <br>Canto #20\", \"Purgatorio: <br>Canto #21\", \"Purgatorio: <br>Canto #22\", \"Purgatorio: <br>Canto #23\", \"Purgatorio: <br>Canto #24\", \"Purgatorio: <br>Canto #25\", \"Purgatorio: <br>Canto #26\", \"Purgatorio: <br>Canto #27\", \"Purgatorio: <br>Canto #28\", \"Purgatorio: <br>Canto #29\", \"Purgatorio: <br>Canto #30\", \"Purgatorio: <br>Canto #31\", \"Purgatorio: <br>Canto #32\", \"Purgatorio: <br>Canto #33\"], \"line\": {\"color\": \"rgb(61, 43, 86)\", \"width\": 4}, \"mode\": \"lines+markers\", \"name\": \"Sentiment Polarity - Purgatorio\", \"showlegend\": true, \"type\": \"scatter\", \"x\": [34.0, 35.0, 36.0, 37.0, 38.0, 39.0, 40.0, 41.0, 42.0, 43.0, 44.0, 45.0, 46.0, 47.0, 48.0, 49.0, 50.0, 51.0, 52.0, 53.0, 54.0, 55.0, 56.0, 57.0, 58.0, 59.0, 60.0, 61.0, 62.0, 63.0, 64.0, 65.0, 66.0], \"y\": [0.08362076323080192, 0.10687376888809827, 0.12702705757911334, 0.047082458378161336, 0.09413530270755867, 0.11813396264365868, 0.2578559493879767, 0.12710172594968816, 0.17327562911091854, 0.2259066742281595, 0.054826430758252116, 0.22157757967431072, 0.2173696308640572, 0.2660502510637761, 0.18268053428980235, 0.06306906172912274, 0.2228592950033003, 0.19647915870634525, 0.24611606558237165, 0.3015750156580904, 0.3465810277659536, 0.15704458379192265, 0.13245855175704746, 0.14098706886230894, 0.09730520766325652, 0.10688032199229563, 0.15395031734890602, 0.12181492963764876, -0.02265022768676945, 0.12329880719609145, 0.18124934440530252, 0.09626669297273922, 0.17311216351082975]}, {\"hoverinfo\": \"skip\", \"legendgroup\": \"purgatorio_derivatives\", \"line\": {\"color\": \"rgb(44, 73, 127)\", \"width\": 1.4}, \"mode\": \"lines\", \"name\": \"First Derivative\", \"showlegend\": true, \"type\": \"scatter\", \"x\": [34.0, 35.0, 36.0, 37.0, 38.0, 39.0, 40.0, 41.0, 42.0, 43.0, 44.0, 45.0, 46.0, 47.0, 48.0, 49.0, 50.0, 51.0, 52.0, 53.0, 54.0, 55.0, 56.0, 57.0, 58.0, 59.0, 60.0, 61.0, 62.0, 63.0, 64.0, 65.0, 66.0], \"y\": [0.02325300565729635, 0.02015328869101507, -0.07994459920095201, 0.04705284432939733, 0.02399865993610001, 0.13972198674431802, -0.13075422343828852, 0.04617390316123038, 0.05263104511724096, -0.17108024346990738, 0.1667511489160586, -0.00420794881025352, 0.048680620199718916, -0.08336971677397376, -0.1196114725606796, 0.15979023327417755, -0.02638013629695504, 0.0496369068760264, 0.05545895007571877, 0.0450060121078632, -0.18953644397403094, -0.024586032034875197, 0.00852851710526148, -0.043681861199052416, 0.009575114329039113, 0.047069995356610383, -0.03213538771125725, -0.14446515732441825, 0.1459490348828609, 0.0579505372092111, -0.08498265143256332, 0.07684547053809053, 0.07684547053809053]}, {\"hoverinfo\": \"skip\", \"legendgroup\": \"purgatorio_derivatives\", \"line\": {\"color\": \"rgb(128, 138, 159)\", \"width\": 1.4}, \"mode\": \"lines\", \"name\": \"Second Derivative\", \"showlegend\": true, \"type\": \"scatter\", \"x\": [34.0, 35.0, 36.0, 37.0, 38.0, 39.0, 40.0, 41.0, 42.0, 43.0, 44.0, 45.0, 46.0, 47.0, 48.0, 49.0, 50.0, 51.0, 52.0, 53.0, 54.0, 55.0, 56.0, 57.0, 58.0, 59.0, 60.0, 61.0, 62.0, 63.0, 64.0, 65.0, 66.0], \"y\": [-0.00309971696628128, -0.10009788789196708, 0.12699744353034936, -0.023054184393297324, 0.115723326808218, -0.2704762101826065, 0.1769281265995189, 0.006457141956010576, -0.22371128858714834, 0.33783139238596605, -0.17095909772631213, 0.052888569009972436, -0.13205033697369267, -0.036241755786705854, 0.27940170583485713, -0.1861703695711326, 0.07601704317298144, 0.005822043199692373, -0.010452937967855569, -0.23454245608189414, 0.16495041193915574, 0.033114549140136666, -0.052210378304313895, 0.053256975528091534, 0.037494881027571265, -0.07920538306786762, -0.11232976961316098, 0.29041419220727915, -0.0879984976736498, -0.14293318864177446, 0.16182812197065385, 0.0, 0.0]}, {\"hoverinfo\": \"skip\", \"line\": {\"color\": \"firebrick\", \"dash\": \"dash\", \"width\": 1.2}, \"mode\": \"lines\", \"name\": \"Paradiso Splitter\", \"showlegend\": false, \"type\": \"scatter\", \"x\": [67, 67], \"y\": [-1, 1]}, {\"hoverinfo\": \"text\", \"hovertext\": [\"Paradiso: <br>Canto #1\", \"Paradiso: <br>Canto #2\", \"Paradiso: <br>Canto #3\", \"Paradiso: <br>Canto #4\", \"Paradiso: <br>Canto #5\", \"Paradiso: <br>Canto #6\", \"Paradiso: <br>Canto #7\", \"Paradiso: <br>Canto #8\", \"Paradiso: <br>Canto #9\", \"Paradiso: <br>Canto #10\", \"Paradiso: <br>Canto #11\", \"Paradiso: <br>Canto #12\", \"Paradiso: <br>Canto #13\", \"Paradiso: <br>Canto #14\", \"Paradiso: <br>Canto #15\", \"Paradiso: <br>Canto #16\", \"Paradiso: <br>Canto #17\", \"Paradiso: <br>Canto #18\", \"Paradiso: <br>Canto #19\", \"Paradiso: <br>Canto #20\", \"Paradiso: <br>Canto #21\", \"Paradiso: <br>Canto #22\", \"Paradiso: <br>Canto #23\", \"Paradiso: <br>Canto #24\", \"Paradiso: <br>Canto #25\", \"Paradiso: <br>Canto #26\", \"Paradiso: <br>Canto #27\", \"Paradiso: <br>Canto #28\", \"Paradiso: <br>Canto #29\", \"Paradiso: <br>Canto #30\", \"Paradiso: <br>Canto #31\", \"Paradiso: <br>Canto #32\", \"Paradiso: <br>Canto #33\"], \"line\": {\"color\": \"rgb(61, 43, 86)\", \"width\": 4}, \"mode\": \"lines+markers\", \"name\": \"Sentiment Polarity - Paradiso\", \"showlegend\": true, \"type\": \"scatter\", \"x\": [67.0, 68.0, 69.0, 70.0, 71.0, 72.0, 73.0, 74.0, 75.0, 76.0, 77.0, 78.0, 79.0, 80.0, 81.0, 82.0, 83.0, 84.0, 85.0, 86.0, 87.0, 88.0, 89.0, 90.0, 91.0, 92.0, 93.0, 94.0, 95.0, 96.0, 97.0, 98.0, 99.0], \"y\": [0.2308693885603865, 0.15292556617225675, 0.17430649173932594, 0.2353147773529701, 0.10428667411784157, 0.11295581089683895, 0.16717257138337366, 0.2530145395310767, 0.18372159650210207, 0.15964442460397668, 0.07098974105886255, 0.196983365935548, 0.13408588637769253, 0.18872888667561344, 0.06408942369746802, 0.21291418433293013, 0.24234727779901905, 0.20262609143862512, 0.30803086368009497, 0.15379770765035747, 0.1098516365491049, 0.12565863174822056, 0.2267009029039836, 0.15054924734916392, 0.16370314539708808, 0.13065448632771742, 0.2136459205896168, 0.13189884616270067, 0.17835797359716982, 0.09152222751920068, 0.15939799097941448, 0.11292421652303215, 0.1016821187311651]}, {\"hoverinfo\": \"skip\", \"legendgroup\": \"paradiso_derivatives\", \"line\": {\"color\": \"rgb(44, 73, 127)\", \"width\": 1.4}, \"mode\": \"lines\", \"name\": \"First Derivative\", \"showlegend\": true, \"type\": \"scatter\", \"x\": [67.0, 68.0, 69.0, 70.0, 71.0, 72.0, 73.0, 74.0, 75.0, 76.0, 77.0, 78.0, 79.0, 80.0, 81.0, 82.0, 83.0, 84.0, 85.0, 86.0, 87.0, 88.0, 89.0, 90.0, 91.0, 92.0, 93.0, 94.0, 95.0, 96.0, 97.0, 98.0, 99.0], \"y\": [-0.07794382238812975, 0.021380925567069192, 0.061008285613644166, -0.13102810323512853, 0.008669136778997388, 0.054216760486534704, 0.08584196814770306, -0.0692929430289746, -0.024077171898125443, -0.08865468354511412, 0.12599362487668547, -0.06289747955785549, 0.054643000297920914, -0.12463946297814542, 0.14882476063546213, 0.02943309346608891, -0.03972118636039393, 0.10540477224146984, -0.1542331560297375, -0.04394607110125257, 0.01580699519911566, 0.10104227115576304, -0.07615165555481967, 0.013153898047924162, -0.033048659069370656, 0.08299143426189938, -0.08174707442691613, 0.04645912743446914, -0.08683574607796914, 0.0678757634602138, -0.04647377445638233, -0.01124209779186705, -0.01124209779186705]}, {\"hoverinfo\": \"skip\", \"legendgroup\": \"paradiso_derivatives\", \"line\": {\"color\": \"rgb(128, 138, 159)\", \"width\": 1.4}, \"mode\": \"lines\", \"name\": \"Second Derivative\", \"showlegend\": true, \"type\": \"scatter\", \"x\": [67.0, 68.0, 69.0, 70.0, 71.0, 72.0, 73.0, 74.0, 75.0, 76.0, 77.0, 78.0, 79.0, 80.0, 81.0, 82.0, 83.0, 84.0, 85.0, 86.0, 87.0, 88.0, 89.0, 90.0, 91.0, 92.0, 93.0, 94.0, 95.0, 96.0, 97.0, 98.0, 99.0], \"y\": [0.09932474795519894, 0.039627360046574966, -0.1920363888487727, 0.13969724001412592, 0.045547623707537316, 0.031625207661168366, -0.15513491117667766, 0.04521577113084915, -0.06457751164698869, 0.2146483084217996, -0.18889110443454096, 0.1175404798557764, -0.17928246327606634, 0.2734642236136076, -0.11939166716937323, -0.06915427982648284, 0.14512595860186378, -0.2596379282712073, 0.11028708492848494, 0.059753066300368224, 0.08523527595664737, -0.1771939267105827, 0.08930555360274384, -0.04620255711729482, 0.11604009333127002, -0.16473850868881548, 0.12820620186138526, -0.1332948735124383, 0.15471150953818294, -0.11434953791659612, 0.03523167666451528, 0.0, 0.0]}],\n",
       "                        {\"annotations\": [{\"arrowhead\": 7, \"ax\": 0, \"ay\": -40, \"font\": {\"color\": \"black\", \"size\": 14}, \"showarrow\": false, \"text\": \"Inferno\", \"x\": 5, \"xref\": \"x\", \"y\": 0.55, \"yref\": \"y\"}, {\"arrowhead\": 7, \"ax\": 0, \"ay\": -40, \"font\": {\"color\": \"black\", \"size\": 14}, \"showarrow\": false, \"text\": \"Purgatorio\", \"x\": 42, \"xref\": \"x\", \"y\": 0.55, \"yref\": \"y\"}, {\"arrowhead\": 7, \"ax\": 0, \"ay\": -40, \"font\": {\"color\": \"black\", \"size\": 14}, \"showarrow\": false, \"text\": \"Paradiso\", \"x\": 74.0, \"xref\": \"x\", \"y\": 0.55, \"yref\": \"y\"}], \"plot_bgcolor\": \"white\", \"showlegend\": true, \"template\": {\"data\": {\"bar\": [{\"error_x\": {\"color\": \"#2a3f5f\"}, \"error_y\": {\"color\": \"#2a3f5f\"}, \"marker\": {\"line\": {\"color\": \"#E5ECF6\", \"width\": 0.5}}, \"type\": \"bar\"}], \"barpolar\": [{\"marker\": {\"line\": {\"color\": \"#E5ECF6\", \"width\": 0.5}}, \"type\": \"barpolar\"}], \"carpet\": [{\"aaxis\": {\"endlinecolor\": \"#2a3f5f\", \"gridcolor\": \"white\", \"linecolor\": \"white\", \"minorgridcolor\": \"white\", \"startlinecolor\": \"#2a3f5f\"}, \"baxis\": {\"endlinecolor\": \"#2a3f5f\", \"gridcolor\": \"white\", \"linecolor\": \"white\", \"minorgridcolor\": \"white\", \"startlinecolor\": \"#2a3f5f\"}, \"type\": \"carpet\"}], \"choropleth\": [{\"colorbar\": {\"outlinewidth\": 0, \"ticks\": \"\"}, \"type\": \"choropleth\"}], \"contour\": [{\"colorbar\": {\"outlinewidth\": 0, \"ticks\": \"\"}, \"colorscale\": [[0.0, \"#0d0887\"], [0.1111111111111111, \"#46039f\"], [0.2222222222222222, \"#7201a8\"], [0.3333333333333333, \"#9c179e\"], [0.4444444444444444, \"#bd3786\"], [0.5555555555555556, \"#d8576b\"], [0.6666666666666666, \"#ed7953\"], [0.7777777777777778, \"#fb9f3a\"], [0.8888888888888888, \"#fdca26\"], [1.0, \"#f0f921\"]], \"type\": \"contour\"}], \"contourcarpet\": [{\"colorbar\": {\"outlinewidth\": 0, \"ticks\": \"\"}, \"type\": \"contourcarpet\"}], \"heatmap\": [{\"colorbar\": {\"outlinewidth\": 0, \"ticks\": \"\"}, \"colorscale\": [[0.0, \"#0d0887\"], [0.1111111111111111, \"#46039f\"], [0.2222222222222222, \"#7201a8\"], [0.3333333333333333, \"#9c179e\"], [0.4444444444444444, \"#bd3786\"], [0.5555555555555556, \"#d8576b\"], [0.6666666666666666, \"#ed7953\"], [0.7777777777777778, \"#fb9f3a\"], [0.8888888888888888, \"#fdca26\"], [1.0, \"#f0f921\"]], \"type\": \"heatmap\"}], \"heatmapgl\": [{\"colorbar\": {\"outlinewidth\": 0, \"ticks\": \"\"}, \"colorscale\": [[0.0, \"#0d0887\"], [0.1111111111111111, \"#46039f\"], [0.2222222222222222, \"#7201a8\"], [0.3333333333333333, \"#9c179e\"], [0.4444444444444444, \"#bd3786\"], [0.5555555555555556, \"#d8576b\"], [0.6666666666666666, \"#ed7953\"], [0.7777777777777778, \"#fb9f3a\"], [0.8888888888888888, \"#fdca26\"], [1.0, \"#f0f921\"]], \"type\": \"heatmapgl\"}], \"histogram\": [{\"marker\": {\"colorbar\": {\"outlinewidth\": 0, \"ticks\": \"\"}}, \"type\": \"histogram\"}], \"histogram2d\": [{\"colorbar\": {\"outlinewidth\": 0, \"ticks\": \"\"}, \"colorscale\": [[0.0, \"#0d0887\"], [0.1111111111111111, \"#46039f\"], [0.2222222222222222, \"#7201a8\"], [0.3333333333333333, \"#9c179e\"], [0.4444444444444444, \"#bd3786\"], [0.5555555555555556, \"#d8576b\"], [0.6666666666666666, \"#ed7953\"], [0.7777777777777778, \"#fb9f3a\"], [0.8888888888888888, \"#fdca26\"], [1.0, \"#f0f921\"]], \"type\": \"histogram2d\"}], \"histogram2dcontour\": [{\"colorbar\": {\"outlinewidth\": 0, \"ticks\": \"\"}, \"colorscale\": [[0.0, \"#0d0887\"], [0.1111111111111111, \"#46039f\"], [0.2222222222222222, \"#7201a8\"], [0.3333333333333333, \"#9c179e\"], [0.4444444444444444, \"#bd3786\"], [0.5555555555555556, \"#d8576b\"], [0.6666666666666666, \"#ed7953\"], [0.7777777777777778, \"#fb9f3a\"], [0.8888888888888888, \"#fdca26\"], [1.0, \"#f0f921\"]], \"type\": \"histogram2dcontour\"}], \"mesh3d\": [{\"colorbar\": {\"outlinewidth\": 0, \"ticks\": \"\"}, \"type\": \"mesh3d\"}], \"parcoords\": [{\"line\": {\"colorbar\": {\"outlinewidth\": 0, \"ticks\": \"\"}}, \"type\": \"parcoords\"}], \"scatter\": [{\"marker\": {\"colorbar\": {\"outlinewidth\": 0, \"ticks\": \"\"}}, \"type\": \"scatter\"}], \"scatter3d\": [{\"line\": {\"colorbar\": {\"outlinewidth\": 0, \"ticks\": \"\"}}, \"marker\": {\"colorbar\": {\"outlinewidth\": 0, \"ticks\": \"\"}}, \"type\": \"scatter3d\"}], \"scattercarpet\": [{\"marker\": {\"colorbar\": {\"outlinewidth\": 0, \"ticks\": \"\"}}, \"type\": \"scattercarpet\"}], \"scattergeo\": [{\"marker\": {\"colorbar\": {\"outlinewidth\": 0, \"ticks\": \"\"}}, \"type\": \"scattergeo\"}], \"scattergl\": [{\"marker\": {\"colorbar\": {\"outlinewidth\": 0, \"ticks\": \"\"}}, \"type\": \"scattergl\"}], \"scattermapbox\": [{\"marker\": {\"colorbar\": {\"outlinewidth\": 0, \"ticks\": \"\"}}, \"type\": \"scattermapbox\"}], \"scatterpolar\": [{\"marker\": {\"colorbar\": {\"outlinewidth\": 0, \"ticks\": \"\"}}, \"type\": \"scatterpolar\"}], \"scatterpolargl\": [{\"marker\": {\"colorbar\": {\"outlinewidth\": 0, \"ticks\": \"\"}}, \"type\": \"scatterpolargl\"}], \"scatterternary\": [{\"marker\": {\"colorbar\": {\"outlinewidth\": 0, \"ticks\": \"\"}}, \"type\": \"scatterternary\"}], \"surface\": [{\"colorbar\": {\"outlinewidth\": 0, \"ticks\": \"\"}, \"colorscale\": [[0.0, \"#0d0887\"], [0.1111111111111111, \"#46039f\"], [0.2222222222222222, \"#7201a8\"], [0.3333333333333333, \"#9c179e\"], [0.4444444444444444, \"#bd3786\"], [0.5555555555555556, \"#d8576b\"], [0.6666666666666666, \"#ed7953\"], [0.7777777777777778, \"#fb9f3a\"], [0.8888888888888888, \"#fdca26\"], [1.0, \"#f0f921\"]], \"type\": \"surface\"}], \"table\": [{\"cells\": {\"fill\": {\"color\": \"#EBF0F8\"}, \"line\": {\"color\": \"white\"}}, \"header\": {\"fill\": {\"color\": \"#C8D4E3\"}, \"line\": {\"color\": \"white\"}}, \"type\": \"table\"}]}, \"layout\": {\"annotationdefaults\": {\"arrowcolor\": \"#2a3f5f\", \"arrowhead\": 0, \"arrowwidth\": 1}, \"colorscale\": {\"diverging\": [[0, \"#8e0152\"], [0.1, \"#c51b7d\"], [0.2, \"#de77ae\"], [0.3, \"#f1b6da\"], [0.4, \"#fde0ef\"], [0.5, \"#f7f7f7\"], [0.6, \"#e6f5d0\"], [0.7, \"#b8e186\"], [0.8, \"#7fbc41\"], [0.9, \"#4d9221\"], [1, \"#276419\"]], \"sequential\": [[0.0, \"#0d0887\"], [0.1111111111111111, \"#46039f\"], [0.2222222222222222, \"#7201a8\"], [0.3333333333333333, \"#9c179e\"], [0.4444444444444444, \"#bd3786\"], [0.5555555555555556, \"#d8576b\"], [0.6666666666666666, \"#ed7953\"], [0.7777777777777778, \"#fb9f3a\"], [0.8888888888888888, \"#fdca26\"], [1.0, \"#f0f921\"]], \"sequentialminus\": [[0.0, \"#0d0887\"], [0.1111111111111111, \"#46039f\"], [0.2222222222222222, \"#7201a8\"], [0.3333333333333333, \"#9c179e\"], [0.4444444444444444, \"#bd3786\"], [0.5555555555555556, \"#d8576b\"], [0.6666666666666666, \"#ed7953\"], [0.7777777777777778, \"#fb9f3a\"], [0.8888888888888888, \"#fdca26\"], [1.0, \"#f0f921\"]]}, \"colorway\": [\"#636efa\", \"#EF553B\", \"#00cc96\", \"#ab63fa\", \"#FFA15A\", \"#19d3f3\", \"#FF6692\", \"#B6E880\", \"#FF97FF\", \"#FECB52\"], \"font\": {\"color\": \"#2a3f5f\"}, \"geo\": {\"bgcolor\": \"white\", \"lakecolor\": \"white\", \"landcolor\": \"#E5ECF6\", \"showlakes\": true, \"showland\": true, \"subunitcolor\": \"white\"}, \"hoverlabel\": {\"align\": \"left\"}, \"hovermode\": \"closest\", \"mapbox\": {\"style\": \"light\"}, \"paper_bgcolor\": \"white\", \"plot_bgcolor\": \"#E5ECF6\", \"polar\": {\"angularaxis\": {\"gridcolor\": \"white\", \"linecolor\": \"white\", \"ticks\": \"\"}, \"bgcolor\": \"#E5ECF6\", \"radialaxis\": {\"gridcolor\": \"white\", \"linecolor\": \"white\", \"ticks\": \"\"}}, \"scene\": {\"xaxis\": {\"backgroundcolor\": \"#E5ECF6\", \"gridcolor\": \"white\", \"gridwidth\": 2, \"linecolor\": \"white\", \"showbackground\": true, \"ticks\": \"\", \"zerolinecolor\": \"white\"}, \"yaxis\": {\"backgroundcolor\": \"#E5ECF6\", \"gridcolor\": \"white\", \"gridwidth\": 2, \"linecolor\": \"white\", \"showbackground\": true, \"ticks\": \"\", \"zerolinecolor\": \"white\"}, \"zaxis\": {\"backgroundcolor\": \"#E5ECF6\", \"gridcolor\": \"white\", \"gridwidth\": 2, \"linecolor\": \"white\", \"showbackground\": true, \"ticks\": \"\", \"zerolinecolor\": \"white\"}}, \"shapedefaults\": {\"line\": {\"color\": \"#2a3f5f\"}}, \"ternary\": {\"aaxis\": {\"gridcolor\": \"white\", \"linecolor\": \"white\", \"ticks\": \"\"}, \"baxis\": {\"gridcolor\": \"white\", \"linecolor\": \"white\", \"ticks\": \"\"}, \"bgcolor\": \"#E5ECF6\", \"caxis\": {\"gridcolor\": \"white\", \"linecolor\": \"white\", \"ticks\": \"\"}}, \"title\": {\"x\": 0.05}, \"xaxis\": {\"automargin\": true, \"gridcolor\": \"white\", \"linecolor\": \"white\", \"ticks\": \"\", \"zerolinecolor\": \"white\", \"zerolinewidth\": 2}, \"yaxis\": {\"automargin\": true, \"gridcolor\": \"white\", \"linecolor\": \"white\", \"ticks\": \"\", \"zerolinecolor\": \"white\", \"zerolinewidth\": 2}}}, \"title\": {\"text\": \"Sentiment per Section\", \"x\": 0.5}, \"xaxis\": {\"linecolor\": \"rgb(204, 204, 204)\", \"linewidth\": 2, \"rangeslider\": {\"visible\": true}, \"showgrid\": false, \"showline\": true, \"showticklabels\": true, \"tickangle\": -45, \"tickfont\": {\"color\": \"rgb(82, 82, 82)\", \"family\": \"Arial\", \"size\": 12}, \"ticks\": \"outside\", \"ticktext\": [\"1\", \"6\", \"11\", \"16\", \"21\", \"26\", \"31\", \"2\", \"7\", \"12\", \"17\", \"22\", \"27\", \"32\", \"4\", \"9\", \"14\", \"19\", \"24\", \"29\"], \"tickvals\": [1.0, 6.050505050505051, 11.101010101010102, 16.151515151515152, 21.202020202020204, 26.252525252525253, 31.303030303030305, 36.35353535353536, 41.40404040404041, 46.45454545454546, 51.505050505050505, 56.55555555555556, 61.60606060606061, 66.65656565656566, 71.70707070707071, 76.75757575757576, 81.80808080808082, 86.85858585858587, 91.90909090909092, 96.95959595959597], \"title\": {\"text\": \"Canto\"}}, \"yaxis\": {\"range\": [-0.7, 0.7], \"showgrid\": false}},\n",
       "                        {\"responsive\": true}\n",
       "                    ).then(function(){\n",
       "                            \n",
       "var gd = document.getElementById('4bba1bcf-cf76-4377-bacd-efc878e94a3a');\n",
       "var x = new MutationObserver(function (mutations, observer) {{\n",
       "        var display = window.getComputedStyle(gd).display;\n",
       "        if (!display || display === 'none') {{\n",
       "            console.log([gd, 'removed!']);\n",
       "            Plotly.purge(gd);\n",
       "            observer.disconnect();\n",
       "        }}\n",
       "}});\n",
       "\n",
       "// Listen for the removal of the full notebook cells\n",
       "var notebookContainer = gd.closest('#notebook-container');\n",
       "if (notebookContainer) {{\n",
       "    x.observe(notebookContainer, {childList: true});\n",
       "}}\n",
       "\n",
       "// Listen for the clearing of the current output cell\n",
       "var outputEl = gd.closest('.output');\n",
       "if (outputEl) {{\n",
       "    x.observe(outputEl, {childList: true});\n",
       "}}\n",
       "\n",
       "                        })\n",
       "                };\n",
       "                });\n",
       "            </script>\n",
       "        </div>"
      ]
     },
     "metadata": {},
     "output_type": "display_data"
    }
   ],
   "source": [
    "# Create traces\n",
    "\n",
    "sentiment_color = 'rgb(61, 43, 86)'\n",
    "first_derivative_color = 'rgb(44, 73, 127)'\n",
    "second_derivative_color = 'rgb(128, 138, 159)'\n",
    "\n",
    "sentiment_width = 4\n",
    "derivative_width = 1.4\n",
    "\n",
    "# HOVER CODE\n",
    "inferno_hover = [\"Inferno: <br>Canto #{}\".format(x) for x in range(1, 35)]\n",
    "purgatorio_hover = [\"Purgatorio: <br>Canto #{}\".format(x) for x in range(1, 34)]\n",
    "paradiso_hover = [\"Paradiso: <br>Canto #{}\".format(x) for x in range(1, 34)]\n",
    "\n",
    "\n",
    "fig = go.Figure()\n",
    "fig.add_trace(\n",
    "    go.Scatter(x=df_inferno['Canto'], y=df_inferno['Sentiment'],\n",
    "                    mode='lines+markers',\n",
    "                    hovertext=inferno_hover,\n",
    "                    hoverinfo=\"text\",\n",
    "                    name='Sentiment Polarity - Inferno',\n",
    "                    line=dict(width=sentiment_width,\n",
    "                             color = sentiment_color))\n",
    ")\n",
    "fig.add_trace(\n",
    "    go.Scatter(x=df_inferno['Canto'], y=df_inferno['FirstDerivative'],\n",
    "                    mode='lines',\n",
    "                    name='First Derivative',\n",
    "                    legendgroup = \"inferno_derivatives\",\n",
    "                    hoverinfo='skip',\n",
    "                    line=dict(width=derivative_width, color = first_derivative_color))\n",
    ")\n",
    "fig.add_trace(\n",
    "    go.Scatter(x=df_inferno['Canto'], y=df_inferno['SecondDerivative'],\n",
    "                    mode='lines', name='Second Derivative',\n",
    "                    hoverinfo='skip',\n",
    "                    legendgroup = \"inferno_derivatives\",\n",
    "                    line=dict(width=derivative_width, color = second_derivative_color))\n",
    ")\n",
    "\n",
    "# start purgatorio\n",
    "fig.add_trace(\n",
    "    go.Scatter(x=[34, 34], y=[-1, 1],\n",
    "                    mode='lines',\n",
    "                    hoverinfo='skip',\n",
    "                    name='Purgatorio Splitter',\n",
    "                    showlegend=False,\n",
    "                    line=dict(color='firebrick', width=1.2,\n",
    "                              dash='dash')\n",
    "    )\n",
    ")\n",
    "\n",
    "fig.add_trace(\n",
    "    go.Scatter(x=[x + 33 for x in df_purgatorio['Canto']], y=df_purgatorio['Sentiment'],\n",
    "                    mode='lines+markers',\n",
    "                    name='Sentiment Polarity - Purgatorio',\n",
    "                    hovertext=purgatorio_hover,\n",
    "                    hoverinfo=\"text\",\n",
    "                    showlegend=True,\n",
    "                    line=dict(width=sentiment_width,\n",
    "                             color = sentiment_color))\n",
    ")\n",
    "fig.add_trace(\n",
    "    go.Scatter(x=[x + 33 for x in df_purgatorio['Canto']], y=df_purgatorio['FirstDerivative'],\n",
    "                    mode='lines',\n",
    "                    hoverinfo='skip',\n",
    "                    name='First Derivative',\n",
    "                    legendgroup = \"purgatorio_derivatives\",\n",
    "                    showlegend=True,\n",
    "                    line=dict(width=derivative_width, color = first_derivative_color))\n",
    ")\n",
    "fig.add_trace(\n",
    "    go.Scatter(x=[x + 33 for x in df_purgatorio['Canto']], y=df_purgatorio['SecondDerivative'],\n",
    "                    mode='lines', name='Second Derivative',\n",
    "                    legendgroup = \"purgatorio_derivatives\",\n",
    "                    showlegend=True,\n",
    "                    hoverinfo='skip',\n",
    "                    line=dict(width=derivative_width, color = second_derivative_color))\n",
    ")\n",
    "\n",
    "# start paradiso\n",
    "fig.add_trace(\n",
    "    go.Scatter(x=[67, 67], y=[-1, 1],\n",
    "                    mode='lines',\n",
    "                    name='Paradiso Splitter',\n",
    "                    showlegend=False,\n",
    "                    hoverinfo='skip',\n",
    "                    line=dict(color='firebrick', width=1.2,\n",
    "                              dash='dash')\n",
    "    )\n",
    ")\n",
    "\n",
    "fig.add_trace(\n",
    "    go.Scatter(x=[x + 66 for x in df_paradiso['Canto']], y=df_paradiso['Sentiment'],\n",
    "                    mode='lines+markers',\n",
    "                    name='Sentiment Polarity - Paradiso',\n",
    "                    hovertext=paradiso_hover,\n",
    "                    hoverinfo=\"text\",\n",
    "                    showlegend=True,\n",
    "                    line=dict(width=sentiment_width,\n",
    "                             color = sentiment_color))\n",
    ")\n",
    "fig.add_trace(\n",
    "    go.Scatter(x=[x + 66 for x in df_paradiso['Canto']], y=df_paradiso['FirstDerivative'],\n",
    "                    mode='lines',\n",
    "                    name='First Derivative',\n",
    "                    hoverinfo='skip',\n",
    "                    legendgroup = \"paradiso_derivatives\",\n",
    "                    showlegend=True,\n",
    "                    line=dict(width=derivative_width, color = first_derivative_color))\n",
    ")\n",
    "fig.add_trace(\n",
    "    go.Scatter(x=[x + 66 for x in df_paradiso['Canto']], y=df_paradiso['SecondDerivative'],\n",
    "                    mode='lines', name='Second Derivative',\n",
    "                    legendgroup = \"paradiso_derivatives\",\n",
    "                    showlegend=True,\n",
    "                    hoverinfo='skip',\n",
    "                    line=dict(width=derivative_width, color = second_derivative_color))\n",
    ")\n",
    "\n",
    "\n",
    "# TICK CODE\n",
    "tickvals_full = np.linspace(1,101,100)\n",
    "tickvals_full = tickvals_full[::5]\n",
    "ticktext_inferno = [\"{}\".format(x) for x in range(1, 35)]\n",
    "ticktext_purgatorio = [\"{}\".format(x) for x in range(1, 34)]\n",
    "ticktext_paradiso = [\"{}\".format(x) for x in range(1, 34)]\n",
    "ticktext_full = ticktext_inferno + ticktext_purgatorio + ticktext_paradiso\n",
    "ticktext_full = ticktext_full[::5]\n",
    "\n",
    "\n",
    "fig.update_layout(\n",
    "    xaxis=dict(\n",
    "        title = \"Canto\",\n",
    "        showline=True,\n",
    "        showgrid=False,\n",
    "        showticklabels=True,\n",
    "        linecolor='rgb(204, 204, 204)',\n",
    "        linewidth=2,\n",
    "        rangeslider=dict(\n",
    "            visible=True\n",
    "        ),\n",
    "        tickangle=-45,\n",
    "        ticks='outside',\n",
    "        tickvals = tickvals_full,\n",
    "        ticktext = ticktext_full,\n",
    "        tickfont=dict(\n",
    "            family='Arial',\n",
    "            size=12,\n",
    "            color='rgb(82, 82, 82)',\n",
    "        ),\n",
    "    ),\n",
    "    yaxis=dict(\n",
    "        showgrid=False,\n",
    "        range = [-0.7,0.7]\n",
    "    ),\n",
    "    showlegend=True,\n",
    "    plot_bgcolor='white',\n",
    "    title = dict(\n",
    "        text = \"Sentiment per Section\",\n",
    "        x = 0.5\n",
    "    ),\n",
    "    annotations=[\n",
    "        go.layout.Annotation(\n",
    "            x=5,\n",
    "            y=0.55,\n",
    "            xref=\"x\",\n",
    "            yref=\"y\",\n",
    "            text=\"Inferno\",\n",
    "            showarrow=False,\n",
    "            arrowhead=7,\n",
    "            ax=0,\n",
    "            ay=-40,\n",
    "            font=dict(\n",
    "                size=14,\n",
    "                color=\"black\"\n",
    "            ),\n",
    "        ),\n",
    "        go.layout.Annotation(\n",
    "            x=42,\n",
    "            y=0.55,\n",
    "            xref=\"x\",\n",
    "            yref=\"y\",\n",
    "            text=\"Purgatorio\",\n",
    "            showarrow=False,\n",
    "            arrowhead=7,\n",
    "            ax=0,\n",
    "            ay=-40,\n",
    "            font=dict(\n",
    "                size=14,\n",
    "                color=\"black\"\n",
    "            )\n",
    "        ),\n",
    "        go.layout.Annotation(\n",
    "            x=74.0,\n",
    "            y=0.55,\n",
    "            xref=\"x\",\n",
    "            yref=\"y\",\n",
    "            text=\"Paradiso\",\n",
    "            showarrow=False,\n",
    "            arrowhead=7,\n",
    "            ax=0,\n",
    "            ay=-40,\n",
    "            font=dict(\n",
    "                size=14,\n",
    "                color=\"black\"\n",
    "            ),\n",
    "        )\n",
    "    ]\n",
    ")\n",
    "\n",
    "fig.show()"
   ]
  },
  {
   "cell_type": "code",
   "execution_count": 115,
   "metadata": {},
   "outputs": [
    {
     "name": "stdout",
     "output_type": "stream",
     "text": [
      "[ 1.  6. 11. 16. 21. 26. 31. 36. 41. 46. 51. 56. 61. 66. 71. 76. 81. 86.\n",
      " 91. 96.]\n"
     ]
    }
   ],
   "source": [
    "# hand selecting relevant tick markers\n",
    "# TICK CODE\n",
    "tickvals_full = np.linspace(1,100,100)\n",
    "tickvals_full = tickvals_full[::5]\n",
    "print(tickvals_full)\n",
    "ticktext_inferno = [\"{}\".format(x) for x in range(1, 35)]\n",
    "ticktext_purgatorio = [\"{}\".format(x) for x in range(1, 34)]\n",
    "ticktext_paradiso = [\"{}\".format(x) for x in range(1, 34)]\n",
    "ticktext_full = ticktext_inferno + ticktext_purgatorio + ticktext_paradiso\n",
    "ticktext_full = ticktext_full[::5]"
   ]
  },
  {
   "cell_type": "code",
   "execution_count": 122,
   "metadata": {},
   "outputs": [],
   "source": [
    "tickvals_full = [1, 5, 10, 15, 20, 25, 30, 34, 39, 44, 49, 54, 59, ]\n",
    "    # 34 is end of inferno, 35 is 1 for purgatorio\n",
    "    # 67 is end of purgatorio, 68 is 1 for paradiso \n",
    "ticktext_full = [\"1\", \"5\", \"10\", \"15\", \"20\", \"25\", \"30\", \"1\", \"5\", \"10\", \"15\", \"20\", \"25\", \"30\", \"1\", \"5\", \"10\", \"15\", \"20\", \"25\", \"30\"]"
   ]
  },
  {
   "cell_type": "code",
   "execution_count": 123,
   "metadata": {},
   "outputs": [
    {
     "name": "stdout",
     "output_type": "stream",
     "text": [
      "24\n",
      "21\n"
     ]
    }
   ],
   "source": [
    "print(len(tickvals_full))\n",
    "print(len(ticktext_full))"
   ]
  },
  {
   "cell_type": "markdown",
   "metadata": {},
   "source": [
    "# Average Sentiment per Section"
   ]
  },
  {
   "cell_type": "code",
   "execution_count": null,
   "metadata": {},
   "outputs": [],
   "source": []
  },
  {
   "cell_type": "code",
   "execution_count": 30,
   "metadata": {},
   "outputs": [],
   "source": [
    "avg_sentiment_inferno = df_inferno['Sentiment'].mean()\n",
    "avg_sentiment_purgatorio = df_purgatorio['Sentiment'].mean()\n",
    "avg_sentiment_paradiso = df_paradiso['Sentiment'].mean()\n",
    "\n",
    "avg_first_inferno = df_inferno['FirstDerivative'].mean()\n",
    "avg_first_purgatorio = df_purgatorio['FirstDerivative'].mean()\n",
    "avg_first_paradiso = df_paradiso['FirstDerivative'].mean()\n",
    "\n",
    "avg_second_inferno = df_inferno['SecondDerivative'].mean()\n",
    "avg_second_purgatorio = df_purgatorio['SecondDerivative'].mean()\n",
    "avg_second_paradiso = df_paradiso['SecondDerivative'].mean()"
   ]
  },
  {
   "cell_type": "code",
   "execution_count": 126,
   "metadata": {},
   "outputs": [
    {
     "data": {
      "application/vnd.plotly.v1+json": {
       "config": {
        "plotlyServerURL": "https://plot.ly"
       },
       "data": [
        {
         "name": "Mean Sentiment",
         "text": [
          "0.100",
          "0.156",
          "0.165"
         ],
         "textposition": "auto",
         "type": "bar",
         "x": [
          "Inferno",
          "Purgatorio",
          "Paradiso"
         ],
         "y": [
          0.09975700762764146,
          0.15581560923185148,
          0.16501068526921023
         ]
        },
        {
         "name": "Mean First Derivative",
         "text": [
          "-0.003",
          "0.005",
          "-0.004"
         ],
         "textposition": "auto",
         "type": "bar",
         "x": [
          "Inferno",
          "Purgatorio",
          "Paradiso"
         ],
         "y": [
          -0.003098172872740501,
          0.00504051123691268,
          -0.004255435382457225
         ]
        },
        {
         "name": "Mean Second Derivative",
         "text": [
          "0.007",
          "0.002",
          "0.002"
         ],
         "textposition": "auto",
         "type": "bar",
         "x": [
          "Inferno",
          "Purgatorio",
          "Paradiso"
         ],
         "y": [
          0.006748095258899867,
          0.0016240140872967959,
          0.002021264381704933
         ]
        }
       ],
       "layout": {
        "barmode": "group",
        "plot_bgcolor": "white",
        "showlegend": true,
        "template": {
         "data": {
          "bar": [
           {
            "error_x": {
             "color": "#2a3f5f"
            },
            "error_y": {
             "color": "#2a3f5f"
            },
            "marker": {
             "line": {
              "color": "#E5ECF6",
              "width": 0.5
             }
            },
            "type": "bar"
           }
          ],
          "barpolar": [
           {
            "marker": {
             "line": {
              "color": "#E5ECF6",
              "width": 0.5
             }
            },
            "type": "barpolar"
           }
          ],
          "carpet": [
           {
            "aaxis": {
             "endlinecolor": "#2a3f5f",
             "gridcolor": "white",
             "linecolor": "white",
             "minorgridcolor": "white",
             "startlinecolor": "#2a3f5f"
            },
            "baxis": {
             "endlinecolor": "#2a3f5f",
             "gridcolor": "white",
             "linecolor": "white",
             "minorgridcolor": "white",
             "startlinecolor": "#2a3f5f"
            },
            "type": "carpet"
           }
          ],
          "choropleth": [
           {
            "colorbar": {
             "outlinewidth": 0,
             "ticks": ""
            },
            "type": "choropleth"
           }
          ],
          "contour": [
           {
            "colorbar": {
             "outlinewidth": 0,
             "ticks": ""
            },
            "colorscale": [
             [
              0,
              "#0d0887"
             ],
             [
              0.1111111111111111,
              "#46039f"
             ],
             [
              0.2222222222222222,
              "#7201a8"
             ],
             [
              0.3333333333333333,
              "#9c179e"
             ],
             [
              0.4444444444444444,
              "#bd3786"
             ],
             [
              0.5555555555555556,
              "#d8576b"
             ],
             [
              0.6666666666666666,
              "#ed7953"
             ],
             [
              0.7777777777777778,
              "#fb9f3a"
             ],
             [
              0.8888888888888888,
              "#fdca26"
             ],
             [
              1,
              "#f0f921"
             ]
            ],
            "type": "contour"
           }
          ],
          "contourcarpet": [
           {
            "colorbar": {
             "outlinewidth": 0,
             "ticks": ""
            },
            "type": "contourcarpet"
           }
          ],
          "heatmap": [
           {
            "colorbar": {
             "outlinewidth": 0,
             "ticks": ""
            },
            "colorscale": [
             [
              0,
              "#0d0887"
             ],
             [
              0.1111111111111111,
              "#46039f"
             ],
             [
              0.2222222222222222,
              "#7201a8"
             ],
             [
              0.3333333333333333,
              "#9c179e"
             ],
             [
              0.4444444444444444,
              "#bd3786"
             ],
             [
              0.5555555555555556,
              "#d8576b"
             ],
             [
              0.6666666666666666,
              "#ed7953"
             ],
             [
              0.7777777777777778,
              "#fb9f3a"
             ],
             [
              0.8888888888888888,
              "#fdca26"
             ],
             [
              1,
              "#f0f921"
             ]
            ],
            "type": "heatmap"
           }
          ],
          "heatmapgl": [
           {
            "colorbar": {
             "outlinewidth": 0,
             "ticks": ""
            },
            "colorscale": [
             [
              0,
              "#0d0887"
             ],
             [
              0.1111111111111111,
              "#46039f"
             ],
             [
              0.2222222222222222,
              "#7201a8"
             ],
             [
              0.3333333333333333,
              "#9c179e"
             ],
             [
              0.4444444444444444,
              "#bd3786"
             ],
             [
              0.5555555555555556,
              "#d8576b"
             ],
             [
              0.6666666666666666,
              "#ed7953"
             ],
             [
              0.7777777777777778,
              "#fb9f3a"
             ],
             [
              0.8888888888888888,
              "#fdca26"
             ],
             [
              1,
              "#f0f921"
             ]
            ],
            "type": "heatmapgl"
           }
          ],
          "histogram": [
           {
            "marker": {
             "colorbar": {
              "outlinewidth": 0,
              "ticks": ""
             }
            },
            "type": "histogram"
           }
          ],
          "histogram2d": [
           {
            "colorbar": {
             "outlinewidth": 0,
             "ticks": ""
            },
            "colorscale": [
             [
              0,
              "#0d0887"
             ],
             [
              0.1111111111111111,
              "#46039f"
             ],
             [
              0.2222222222222222,
              "#7201a8"
             ],
             [
              0.3333333333333333,
              "#9c179e"
             ],
             [
              0.4444444444444444,
              "#bd3786"
             ],
             [
              0.5555555555555556,
              "#d8576b"
             ],
             [
              0.6666666666666666,
              "#ed7953"
             ],
             [
              0.7777777777777778,
              "#fb9f3a"
             ],
             [
              0.8888888888888888,
              "#fdca26"
             ],
             [
              1,
              "#f0f921"
             ]
            ],
            "type": "histogram2d"
           }
          ],
          "histogram2dcontour": [
           {
            "colorbar": {
             "outlinewidth": 0,
             "ticks": ""
            },
            "colorscale": [
             [
              0,
              "#0d0887"
             ],
             [
              0.1111111111111111,
              "#46039f"
             ],
             [
              0.2222222222222222,
              "#7201a8"
             ],
             [
              0.3333333333333333,
              "#9c179e"
             ],
             [
              0.4444444444444444,
              "#bd3786"
             ],
             [
              0.5555555555555556,
              "#d8576b"
             ],
             [
              0.6666666666666666,
              "#ed7953"
             ],
             [
              0.7777777777777778,
              "#fb9f3a"
             ],
             [
              0.8888888888888888,
              "#fdca26"
             ],
             [
              1,
              "#f0f921"
             ]
            ],
            "type": "histogram2dcontour"
           }
          ],
          "mesh3d": [
           {
            "colorbar": {
             "outlinewidth": 0,
             "ticks": ""
            },
            "type": "mesh3d"
           }
          ],
          "parcoords": [
           {
            "line": {
             "colorbar": {
              "outlinewidth": 0,
              "ticks": ""
             }
            },
            "type": "parcoords"
           }
          ],
          "scatter": [
           {
            "marker": {
             "colorbar": {
              "outlinewidth": 0,
              "ticks": ""
             }
            },
            "type": "scatter"
           }
          ],
          "scatter3d": [
           {
            "line": {
             "colorbar": {
              "outlinewidth": 0,
              "ticks": ""
             }
            },
            "marker": {
             "colorbar": {
              "outlinewidth": 0,
              "ticks": ""
             }
            },
            "type": "scatter3d"
           }
          ],
          "scattercarpet": [
           {
            "marker": {
             "colorbar": {
              "outlinewidth": 0,
              "ticks": ""
             }
            },
            "type": "scattercarpet"
           }
          ],
          "scattergeo": [
           {
            "marker": {
             "colorbar": {
              "outlinewidth": 0,
              "ticks": ""
             }
            },
            "type": "scattergeo"
           }
          ],
          "scattergl": [
           {
            "marker": {
             "colorbar": {
              "outlinewidth": 0,
              "ticks": ""
             }
            },
            "type": "scattergl"
           }
          ],
          "scattermapbox": [
           {
            "marker": {
             "colorbar": {
              "outlinewidth": 0,
              "ticks": ""
             }
            },
            "type": "scattermapbox"
           }
          ],
          "scatterpolar": [
           {
            "marker": {
             "colorbar": {
              "outlinewidth": 0,
              "ticks": ""
             }
            },
            "type": "scatterpolar"
           }
          ],
          "scatterpolargl": [
           {
            "marker": {
             "colorbar": {
              "outlinewidth": 0,
              "ticks": ""
             }
            },
            "type": "scatterpolargl"
           }
          ],
          "scatterternary": [
           {
            "marker": {
             "colorbar": {
              "outlinewidth": 0,
              "ticks": ""
             }
            },
            "type": "scatterternary"
           }
          ],
          "surface": [
           {
            "colorbar": {
             "outlinewidth": 0,
             "ticks": ""
            },
            "colorscale": [
             [
              0,
              "#0d0887"
             ],
             [
              0.1111111111111111,
              "#46039f"
             ],
             [
              0.2222222222222222,
              "#7201a8"
             ],
             [
              0.3333333333333333,
              "#9c179e"
             ],
             [
              0.4444444444444444,
              "#bd3786"
             ],
             [
              0.5555555555555556,
              "#d8576b"
             ],
             [
              0.6666666666666666,
              "#ed7953"
             ],
             [
              0.7777777777777778,
              "#fb9f3a"
             ],
             [
              0.8888888888888888,
              "#fdca26"
             ],
             [
              1,
              "#f0f921"
             ]
            ],
            "type": "surface"
           }
          ],
          "table": [
           {
            "cells": {
             "fill": {
              "color": "#EBF0F8"
             },
             "line": {
              "color": "white"
             }
            },
            "header": {
             "fill": {
              "color": "#C8D4E3"
             },
             "line": {
              "color": "white"
             }
            },
            "type": "table"
           }
          ]
         },
         "layout": {
          "annotationdefaults": {
           "arrowcolor": "#2a3f5f",
           "arrowhead": 0,
           "arrowwidth": 1
          },
          "colorscale": {
           "diverging": [
            [
             0,
             "#8e0152"
            ],
            [
             0.1,
             "#c51b7d"
            ],
            [
             0.2,
             "#de77ae"
            ],
            [
             0.3,
             "#f1b6da"
            ],
            [
             0.4,
             "#fde0ef"
            ],
            [
             0.5,
             "#f7f7f7"
            ],
            [
             0.6,
             "#e6f5d0"
            ],
            [
             0.7,
             "#b8e186"
            ],
            [
             0.8,
             "#7fbc41"
            ],
            [
             0.9,
             "#4d9221"
            ],
            [
             1,
             "#276419"
            ]
           ],
           "sequential": [
            [
             0,
             "#0d0887"
            ],
            [
             0.1111111111111111,
             "#46039f"
            ],
            [
             0.2222222222222222,
             "#7201a8"
            ],
            [
             0.3333333333333333,
             "#9c179e"
            ],
            [
             0.4444444444444444,
             "#bd3786"
            ],
            [
             0.5555555555555556,
             "#d8576b"
            ],
            [
             0.6666666666666666,
             "#ed7953"
            ],
            [
             0.7777777777777778,
             "#fb9f3a"
            ],
            [
             0.8888888888888888,
             "#fdca26"
            ],
            [
             1,
             "#f0f921"
            ]
           ],
           "sequentialminus": [
            [
             0,
             "#0d0887"
            ],
            [
             0.1111111111111111,
             "#46039f"
            ],
            [
             0.2222222222222222,
             "#7201a8"
            ],
            [
             0.3333333333333333,
             "#9c179e"
            ],
            [
             0.4444444444444444,
             "#bd3786"
            ],
            [
             0.5555555555555556,
             "#d8576b"
            ],
            [
             0.6666666666666666,
             "#ed7953"
            ],
            [
             0.7777777777777778,
             "#fb9f3a"
            ],
            [
             0.8888888888888888,
             "#fdca26"
            ],
            [
             1,
             "#f0f921"
            ]
           ]
          },
          "colorway": [
           "#636efa",
           "#EF553B",
           "#00cc96",
           "#ab63fa",
           "#FFA15A",
           "#19d3f3",
           "#FF6692",
           "#B6E880",
           "#FF97FF",
           "#FECB52"
          ],
          "font": {
           "color": "#2a3f5f"
          },
          "geo": {
           "bgcolor": "white",
           "lakecolor": "white",
           "landcolor": "#E5ECF6",
           "showlakes": true,
           "showland": true,
           "subunitcolor": "white"
          },
          "hoverlabel": {
           "align": "left"
          },
          "hovermode": "closest",
          "mapbox": {
           "style": "light"
          },
          "paper_bgcolor": "white",
          "plot_bgcolor": "#E5ECF6",
          "polar": {
           "angularaxis": {
            "gridcolor": "white",
            "linecolor": "white",
            "ticks": ""
           },
           "bgcolor": "#E5ECF6",
           "radialaxis": {
            "gridcolor": "white",
            "linecolor": "white",
            "ticks": ""
           }
          },
          "scene": {
           "xaxis": {
            "backgroundcolor": "#E5ECF6",
            "gridcolor": "white",
            "gridwidth": 2,
            "linecolor": "white",
            "showbackground": true,
            "ticks": "",
            "zerolinecolor": "white"
           },
           "yaxis": {
            "backgroundcolor": "#E5ECF6",
            "gridcolor": "white",
            "gridwidth": 2,
            "linecolor": "white",
            "showbackground": true,
            "ticks": "",
            "zerolinecolor": "white"
           },
           "zaxis": {
            "backgroundcolor": "#E5ECF6",
            "gridcolor": "white",
            "gridwidth": 2,
            "linecolor": "white",
            "showbackground": true,
            "ticks": "",
            "zerolinecolor": "white"
           }
          },
          "shapedefaults": {
           "line": {
            "color": "#2a3f5f"
           }
          },
          "ternary": {
           "aaxis": {
            "gridcolor": "white",
            "linecolor": "white",
            "ticks": ""
           },
           "baxis": {
            "gridcolor": "white",
            "linecolor": "white",
            "ticks": ""
           },
           "bgcolor": "#E5ECF6",
           "caxis": {
            "gridcolor": "white",
            "linecolor": "white",
            "ticks": ""
           }
          },
          "title": {
           "x": 0.05
          },
          "xaxis": {
           "automargin": true,
           "gridcolor": "white",
           "linecolor": "white",
           "ticks": "",
           "zerolinecolor": "white",
           "zerolinewidth": 2
          },
          "yaxis": {
           "automargin": true,
           "gridcolor": "white",
           "linecolor": "white",
           "ticks": "",
           "zerolinecolor": "white",
           "zerolinewidth": 2
          }
         }
        },
        "title": {
         "text": "Average Sentiment per Section",
         "x": 0.5
        },
        "xaxis": {
         "tickfont": {
          "color": "rgb(82, 82, 82)",
          "family": "Arial",
          "size": 15
         }
        }
       }
      },
      "text/html": [
       "<div>\n",
       "        \n",
       "        \n",
       "            <div id=\"d420c079-e2b4-43f1-a45a-c50454ec8555\" class=\"plotly-graph-div\" style=\"height:525px; width:100%;\"></div>\n",
       "            <script type=\"text/javascript\">\n",
       "                require([\"plotly\"], function(Plotly) {\n",
       "                    window.PLOTLYENV=window.PLOTLYENV || {};\n",
       "                    \n",
       "                if (document.getElementById(\"d420c079-e2b4-43f1-a45a-c50454ec8555\")) {\n",
       "                    Plotly.newPlot(\n",
       "                        'd420c079-e2b4-43f1-a45a-c50454ec8555',\n",
       "                        [{\"name\": \"Mean Sentiment\", \"text\": [\"0.100\", \"0.156\", \"0.165\"], \"textposition\": \"auto\", \"type\": \"bar\", \"x\": [\"Inferno\", \"Purgatorio\", \"Paradiso\"], \"y\": [0.09975700762764146, 0.15581560923185148, 0.16501068526921023]}, {\"name\": \"Mean First Derivative\", \"text\": [\"-0.003\", \"0.005\", \"-0.004\"], \"textposition\": \"auto\", \"type\": \"bar\", \"x\": [\"Inferno\", \"Purgatorio\", \"Paradiso\"], \"y\": [-0.003098172872740501, 0.00504051123691268, -0.004255435382457225]}, {\"name\": \"Mean Second Derivative\", \"text\": [\"0.007\", \"0.002\", \"0.002\"], \"textposition\": \"auto\", \"type\": \"bar\", \"x\": [\"Inferno\", \"Purgatorio\", \"Paradiso\"], \"y\": [0.006748095258899867, 0.0016240140872967959, 0.002021264381704933]}],\n",
       "                        {\"barmode\": \"group\", \"plot_bgcolor\": \"white\", \"showlegend\": true, \"template\": {\"data\": {\"bar\": [{\"error_x\": {\"color\": \"#2a3f5f\"}, \"error_y\": {\"color\": \"#2a3f5f\"}, \"marker\": {\"line\": {\"color\": \"#E5ECF6\", \"width\": 0.5}}, \"type\": \"bar\"}], \"barpolar\": [{\"marker\": {\"line\": {\"color\": \"#E5ECF6\", \"width\": 0.5}}, \"type\": \"barpolar\"}], \"carpet\": [{\"aaxis\": {\"endlinecolor\": \"#2a3f5f\", \"gridcolor\": \"white\", \"linecolor\": \"white\", \"minorgridcolor\": \"white\", \"startlinecolor\": \"#2a3f5f\"}, \"baxis\": {\"endlinecolor\": \"#2a3f5f\", \"gridcolor\": \"white\", \"linecolor\": \"white\", \"minorgridcolor\": \"white\", \"startlinecolor\": \"#2a3f5f\"}, \"type\": \"carpet\"}], \"choropleth\": [{\"colorbar\": {\"outlinewidth\": 0, \"ticks\": \"\"}, \"type\": \"choropleth\"}], \"contour\": [{\"colorbar\": {\"outlinewidth\": 0, \"ticks\": \"\"}, \"colorscale\": [[0.0, \"#0d0887\"], [0.1111111111111111, \"#46039f\"], [0.2222222222222222, \"#7201a8\"], [0.3333333333333333, \"#9c179e\"], [0.4444444444444444, \"#bd3786\"], [0.5555555555555556, \"#d8576b\"], [0.6666666666666666, \"#ed7953\"], [0.7777777777777778, \"#fb9f3a\"], [0.8888888888888888, \"#fdca26\"], [1.0, \"#f0f921\"]], \"type\": \"contour\"}], \"contourcarpet\": [{\"colorbar\": {\"outlinewidth\": 0, \"ticks\": \"\"}, \"type\": \"contourcarpet\"}], \"heatmap\": [{\"colorbar\": {\"outlinewidth\": 0, \"ticks\": \"\"}, \"colorscale\": [[0.0, \"#0d0887\"], [0.1111111111111111, \"#46039f\"], [0.2222222222222222, \"#7201a8\"], [0.3333333333333333, \"#9c179e\"], [0.4444444444444444, \"#bd3786\"], [0.5555555555555556, \"#d8576b\"], [0.6666666666666666, \"#ed7953\"], [0.7777777777777778, \"#fb9f3a\"], [0.8888888888888888, \"#fdca26\"], [1.0, \"#f0f921\"]], \"type\": \"heatmap\"}], \"heatmapgl\": [{\"colorbar\": {\"outlinewidth\": 0, \"ticks\": \"\"}, \"colorscale\": [[0.0, \"#0d0887\"], [0.1111111111111111, \"#46039f\"], [0.2222222222222222, \"#7201a8\"], [0.3333333333333333, \"#9c179e\"], [0.4444444444444444, \"#bd3786\"], [0.5555555555555556, \"#d8576b\"], [0.6666666666666666, \"#ed7953\"], [0.7777777777777778, \"#fb9f3a\"], [0.8888888888888888, \"#fdca26\"], [1.0, \"#f0f921\"]], \"type\": \"heatmapgl\"}], \"histogram\": [{\"marker\": {\"colorbar\": {\"outlinewidth\": 0, \"ticks\": \"\"}}, \"type\": \"histogram\"}], \"histogram2d\": [{\"colorbar\": {\"outlinewidth\": 0, \"ticks\": \"\"}, \"colorscale\": [[0.0, \"#0d0887\"], [0.1111111111111111, \"#46039f\"], [0.2222222222222222, \"#7201a8\"], [0.3333333333333333, \"#9c179e\"], [0.4444444444444444, \"#bd3786\"], [0.5555555555555556, \"#d8576b\"], [0.6666666666666666, \"#ed7953\"], [0.7777777777777778, \"#fb9f3a\"], [0.8888888888888888, \"#fdca26\"], [1.0, \"#f0f921\"]], \"type\": \"histogram2d\"}], \"histogram2dcontour\": [{\"colorbar\": {\"outlinewidth\": 0, \"ticks\": \"\"}, \"colorscale\": [[0.0, \"#0d0887\"], [0.1111111111111111, \"#46039f\"], [0.2222222222222222, \"#7201a8\"], [0.3333333333333333, \"#9c179e\"], [0.4444444444444444, \"#bd3786\"], [0.5555555555555556, \"#d8576b\"], [0.6666666666666666, \"#ed7953\"], [0.7777777777777778, \"#fb9f3a\"], [0.8888888888888888, \"#fdca26\"], [1.0, \"#f0f921\"]], \"type\": \"histogram2dcontour\"}], \"mesh3d\": [{\"colorbar\": {\"outlinewidth\": 0, \"ticks\": \"\"}, \"type\": \"mesh3d\"}], \"parcoords\": [{\"line\": {\"colorbar\": {\"outlinewidth\": 0, \"ticks\": \"\"}}, \"type\": \"parcoords\"}], \"scatter\": [{\"marker\": {\"colorbar\": {\"outlinewidth\": 0, \"ticks\": \"\"}}, \"type\": \"scatter\"}], \"scatter3d\": [{\"line\": {\"colorbar\": {\"outlinewidth\": 0, \"ticks\": \"\"}}, \"marker\": {\"colorbar\": {\"outlinewidth\": 0, \"ticks\": \"\"}}, \"type\": \"scatter3d\"}], \"scattercarpet\": [{\"marker\": {\"colorbar\": {\"outlinewidth\": 0, \"ticks\": \"\"}}, \"type\": \"scattercarpet\"}], \"scattergeo\": [{\"marker\": {\"colorbar\": {\"outlinewidth\": 0, \"ticks\": \"\"}}, \"type\": \"scattergeo\"}], \"scattergl\": [{\"marker\": {\"colorbar\": {\"outlinewidth\": 0, \"ticks\": \"\"}}, \"type\": \"scattergl\"}], \"scattermapbox\": [{\"marker\": {\"colorbar\": {\"outlinewidth\": 0, \"ticks\": \"\"}}, \"type\": \"scattermapbox\"}], \"scatterpolar\": [{\"marker\": {\"colorbar\": {\"outlinewidth\": 0, \"ticks\": \"\"}}, \"type\": \"scatterpolar\"}], \"scatterpolargl\": [{\"marker\": {\"colorbar\": {\"outlinewidth\": 0, \"ticks\": \"\"}}, \"type\": \"scatterpolargl\"}], \"scatterternary\": [{\"marker\": {\"colorbar\": {\"outlinewidth\": 0, \"ticks\": \"\"}}, \"type\": \"scatterternary\"}], \"surface\": [{\"colorbar\": {\"outlinewidth\": 0, \"ticks\": \"\"}, \"colorscale\": [[0.0, \"#0d0887\"], [0.1111111111111111, \"#46039f\"], [0.2222222222222222, \"#7201a8\"], [0.3333333333333333, \"#9c179e\"], [0.4444444444444444, \"#bd3786\"], [0.5555555555555556, \"#d8576b\"], [0.6666666666666666, \"#ed7953\"], [0.7777777777777778, \"#fb9f3a\"], [0.8888888888888888, \"#fdca26\"], [1.0, \"#f0f921\"]], \"type\": \"surface\"}], \"table\": [{\"cells\": {\"fill\": {\"color\": \"#EBF0F8\"}, \"line\": {\"color\": \"white\"}}, \"header\": {\"fill\": {\"color\": \"#C8D4E3\"}, \"line\": {\"color\": \"white\"}}, \"type\": \"table\"}]}, \"layout\": {\"annotationdefaults\": {\"arrowcolor\": \"#2a3f5f\", \"arrowhead\": 0, \"arrowwidth\": 1}, \"colorscale\": {\"diverging\": [[0, \"#8e0152\"], [0.1, \"#c51b7d\"], [0.2, \"#de77ae\"], [0.3, \"#f1b6da\"], [0.4, \"#fde0ef\"], [0.5, \"#f7f7f7\"], [0.6, \"#e6f5d0\"], [0.7, \"#b8e186\"], [0.8, \"#7fbc41\"], [0.9, \"#4d9221\"], [1, \"#276419\"]], \"sequential\": [[0.0, \"#0d0887\"], [0.1111111111111111, \"#46039f\"], [0.2222222222222222, \"#7201a8\"], [0.3333333333333333, \"#9c179e\"], [0.4444444444444444, \"#bd3786\"], [0.5555555555555556, \"#d8576b\"], [0.6666666666666666, \"#ed7953\"], [0.7777777777777778, \"#fb9f3a\"], [0.8888888888888888, \"#fdca26\"], [1.0, \"#f0f921\"]], \"sequentialminus\": [[0.0, \"#0d0887\"], [0.1111111111111111, \"#46039f\"], [0.2222222222222222, \"#7201a8\"], [0.3333333333333333, \"#9c179e\"], [0.4444444444444444, \"#bd3786\"], [0.5555555555555556, \"#d8576b\"], [0.6666666666666666, \"#ed7953\"], [0.7777777777777778, \"#fb9f3a\"], [0.8888888888888888, \"#fdca26\"], [1.0, \"#f0f921\"]]}, \"colorway\": [\"#636efa\", \"#EF553B\", \"#00cc96\", \"#ab63fa\", \"#FFA15A\", \"#19d3f3\", \"#FF6692\", \"#B6E880\", \"#FF97FF\", \"#FECB52\"], \"font\": {\"color\": \"#2a3f5f\"}, \"geo\": {\"bgcolor\": \"white\", \"lakecolor\": \"white\", \"landcolor\": \"#E5ECF6\", \"showlakes\": true, \"showland\": true, \"subunitcolor\": \"white\"}, \"hoverlabel\": {\"align\": \"left\"}, \"hovermode\": \"closest\", \"mapbox\": {\"style\": \"light\"}, \"paper_bgcolor\": \"white\", \"plot_bgcolor\": \"#E5ECF6\", \"polar\": {\"angularaxis\": {\"gridcolor\": \"white\", \"linecolor\": \"white\", \"ticks\": \"\"}, \"bgcolor\": \"#E5ECF6\", \"radialaxis\": {\"gridcolor\": \"white\", \"linecolor\": \"white\", \"ticks\": \"\"}}, \"scene\": {\"xaxis\": {\"backgroundcolor\": \"#E5ECF6\", \"gridcolor\": \"white\", \"gridwidth\": 2, \"linecolor\": \"white\", \"showbackground\": true, \"ticks\": \"\", \"zerolinecolor\": \"white\"}, \"yaxis\": {\"backgroundcolor\": \"#E5ECF6\", \"gridcolor\": \"white\", \"gridwidth\": 2, \"linecolor\": \"white\", \"showbackground\": true, \"ticks\": \"\", \"zerolinecolor\": \"white\"}, \"zaxis\": {\"backgroundcolor\": \"#E5ECF6\", \"gridcolor\": \"white\", \"gridwidth\": 2, \"linecolor\": \"white\", \"showbackground\": true, \"ticks\": \"\", \"zerolinecolor\": \"white\"}}, \"shapedefaults\": {\"line\": {\"color\": \"#2a3f5f\"}}, \"ternary\": {\"aaxis\": {\"gridcolor\": \"white\", \"linecolor\": \"white\", \"ticks\": \"\"}, \"baxis\": {\"gridcolor\": \"white\", \"linecolor\": \"white\", \"ticks\": \"\"}, \"bgcolor\": \"#E5ECF6\", \"caxis\": {\"gridcolor\": \"white\", \"linecolor\": \"white\", \"ticks\": \"\"}}, \"title\": {\"x\": 0.05}, \"xaxis\": {\"automargin\": true, \"gridcolor\": \"white\", \"linecolor\": \"white\", \"ticks\": \"\", \"zerolinecolor\": \"white\", \"zerolinewidth\": 2}, \"yaxis\": {\"automargin\": true, \"gridcolor\": \"white\", \"linecolor\": \"white\", \"ticks\": \"\", \"zerolinecolor\": \"white\", \"zerolinewidth\": 2}}}, \"title\": {\"text\": \"Average Sentiment per Section\", \"x\": 0.5}, \"xaxis\": {\"tickfont\": {\"color\": \"rgb(82, 82, 82)\", \"family\": \"Arial\", \"size\": 15}}},\n",
       "                        {\"responsive\": true}\n",
       "                    ).then(function(){\n",
       "                            \n",
       "var gd = document.getElementById('d420c079-e2b4-43f1-a45a-c50454ec8555');\n",
       "var x = new MutationObserver(function (mutations, observer) {{\n",
       "        var display = window.getComputedStyle(gd).display;\n",
       "        if (!display || display === 'none') {{\n",
       "            console.log([gd, 'removed!']);\n",
       "            Plotly.purge(gd);\n",
       "            observer.disconnect();\n",
       "        }}\n",
       "}});\n",
       "\n",
       "// Listen for the removal of the full notebook cells\n",
       "var notebookContainer = gd.closest('#notebook-container');\n",
       "if (notebookContainer) {{\n",
       "    x.observe(notebookContainer, {childList: true});\n",
       "}}\n",
       "\n",
       "// Listen for the clearing of the current output cell\n",
       "var outputEl = gd.closest('.output');\n",
       "if (outputEl) {{\n",
       "    x.observe(outputEl, {childList: true});\n",
       "}}\n",
       "\n",
       "                        })\n",
       "                };\n",
       "                });\n",
       "            </script>\n",
       "        </div>"
      ]
     },
     "metadata": {},
     "output_type": "display_data"
    }
   ],
   "source": [
    "sections = ['Inferno', 'Purgatorio', 'Paradiso']\n",
    "mean_sent = [avg_sentiment_inferno, avg_sentiment_purgatorio, avg_sentiment_paradiso]\n",
    "mean_first_deriv = [avg_first_inferno, avg_first_purgatorio, avg_first_paradiso]\n",
    "mean_second_deriv = [avg_second_inferno, avg_second_purgatorio, avg_second_paradiso]\n",
    "\n",
    "float_formatter = \"{:.2f}\".format\n",
    "\n",
    "fig = go.Figure(\n",
    "    data=[\n",
    "        go.Bar(name='Mean Sentiment', x=sections, y=mean_sent, text=[ \"{:0.3f}\".format(x) for x in mean_sent],\n",
    "            textposition='auto'),\n",
    "        go.Bar(name='Mean First Derivative', x=sections, y=mean_first_deriv, text=[ \"{:0.3f}\".format(x) for x in mean_first_deriv],\n",
    "            textposition='auto'),\n",
    "        go.Bar(name='Mean Second Derivative', x=sections, y=mean_second_deriv, text=[ \"{:0.3f}\".format(x) for x in mean_second_deriv],\n",
    "            textposition='auto')\n",
    "])\n",
    "\n",
    "fig.update_layout(\n",
    "    barmode='group',\n",
    "    xaxis=dict(\n",
    "        tickfont=dict(\n",
    "            family='Arial',\n",
    "            size=15,\n",
    "            color='rgb(82, 82, 82)',\n",
    "        ),\n",
    "    ),\n",
    "    showlegend=True,\n",
    "    plot_bgcolor='white',\n",
    "    title = dict(\n",
    "        text = \"Average Sentiment per Section\",\n",
    "        x = 0.5\n",
    "    )\n",
    ")\n",
    "\n",
    "fig.show()"
   ]
  },
  {
   "cell_type": "code",
   "execution_count": null,
   "metadata": {},
   "outputs": [],
   "source": []
  },
  {
   "cell_type": "code",
   "execution_count": null,
   "metadata": {},
   "outputs": [],
   "source": []
  }
 ],
 "metadata": {
  "kernelspec": {
   "display_name": "Python 3",
   "language": "python",
   "name": "python3"
  },
  "language_info": {
   "codemirror_mode": {
    "name": "ipython",
    "version": 3
   },
   "file_extension": ".py",
   "mimetype": "text/x-python",
   "name": "python",
   "nbconvert_exporter": "python",
   "pygments_lexer": "ipython3",
   "version": "3.7.3"
  },
  "toc": {
   "base_numbering": 1,
   "nav_menu": {},
   "number_sections": true,
   "sideBar": true,
   "skip_h1_title": false,
   "title_cell": "Table of Contents",
   "title_sidebar": "Contents",
   "toc_cell": false,
   "toc_position": {},
   "toc_section_display": true,
   "toc_window_display": false
  }
 },
 "nbformat": 4,
 "nbformat_minor": 2
}
