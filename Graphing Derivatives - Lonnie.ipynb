{
 "cells": [
  {
   "cell_type": "code",
   "execution_count": null,
   "metadata": {},
   "outputs": [],
   "source": [
    "import pandas as pd\n",
    "import numpy as np\n",
    "import os\n",
    "import seaborn as sns; sns.set()\n",
    "import matplotlib.pyplot as plt\n",
    "%matplotlib inline\n",
    "from sklearn.preprocessing import normalize"
   ]
  },
  {
   "cell_type": "markdown",
   "metadata": {},
   "source": [
    "## Inferno Graphing"
   ]
  },
  {
   "cell_type": "code",
   "execution_count": null,
   "metadata": {
    "scrolled": false
   },
   "outputs": [],
   "source": [
    "df = pd.read_csv('data/infernosentiment.csv')\n",
    "df.head()"
   ]
  },
  {
   "cell_type": "code",
   "execution_count": null,
   "metadata": {
    "scrolled": true
   },
   "outputs": [],
   "source": [
    "# First Derivative\n",
    "dy = np.zeros(df['Sentiment'].shape,np.float)\n",
    "dy[0:-1] = np.diff(df['Sentiment'])/np.diff(df['Canto'])\n",
    "dy[-1] = (df['Sentiment'].tolist()[-1] - df['Sentiment'].tolist()[-2])/(df['Canto'].tolist()[-1] - df['Canto'].tolist()[-2])\n",
    "\n",
    "# Second Derivative\n",
    "dy2 = np.zeros(dy.shape,np.float)\n",
    "dy2[0:-1] = np.diff(dy)/np.diff(df['Canto'])\n",
    "dy2[-1] = (dy.tolist()[-1] - dy.tolist()[-2])/(df['Canto'].tolist()[-1] - df['Canto'].tolist()[-2])\n",
    "\n",
    "# Create df\n",
    "infernoderivative = df\n",
    "infernoderivative['FirstDerivative'] = dy\n",
    "infernoderivative['SecondDerivative'] = dy2\n",
    "infernoderivative.to_csv('data/infernoderivative.csv',index=False)\n",
    "\n",
    "# Create figure\n",
    "fig, axs = plt.subplots(3,sharex=True)\n",
    "fig.suptitle('Inferno Sentiment Analysis')\n",
    "fig.set_figheight(24)\n",
    "fig.set_figwidth(12)\n",
    "axs[0].plot(df['Canto'], df['Sentiment'])\n",
    "axs[0].set(ylabel='Sentiment Polarity')\n",
    "axs[1].plot(df['Canto'], dy)\n",
    "axs[1].set(ylabel='Derivative of Sentiment Polarity')\n",
    "axs[2].plot(df['Canto'], dy2)\n",
    "axs[2].set(ylabel='Second Derivative of Sentiment Polarity',xlabel='Canto')"
   ]
  },
  {
   "cell_type": "markdown",
   "metadata": {},
   "source": [
    "## Purgatorio Graphing"
   ]
  },
  {
   "cell_type": "code",
   "execution_count": null,
   "metadata": {
    "scrolled": false
   },
   "outputs": [],
   "source": [
    "df = pd.read_csv('data/purgatoriosentiment.csv')\n",
    "df.head()"
   ]
  },
  {
   "cell_type": "code",
   "execution_count": null,
   "metadata": {},
   "outputs": [],
   "source": [
    "# First Derivative\n",
    "dy = np.zeros(df['Sentiment'].shape,np.float)\n",
    "dy[0:-1] = np.diff(df['Sentiment'])/np.diff(df['Canto'])\n",
    "dy[-1] = (df['Sentiment'].tolist()[-1] - df['Sentiment'].tolist()[-2])/(df['Canto'].tolist()[-1] - df['Canto'].tolist()[-2])\n",
    "\n",
    "# Second Derivative\n",
    "dy2 = np.zeros(dy.shape,np.float)\n",
    "dy2[0:-1] = np.diff(dy)/np.diff(df['Canto'])\n",
    "dy2[-1] = (dy.tolist()[-1] - dy.tolist()[-2])/(df['Canto'].tolist()[-1] - df['Canto'].tolist()[-2])\n",
    "\n",
    "# Create df\n",
    "purgatorioderivative = df\n",
    "purgatorioderivative['FirstDerivative'] = dy\n",
    "purgatorioderivative['SecondDerivative'] = dy2\n",
    "purgatorioderivative.to_csv('data/purgatorioderivative.csv',index=False)\n",
    "\n",
    "# Create figure\n",
    "fig, axs = plt.subplots(3,sharex=True)\n",
    "fig.suptitle('Purgatorio Sentiment Analysis')\n",
    "fig.set_figheight(24)\n",
    "fig.set_figwidth(12)\n",
    "axs[0].plot(df['Canto'], df['Sentiment'])\n",
    "axs[0].set(ylabel='Sentiment Polarity')\n",
    "axs[1].plot(df['Canto'], dy)\n",
    "axs[1].set(ylabel='Derivative of Sentiment Polarity')\n",
    "axs[2].plot(df['Canto'], dy2)\n",
    "axs[2].set(ylabel='Second Derivative of Sentiment Polarity',xlabel='Canto')"
   ]
  },
  {
   "cell_type": "markdown",
   "metadata": {},
   "source": [
    "## Paradiso Graphing"
   ]
  },
  {
   "cell_type": "code",
   "execution_count": null,
   "metadata": {
    "scrolled": false
   },
   "outputs": [],
   "source": [
    "df = pd.read_csv('data/paradisosentiment.csv')\n",
    "df.head()"
   ]
  },
  {
   "cell_type": "code",
   "execution_count": null,
   "metadata": {
    "scrolled": true
   },
   "outputs": [],
   "source": [
    "# First Derivative\n",
    "dy = np.zeros(df['Sentiment'].shape,np.float)\n",
    "dy[0:-1] = np.diff(df['Sentiment'])/np.diff(df['Canto'])\n",
    "dy[-1] = (df['Sentiment'].tolist()[-1] - df['Sentiment'].tolist()[-2])/(df['Canto'].tolist()[-1] - df['Canto'].tolist()[-2])\n",
    "\n",
    "# Second Derivative\n",
    "dy2 = np.zeros(dy.shape,np.float)\n",
    "dy2[0:-1] = np.diff(dy)/np.diff(df['Canto'])\n",
    "dy2[-1] = (dy.tolist()[-1] - dy.tolist()[-2])/(df['Canto'].tolist()[-1] - df['Canto'].tolist()[-2])\n",
    "\n",
    "# Create df\n",
    "purgatorioderivative = df\n",
    "purgatorioderivative['FirstDerivative'] = dy\n",
    "purgatorioderivative['SecondDerivative'] = dy2\n",
    "purgatorioderivative.to_csv('data/paradisoderivative.csv',index=False)\n",
    "\n",
    "# Create figure\n",
    "fig, axs = plt.subplots(3,sharex=True)\n",
    "fig.suptitle('Purgatorio Sentiment Analysis')\n",
    "fig.set_figheight(24)\n",
    "fig.set_figwidth(12)\n",
    "axs[0].plot(df['Canto'], df['Sentiment'])\n",
    "axs[0].set(ylabel='Sentiment Polarity')\n",
    "axs[1].plot(df['Canto'], dy)\n",
    "axs[1].set(ylabel='Derivative of Sentiment Polarity')\n",
    "axs[2].plot(df['Canto'], dy2)\n",
    "axs[2].set(ylabel='Second Derivative of Sentiment Polarity',xlabel='Canto')"
   ]
  }
 ],
 "metadata": {
  "kernelspec": {
   "display_name": "Python 3",
   "language": "python",
   "name": "python3"
  },
  "language_info": {
   "codemirror_mode": {
    "name": "ipython",
    "version": 3
   },
   "file_extension": ".py",
   "mimetype": "text/x-python",
   "name": "python",
   "nbconvert_exporter": "python",
   "pygments_lexer": "ipython3",
   "version": "3.7.4"
  },
  "toc": {
   "base_numbering": 1,
   "nav_menu": {},
   "number_sections": true,
   "sideBar": true,
   "skip_h1_title": false,
   "title_cell": "Table of Contents",
   "title_sidebar": "Contents",
   "toc_cell": false,
   "toc_position": {},
   "toc_section_display": true,
   "toc_window_display": false
  }
 },
 "nbformat": 4,
 "nbformat_minor": 2
}
